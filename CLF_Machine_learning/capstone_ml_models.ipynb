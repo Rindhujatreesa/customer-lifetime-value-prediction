{
 "cells": [
  {
   "cell_type": "code",
   "execution_count": 2,
   "metadata": {
    "colab": {
     "base_uri": "https://localhost:8080/"
    },
    "id": "DLKl-P6iGs66",
    "outputId": "af72cf77-1666-4edd-9f38-846e5e839fd7"
   },
   "outputs": [
    {
     "name": "stdout",
     "output_type": "stream",
     "text": [
      "Requirement already satisfied: boto3 in /opt/homebrew/lib/python3.11/site-packages (1.34.39)\n",
      "Requirement already satisfied: botocore<1.35.0,>=1.34.39 in /opt/homebrew/lib/python3.11/site-packages (from boto3) (1.34.39)\n",
      "Requirement already satisfied: jmespath<2.0.0,>=0.7.1 in /opt/homebrew/lib/python3.11/site-packages (from boto3) (1.0.1)\n",
      "Requirement already satisfied: s3transfer<0.11.0,>=0.10.0 in /opt/homebrew/lib/python3.11/site-packages (from boto3) (0.10.0)\n",
      "Requirement already satisfied: python-dateutil<3.0.0,>=2.1 in /opt/homebrew/lib/python3.11/site-packages (from botocore<1.35.0,>=1.34.39->boto3) (2.8.2)\n",
      "Requirement already satisfied: urllib3<2.1,>=1.25.4 in /opt/homebrew/lib/python3.11/site-packages (from botocore<1.35.0,>=1.34.39->boto3) (2.0.7)\n",
      "Requirement already satisfied: six>=1.5 in /opt/homebrew/lib/python3.11/site-packages (from python-dateutil<3.0.0,>=2.1->botocore<1.35.0,>=1.34.39->boto3) (1.16.0)\n",
      "\n",
      "\u001b[1m[\u001b[0m\u001b[34;49mnotice\u001b[0m\u001b[1;39;49m]\u001b[0m\u001b[39;49m A new release of pip is available: \u001b[0m\u001b[31;49m24.1\u001b[0m\u001b[39;49m -> \u001b[0m\u001b[32;49m24.1.1\u001b[0m\n",
      "\u001b[1m[\u001b[0m\u001b[34;49mnotice\u001b[0m\u001b[1;39;49m]\u001b[0m\u001b[39;49m To update, run: \u001b[0m\u001b[32;49mpython3.11 -m pip install --upgrade pip\u001b[0m\n"
     ]
    }
   ],
   "source": [
    "!pip3 install boto3"
   ]
  },
  {
   "cell_type": "code",
   "execution_count": 3,
   "metadata": {
    "colab": {
     "base_uri": "https://localhost:8080/"
    },
    "id": "rUKl5bmMGs4Y",
    "outputId": "0f9dd2be-0359-413d-84c4-a4abab18cb80"
   },
   "outputs": [
    {
     "name": "stdout",
     "output_type": "stream",
     "text": [
      "Collecting s3fs\n",
      "  Downloading s3fs-2024.6.1-py3-none-any.whl.metadata (1.6 kB)\n",
      "Collecting aiobotocore<3.0.0,>=2.5.4 (from s3fs)\n",
      "  Downloading aiobotocore-2.13.1-py3-none-any.whl.metadata (22 kB)\n",
      "Collecting fsspec==2024.6.1.* (from s3fs)\n",
      "  Downloading fsspec-2024.6.1-py3-none-any.whl.metadata (11 kB)\n",
      "Collecting aiohttp!=4.0.0a0,!=4.0.0a1 (from s3fs)\n",
      "  Downloading aiohttp-3.9.5-cp311-cp311-macosx_11_0_arm64.whl.metadata (7.5 kB)\n",
      "Collecting botocore<1.34.132,>=1.34.70 (from aiobotocore<3.0.0,>=2.5.4->s3fs)\n",
      "  Downloading botocore-1.34.131-py3-none-any.whl.metadata (5.7 kB)\n",
      "Requirement already satisfied: wrapt<2.0.0,>=1.10.10 in /opt/homebrew/lib/python3.11/site-packages (from aiobotocore<3.0.0,>=2.5.4->s3fs) (1.14.1)\n",
      "Collecting aioitertools<1.0.0,>=0.5.1 (from aiobotocore<3.0.0,>=2.5.4->s3fs)\n",
      "  Downloading aioitertools-0.11.0-py3-none-any.whl.metadata (3.3 kB)\n",
      "Collecting aiosignal>=1.1.2 (from aiohttp!=4.0.0a0,!=4.0.0a1->s3fs)\n",
      "  Using cached aiosignal-1.3.1-py3-none-any.whl.metadata (4.0 kB)\n",
      "Requirement already satisfied: attrs>=17.3.0 in /opt/homebrew/lib/python3.11/site-packages (from aiohttp!=4.0.0a0,!=4.0.0a1->s3fs) (23.1.0)\n",
      "Collecting frozenlist>=1.1.1 (from aiohttp!=4.0.0a0,!=4.0.0a1->s3fs)\n",
      "  Downloading frozenlist-1.4.1-cp311-cp311-macosx_11_0_arm64.whl.metadata (12 kB)\n",
      "Collecting multidict<7.0,>=4.5 (from aiohttp!=4.0.0a0,!=4.0.0a1->s3fs)\n",
      "  Downloading multidict-6.0.5-cp311-cp311-macosx_11_0_arm64.whl.metadata (4.2 kB)\n",
      "Collecting yarl<2.0,>=1.0 (from aiohttp!=4.0.0a0,!=4.0.0a1->s3fs)\n",
      "  Downloading yarl-1.9.4-cp311-cp311-macosx_11_0_arm64.whl.metadata (31 kB)\n",
      "Requirement already satisfied: jmespath<2.0.0,>=0.7.1 in /opt/homebrew/lib/python3.11/site-packages (from botocore<1.34.132,>=1.34.70->aiobotocore<3.0.0,>=2.5.4->s3fs) (1.0.1)\n",
      "Requirement already satisfied: python-dateutil<3.0.0,>=2.1 in /opt/homebrew/lib/python3.11/site-packages (from botocore<1.34.132,>=1.34.70->aiobotocore<3.0.0,>=2.5.4->s3fs) (2.8.2)\n",
      "Requirement already satisfied: urllib3!=2.2.0,<3,>=1.25.4 in /opt/homebrew/lib/python3.11/site-packages (from botocore<1.34.132,>=1.34.70->aiobotocore<3.0.0,>=2.5.4->s3fs) (2.0.7)\n",
      "Requirement already satisfied: idna>=2.0 in /opt/homebrew/lib/python3.11/site-packages (from yarl<2.0,>=1.0->aiohttp!=4.0.0a0,!=4.0.0a1->s3fs) (3.4)\n",
      "Requirement already satisfied: six>=1.5 in /opt/homebrew/lib/python3.11/site-packages (from python-dateutil<3.0.0,>=2.1->botocore<1.34.132,>=1.34.70->aiobotocore<3.0.0,>=2.5.4->s3fs) (1.16.0)\n",
      "Downloading s3fs-2024.6.1-py3-none-any.whl (29 kB)\n",
      "Downloading fsspec-2024.6.1-py3-none-any.whl (177 kB)\n",
      "\u001b[2K   \u001b[90m━━━━━━━━━━━━━━━━━━━━━━━━━━━━━━━━━━━━━━━━\u001b[0m \u001b[32m177.6/177.6 kB\u001b[0m \u001b[31m5.8 MB/s\u001b[0m eta \u001b[36m0:00:00\u001b[0m\n",
      "\u001b[?25hDownloading aiobotocore-2.13.1-py3-none-any.whl (76 kB)\n",
      "\u001b[2K   \u001b[90m━━━━━━━━━━━━━━━━━━━━━━━━━━━━━━━━━━━━━━━━\u001b[0m \u001b[32m76.9/76.9 kB\u001b[0m \u001b[31m13.6 MB/s\u001b[0m eta \u001b[36m0:00:00\u001b[0m\n",
      "\u001b[?25hDownloading aiohttp-3.9.5-cp311-cp311-macosx_11_0_arm64.whl (390 kB)\n",
      "\u001b[2K   \u001b[90m━━━━━━━━━━━━━━━━━━━━━━━━━━━━━━━━━━━━━━━━\u001b[0m \u001b[32m390.2/390.2 kB\u001b[0m \u001b[31m13.8 MB/s\u001b[0m eta \u001b[36m0:00:00\u001b[0m\n",
      "\u001b[?25hDownloading aioitertools-0.11.0-py3-none-any.whl (23 kB)\n",
      "Using cached aiosignal-1.3.1-py3-none-any.whl (7.6 kB)\n",
      "Downloading botocore-1.34.131-py3-none-any.whl (12.3 MB)\n",
      "\u001b[2K   \u001b[90m━━━━━━━━━━━━━━━━━━━━━━━━━━━━━━━━━━━━━━━━\u001b[0m \u001b[32m12.3/12.3 MB\u001b[0m \u001b[31m22.1 MB/s\u001b[0m eta \u001b[36m0:00:00\u001b[0m00:01\u001b[0m00:01\u001b[0m\n",
      "\u001b[?25hDownloading frozenlist-1.4.1-cp311-cp311-macosx_11_0_arm64.whl (53 kB)\n",
      "\u001b[2K   \u001b[90m━━━━━━━━━━━━━━━━━━━━━━━━━━━━━━━━━━━━━━━━\u001b[0m \u001b[32m53.4/53.4 kB\u001b[0m \u001b[31m5.9 MB/s\u001b[0m eta \u001b[36m0:00:00\u001b[0m\n",
      "\u001b[?25hDownloading multidict-6.0.5-cp311-cp311-macosx_11_0_arm64.whl (30 kB)\n",
      "Downloading yarl-1.9.4-cp311-cp311-macosx_11_0_arm64.whl (81 kB)\n",
      "\u001b[2K   \u001b[90m━━━━━━━━━━━━━━━━━━━━━━━━━━━━━━━━━━━━━━━━\u001b[0m \u001b[32m81.2/81.2 kB\u001b[0m \u001b[31m13.1 MB/s\u001b[0m eta \u001b[36m0:00:00\u001b[0m\n",
      "\u001b[?25hInstalling collected packages: multidict, fsspec, frozenlist, aioitertools, yarl, botocore, aiosignal, aiohttp, aiobotocore, s3fs\n",
      "  Attempting uninstall: fsspec\n",
      "    Found existing installation: fsspec 2023.10.0\n",
      "    Uninstalling fsspec-2023.10.0:\n",
      "      Successfully uninstalled fsspec-2023.10.0\n",
      "  Attempting uninstall: botocore\n",
      "    Found existing installation: botocore 1.34.39\n",
      "    Uninstalling botocore-1.34.39:\n",
      "      Successfully uninstalled botocore-1.34.39\n",
      "Successfully installed aiobotocore-2.13.1 aiohttp-3.9.5 aioitertools-0.11.0 aiosignal-1.3.1 botocore-1.34.131 frozenlist-1.4.1 fsspec-2024.6.1 multidict-6.0.5 s3fs-2024.6.1 yarl-1.9.4\n",
      "\n",
      "\u001b[1m[\u001b[0m\u001b[34;49mnotice\u001b[0m\u001b[1;39;49m]\u001b[0m\u001b[39;49m A new release of pip is available: \u001b[0m\u001b[31;49m24.1\u001b[0m\u001b[39;49m -> \u001b[0m\u001b[32;49m24.1.1\u001b[0m\n",
      "\u001b[1m[\u001b[0m\u001b[34;49mnotice\u001b[0m\u001b[1;39;49m]\u001b[0m\u001b[39;49m To update, run: \u001b[0m\u001b[32;49mpython3.11 -m pip install --upgrade pip\u001b[0m\n"
     ]
    }
   ],
   "source": [
    "!pip3 install s3fs"
   ]
  },
  {
   "cell_type": "code",
   "execution_count": 4,
   "metadata": {
    "id": "kjldZA1xGs1y"
   },
   "outputs": [],
   "source": [
    "import boto3\n",
    "import pandas as pd\n",
    "s3 = boto3.client('s3')"
   ]
  },
  {
   "cell_type": "code",
   "execution_count": 7,
   "metadata": {
    "id": "FAiDS1JMGsy4"
   },
   "outputs": [],
   "source": [
    "# # please do not share any access keys\n",
    "# s3 = boto3.resource(\n",
    "#     service_name='s3',\n",
    "#     region_name='us-east-1',\n",
    "#     aws_access_key_id='*********',\n",
    "#     aws_secret_access_key='**************'\n",
    "# )\n"
   ]
  },
  {
   "cell_type": "code",
   "execution_count": 8,
   "metadata": {
    "colab": {
     "base_uri": "https://localhost:8080/"
    },
    "id": "3rUu-QVjG0Bv",
    "outputId": "576297df-05fb-4b6c-f9fd-b590f5f95b54"
   },
   "outputs": [
    {
     "name": "stdout",
     "output_type": "stream",
     "text": [
      "capstone-clv\n",
      "data603output\n",
      "flipkart-data\n"
     ]
    }
   ],
   "source": [
    "# Print out bucket names\n",
    "for bucket in s3.buckets.all():\n",
    "    print(bucket.name)"
   ]
  },
  {
   "cell_type": "code",
   "execution_count": null,
   "metadata": {
    "colab": {
     "base_uri": "https://localhost:8080/"
    },
    "id": "tf2Vihz1Gz-z",
    "outputId": "e675bdc9-d46d-44ef-bc96-7044349426d0"
   },
   "outputs": [
    {
     "name": "stdout",
     "output_type": "stream",
     "text": [
      "s3.ObjectSummary(bucket_name='capstone-clv', key='AutoInsurance.csv')\n"
     ]
    }
   ],
   "source": [
    "for obj in s3.Bucket('capstone-clv').objects.all():\n",
    "    print(obj)"
   ]
  },
  {
   "cell_type": "code",
   "execution_count": null,
   "metadata": {
    "id": "hP2bWpLRGz7A"
   },
   "outputs": [],
   "source": [
    "# To Upload a file in s3 buckect use the below code\n",
    "# s3.Bucket('capstone-clv').upload_file(Filename='', Key='')\n",
    "\n",
    "# for obj in s3.Bucket('krishtest1').objects.all():\n",
    "#    print(obj)"
   ]
  },
  {
   "cell_type": "code",
   "execution_count": 9,
   "metadata": {
    "id": "2zNWu9CPG4JC"
   },
   "outputs": [],
   "source": [
    "obj = s3.Bucket('capstone-clv').Object('AutoInsurance.csv').get()\n",
    "df = pd.read_csv(obj['Body'])"
   ]
  },
  {
   "cell_type": "code",
   "execution_count": 10,
   "metadata": {
    "colab": {
     "base_uri": "https://localhost:8080/"
    },
    "id": "VVhXbBVxG4FY",
    "outputId": "25ba9223-8f0e-4756-ba4c-e98f3c83f3e4"
   },
   "outputs": [
    {
     "name": "stdout",
     "output_type": "stream",
     "text": [
      "<class 'pandas.core.frame.DataFrame'>\n",
      "RangeIndex: 9134 entries, 0 to 9133\n",
      "Data columns (total 24 columns):\n",
      " #   Column                         Non-Null Count  Dtype  \n",
      "---  ------                         --------------  -----  \n",
      " 0   Customer                       9134 non-null   object \n",
      " 1   State                          9134 non-null   object \n",
      " 2   Customer Lifetime Value        9134 non-null   float64\n",
      " 3   Response                       9134 non-null   object \n",
      " 4   Coverage                       9134 non-null   object \n",
      " 5   Education                      9134 non-null   object \n",
      " 6   Effective To Date              9134 non-null   object \n",
      " 7   EmploymentStatus               9134 non-null   object \n",
      " 8   Gender                         9134 non-null   object \n",
      " 9   Income                         9134 non-null   int64  \n",
      " 10  Location Code                  9134 non-null   object \n",
      " 11  Marital Status                 9134 non-null   object \n",
      " 12  Monthly Premium Auto           9134 non-null   int64  \n",
      " 13  Months Since Last Claim        9134 non-null   int64  \n",
      " 14  Months Since Policy Inception  9134 non-null   int64  \n",
      " 15  Number of Open Complaints      9134 non-null   int64  \n",
      " 16  Number of Policies             9134 non-null   int64  \n",
      " 17  Policy Type                    9134 non-null   object \n",
      " 18  Policy                         9134 non-null   object \n",
      " 19  Renew Offer Type               9134 non-null   object \n",
      " 20  Sales Channel                  9134 non-null   object \n",
      " 21  Total Claim Amount             9134 non-null   float64\n",
      " 22  Vehicle Class                  9134 non-null   object \n",
      " 23  Vehicle Size                   9134 non-null   object \n",
      "dtypes: float64(2), int64(6), object(16)\n",
      "memory usage: 1.7+ MB\n"
     ]
    }
   ],
   "source": [
    "df.info()"
   ]
  },
  {
   "cell_type": "code",
   "execution_count": 11,
   "metadata": {
    "id": "2iCGcg-HAFhV"
   },
   "outputs": [],
   "source": [
    "import pandas as pd\n",
    "import numpy as np"
   ]
  },
  {
   "cell_type": "code",
   "execution_count": 12,
   "metadata": {
    "colab": {
     "base_uri": "https://localhost:8080/"
    },
    "id": "Vg55QbYCAX_T",
    "outputId": "0c2f62a4-82d4-45f1-d4bb-2f7048618f28"
   },
   "outputs": [
    {
     "data": {
      "text/plain": [
       "(9134, 24)"
      ]
     },
     "execution_count": 12,
     "metadata": {},
     "output_type": "execute_result"
    }
   ],
   "source": [
    "df.shape"
   ]
  },
  {
   "cell_type": "code",
   "execution_count": 13,
   "metadata": {
    "colab": {
     "base_uri": "https://localhost:8080/"
    },
    "id": "ZOZH7SHJAYw4",
    "outputId": "9f35134c-4b3b-4029-e11e-7fb27c0d5465"
   },
   "outputs": [
    {
     "name": "stdout",
     "output_type": "stream",
     "text": [
      "<class 'pandas.core.frame.DataFrame'>\n",
      "RangeIndex: 9134 entries, 0 to 9133\n",
      "Data columns (total 24 columns):\n",
      " #   Column                         Non-Null Count  Dtype  \n",
      "---  ------                         --------------  -----  \n",
      " 0   Customer                       9134 non-null   object \n",
      " 1   State                          9134 non-null   object \n",
      " 2   Customer Lifetime Value        9134 non-null   float64\n",
      " 3   Response                       9134 non-null   object \n",
      " 4   Coverage                       9134 non-null   object \n",
      " 5   Education                      9134 non-null   object \n",
      " 6   Effective To Date              9134 non-null   object \n",
      " 7   EmploymentStatus               9134 non-null   object \n",
      " 8   Gender                         9134 non-null   object \n",
      " 9   Income                         9134 non-null   int64  \n",
      " 10  Location Code                  9134 non-null   object \n",
      " 11  Marital Status                 9134 non-null   object \n",
      " 12  Monthly Premium Auto           9134 non-null   int64  \n",
      " 13  Months Since Last Claim        9134 non-null   int64  \n",
      " 14  Months Since Policy Inception  9134 non-null   int64  \n",
      " 15  Number of Open Complaints      9134 non-null   int64  \n",
      " 16  Number of Policies             9134 non-null   int64  \n",
      " 17  Policy Type                    9134 non-null   object \n",
      " 18  Policy                         9134 non-null   object \n",
      " 19  Renew Offer Type               9134 non-null   object \n",
      " 20  Sales Channel                  9134 non-null   object \n",
      " 21  Total Claim Amount             9134 non-null   float64\n",
      " 22  Vehicle Class                  9134 non-null   object \n",
      " 23  Vehicle Size                   9134 non-null   object \n",
      "dtypes: float64(2), int64(6), object(16)\n",
      "memory usage: 1.7+ MB\n"
     ]
    }
   ],
   "source": [
    "df.info()"
   ]
  },
  {
   "cell_type": "code",
   "execution_count": 14,
   "metadata": {
    "colab": {
     "base_uri": "https://localhost:8080/"
    },
    "id": "LtNhKfypAqwb",
    "outputId": "8e742e0b-c8dc-4f54-ede9-f8a66ba34225"
   },
   "outputs": [
    {
     "data": {
      "text/plain": [
       "Index(['Customer', 'State', 'Customer Lifetime Value', 'Response', 'Coverage',\n",
       "       'Education', 'Effective To Date', 'EmploymentStatus', 'Gender',\n",
       "       'Income', 'Location Code', 'Marital Status', 'Monthly Premium Auto',\n",
       "       'Months Since Last Claim', 'Months Since Policy Inception',\n",
       "       'Number of Open Complaints', 'Number of Policies', 'Policy Type',\n",
       "       'Policy', 'Renew Offer Type', 'Sales Channel', 'Total Claim Amount',\n",
       "       'Vehicle Class', 'Vehicle Size'],\n",
       "      dtype='object')"
      ]
     },
     "execution_count": 14,
     "metadata": {},
     "output_type": "execute_result"
    }
   ],
   "source": [
    "df.columns"
   ]
  },
  {
   "cell_type": "code",
   "execution_count": 15,
   "metadata": {
    "id": "LxwrY5XDAs62"
   },
   "outputs": [],
   "source": [
    "df.columns =[x.lower() for x in df.columns]"
   ]
  },
  {
   "cell_type": "code",
   "execution_count": 16,
   "metadata": {
    "id": "qlZYJX-nD5Mx"
   },
   "outputs": [],
   "source": [
    "df.columns = df.columns.str.replace(' ', '_')"
   ]
  },
  {
   "cell_type": "code",
   "execution_count": 17,
   "metadata": {
    "colab": {
     "base_uri": "https://localhost:8080/"
    },
    "id": "6-pGCob1D5J0",
    "outputId": "79e316ad-0b21-4b7b-d0af-c8504b3c3411"
   },
   "outputs": [
    {
     "data": {
      "text/plain": [
       "Index(['customer', 'state', 'customer_lifetime_value', 'response', 'coverage',\n",
       "       'education', 'effective_to_date', 'employmentstatus', 'gender',\n",
       "       'income', 'location_code', 'marital_status', 'monthly_premium_auto',\n",
       "       'months_since_last_claim', 'months_since_policy_inception',\n",
       "       'number_of_open_complaints', 'number_of_policies', 'policy_type',\n",
       "       'policy', 'renew_offer_type', 'sales_channel', 'total_claim_amount',\n",
       "       'vehicle_class', 'vehicle_size'],\n",
       "      dtype='object')"
      ]
     },
     "execution_count": 17,
     "metadata": {},
     "output_type": "execute_result"
    }
   ],
   "source": [
    "df.columns"
   ]
  },
  {
   "cell_type": "code",
   "execution_count": 18,
   "metadata": {
    "id": "bPfnZGR7NaC3"
   },
   "outputs": [],
   "source": [
    "df.to_csv('data.csv', index=False)"
   ]
  },
  {
   "cell_type": "code",
   "execution_count": 19,
   "metadata": {
    "colab": {
     "base_uri": "https://localhost:8080/"
    },
    "id": "VHQXObAFAaxg",
    "outputId": "64139d58-1cc1-42c0-dbfa-ed1fb2e22745"
   },
   "outputs": [
    {
     "name": "stderr",
     "output_type": "stream",
     "text": [
      "/var/folders/c0/f1s_z1s10db9z5zsf0wzj1yw0000gn/T/ipykernel_66667/3937611957.py:1: UserWarning: Could not infer format, so each element will be parsed individually, falling back to `dateutil`. To ensure parsing is consistent and as-expected, please specify a format.\n",
      "  df['effective_to_date'] = pd.to_datetime(df['effective_to_date'])\n"
     ]
    }
   ],
   "source": [
    "df['effective_to_date'] = pd.to_datetime(df['effective_to_date'])"
   ]
  },
  {
   "cell_type": "code",
   "execution_count": null,
   "metadata": {
    "colab": {
     "base_uri": "https://localhost:8080/"
    },
    "id": "LuDSy3iUEKdK",
    "outputId": "8eb5e6f6-8bad-464d-e731-17517ee4343a"
   },
   "outputs": [
    {
     "name": "stdout",
     "output_type": "stream",
     "text": [
      "<class 'pandas.core.frame.DataFrame'>\n",
      "RangeIndex: 9134 entries, 0 to 9133\n",
      "Data columns (total 24 columns):\n",
      " #   Column                         Non-Null Count  Dtype         \n",
      "---  ------                         --------------  -----         \n",
      " 0   customer                       9134 non-null   object        \n",
      " 1   state                          9134 non-null   object        \n",
      " 2   customer_lifetime_value        9134 non-null   float64       \n",
      " 3   response                       9134 non-null   object        \n",
      " 4   coverage                       9134 non-null   object        \n",
      " 5   education                      9134 non-null   object        \n",
      " 6   effective_to_date              9134 non-null   datetime64[ns]\n",
      " 7   employmentstatus               9134 non-null   object        \n",
      " 8   gender                         9134 non-null   object        \n",
      " 9   income                         9134 non-null   int64         \n",
      " 10  location_code                  9134 non-null   object        \n",
      " 11  marital_status                 9134 non-null   object        \n",
      " 12  monthly_premium_auto           9134 non-null   int64         \n",
      " 13  months_since_last_claim        9134 non-null   int64         \n",
      " 14  months_since_policy_inception  9134 non-null   int64         \n",
      " 15  number_of_open_complaints      9134 non-null   int64         \n",
      " 16  number_of_policies             9134 non-null   int64         \n",
      " 17  policy_type                    9134 non-null   object        \n",
      " 18  policy                         9134 non-null   object        \n",
      " 19  renew_offer_type               9134 non-null   object        \n",
      " 20  sales_channel                  9134 non-null   object        \n",
      " 21  total_claim_amount             9134 non-null   float64       \n",
      " 22  vehicle_class                  9134 non-null   object        \n",
      " 23  vehicle_size                   9134 non-null   object        \n",
      "dtypes: datetime64[ns](1), float64(2), int64(6), object(15)\n",
      "memory usage: 1.7+ MB\n"
     ]
    }
   ],
   "source": [
    "df.info()"
   ]
  },
  {
   "cell_type": "code",
   "execution_count": 31,
   "metadata": {
    "colab": {
     "base_uri": "https://localhost:8080/",
     "height": 617
    },
    "id": "CoAqmWYqhHtI",
    "outputId": "851c6c21-2714-4147-9abe-faa33d5e9f9a"
   },
   "outputs": [
    {
     "data": {
      "text/html": [
       "<div>\n",
       "<style scoped>\n",
       "    .dataframe tbody tr th:only-of-type {\n",
       "        vertical-align: middle;\n",
       "    }\n",
       "\n",
       "    .dataframe tbody tr th {\n",
       "        vertical-align: top;\n",
       "    }\n",
       "\n",
       "    .dataframe thead th {\n",
       "        text-align: right;\n",
       "    }\n",
       "</style>\n",
       "<table border=\"1\" class=\"dataframe\">\n",
       "  <thead>\n",
       "    <tr style=\"text-align: right;\">\n",
       "      <th></th>\n",
       "      <th>customer</th>\n",
       "      <th>state</th>\n",
       "      <th>customer_lifetime_value</th>\n",
       "      <th>response</th>\n",
       "      <th>coverage</th>\n",
       "      <th>education</th>\n",
       "      <th>effective_to_date</th>\n",
       "      <th>employmentstatus</th>\n",
       "      <th>gender</th>\n",
       "      <th>income</th>\n",
       "      <th>...</th>\n",
       "      <th>months_since_policy_inception</th>\n",
       "      <th>number_of_open_complaints</th>\n",
       "      <th>number_of_policies</th>\n",
       "      <th>policy_type</th>\n",
       "      <th>policy</th>\n",
       "      <th>renew_offer_type</th>\n",
       "      <th>sales_channel</th>\n",
       "      <th>total_claim_amount</th>\n",
       "      <th>vehicle_class</th>\n",
       "      <th>vehicle_size</th>\n",
       "    </tr>\n",
       "  </thead>\n",
       "  <tbody>\n",
       "    <tr>\n",
       "      <th>0</th>\n",
       "      <td>BU79786</td>\n",
       "      <td>Washington</td>\n",
       "      <td>2763.519279</td>\n",
       "      <td>No</td>\n",
       "      <td>Basic</td>\n",
       "      <td>Bachelor</td>\n",
       "      <td>2011-02-24</td>\n",
       "      <td>Employed</td>\n",
       "      <td>F</td>\n",
       "      <td>56274</td>\n",
       "      <td>...</td>\n",
       "      <td>5</td>\n",
       "      <td>0</td>\n",
       "      <td>1</td>\n",
       "      <td>Corporate Auto</td>\n",
       "      <td>Corporate L3</td>\n",
       "      <td>Offer1</td>\n",
       "      <td>Agent</td>\n",
       "      <td>384.811147</td>\n",
       "      <td>Two-Door Car</td>\n",
       "      <td>Medsize</td>\n",
       "    </tr>\n",
       "    <tr>\n",
       "      <th>1</th>\n",
       "      <td>QZ44356</td>\n",
       "      <td>Arizona</td>\n",
       "      <td>6979.535903</td>\n",
       "      <td>No</td>\n",
       "      <td>Extended</td>\n",
       "      <td>Bachelor</td>\n",
       "      <td>2011-01-31</td>\n",
       "      <td>Unemployed</td>\n",
       "      <td>F</td>\n",
       "      <td>0</td>\n",
       "      <td>...</td>\n",
       "      <td>42</td>\n",
       "      <td>0</td>\n",
       "      <td>8</td>\n",
       "      <td>Personal Auto</td>\n",
       "      <td>Personal L3</td>\n",
       "      <td>Offer3</td>\n",
       "      <td>Agent</td>\n",
       "      <td>1131.464935</td>\n",
       "      <td>Four-Door Car</td>\n",
       "      <td>Medsize</td>\n",
       "    </tr>\n",
       "    <tr>\n",
       "      <th>2</th>\n",
       "      <td>AI49188</td>\n",
       "      <td>Nevada</td>\n",
       "      <td>12887.431650</td>\n",
       "      <td>No</td>\n",
       "      <td>Premium</td>\n",
       "      <td>Bachelor</td>\n",
       "      <td>2011-02-19</td>\n",
       "      <td>Employed</td>\n",
       "      <td>F</td>\n",
       "      <td>48767</td>\n",
       "      <td>...</td>\n",
       "      <td>38</td>\n",
       "      <td>0</td>\n",
       "      <td>2</td>\n",
       "      <td>Personal Auto</td>\n",
       "      <td>Personal L3</td>\n",
       "      <td>Offer1</td>\n",
       "      <td>Agent</td>\n",
       "      <td>566.472247</td>\n",
       "      <td>Two-Door Car</td>\n",
       "      <td>Medsize</td>\n",
       "    </tr>\n",
       "    <tr>\n",
       "      <th>3</th>\n",
       "      <td>WW63253</td>\n",
       "      <td>California</td>\n",
       "      <td>7645.861827</td>\n",
       "      <td>No</td>\n",
       "      <td>Basic</td>\n",
       "      <td>Bachelor</td>\n",
       "      <td>2011-01-20</td>\n",
       "      <td>Unemployed</td>\n",
       "      <td>M</td>\n",
       "      <td>0</td>\n",
       "      <td>...</td>\n",
       "      <td>65</td>\n",
       "      <td>0</td>\n",
       "      <td>7</td>\n",
       "      <td>Corporate Auto</td>\n",
       "      <td>Corporate L2</td>\n",
       "      <td>Offer1</td>\n",
       "      <td>Call Center</td>\n",
       "      <td>529.881344</td>\n",
       "      <td>SUV</td>\n",
       "      <td>Medsize</td>\n",
       "    </tr>\n",
       "    <tr>\n",
       "      <th>4</th>\n",
       "      <td>HB64268</td>\n",
       "      <td>Washington</td>\n",
       "      <td>2813.692575</td>\n",
       "      <td>No</td>\n",
       "      <td>Basic</td>\n",
       "      <td>Bachelor</td>\n",
       "      <td>2011-03-02</td>\n",
       "      <td>Employed</td>\n",
       "      <td>M</td>\n",
       "      <td>43836</td>\n",
       "      <td>...</td>\n",
       "      <td>44</td>\n",
       "      <td>0</td>\n",
       "      <td>1</td>\n",
       "      <td>Personal Auto</td>\n",
       "      <td>Personal L1</td>\n",
       "      <td>Offer1</td>\n",
       "      <td>Agent</td>\n",
       "      <td>138.130879</td>\n",
       "      <td>Four-Door Car</td>\n",
       "      <td>Medsize</td>\n",
       "    </tr>\n",
       "    <tr>\n",
       "      <th>...</th>\n",
       "      <td>...</td>\n",
       "      <td>...</td>\n",
       "      <td>...</td>\n",
       "      <td>...</td>\n",
       "      <td>...</td>\n",
       "      <td>...</td>\n",
       "      <td>...</td>\n",
       "      <td>...</td>\n",
       "      <td>...</td>\n",
       "      <td>...</td>\n",
       "      <td>...</td>\n",
       "      <td>...</td>\n",
       "      <td>...</td>\n",
       "      <td>...</td>\n",
       "      <td>...</td>\n",
       "      <td>...</td>\n",
       "      <td>...</td>\n",
       "      <td>...</td>\n",
       "      <td>...</td>\n",
       "      <td>...</td>\n",
       "      <td>...</td>\n",
       "    </tr>\n",
       "    <tr>\n",
       "      <th>9129</th>\n",
       "      <td>LA72316</td>\n",
       "      <td>California</td>\n",
       "      <td>23405.987980</td>\n",
       "      <td>No</td>\n",
       "      <td>Basic</td>\n",
       "      <td>Bachelor</td>\n",
       "      <td>2011-10-02</td>\n",
       "      <td>Employed</td>\n",
       "      <td>M</td>\n",
       "      <td>71941</td>\n",
       "      <td>...</td>\n",
       "      <td>89</td>\n",
       "      <td>0</td>\n",
       "      <td>2</td>\n",
       "      <td>Personal Auto</td>\n",
       "      <td>Personal L1</td>\n",
       "      <td>Offer2</td>\n",
       "      <td>Web</td>\n",
       "      <td>198.234764</td>\n",
       "      <td>Four-Door Car</td>\n",
       "      <td>Medsize</td>\n",
       "    </tr>\n",
       "    <tr>\n",
       "      <th>9130</th>\n",
       "      <td>PK87824</td>\n",
       "      <td>California</td>\n",
       "      <td>3096.511217</td>\n",
       "      <td>Yes</td>\n",
       "      <td>Extended</td>\n",
       "      <td>College</td>\n",
       "      <td>2011-12-02</td>\n",
       "      <td>Employed</td>\n",
       "      <td>F</td>\n",
       "      <td>21604</td>\n",
       "      <td>...</td>\n",
       "      <td>28</td>\n",
       "      <td>0</td>\n",
       "      <td>1</td>\n",
       "      <td>Corporate Auto</td>\n",
       "      <td>Corporate L3</td>\n",
       "      <td>Offer1</td>\n",
       "      <td>Branch</td>\n",
       "      <td>379.200000</td>\n",
       "      <td>Four-Door Car</td>\n",
       "      <td>Medsize</td>\n",
       "    </tr>\n",
       "    <tr>\n",
       "      <th>9131</th>\n",
       "      <td>TD14365</td>\n",
       "      <td>California</td>\n",
       "      <td>8163.890428</td>\n",
       "      <td>No</td>\n",
       "      <td>Extended</td>\n",
       "      <td>Bachelor</td>\n",
       "      <td>2011-06-02</td>\n",
       "      <td>Unemployed</td>\n",
       "      <td>M</td>\n",
       "      <td>0</td>\n",
       "      <td>...</td>\n",
       "      <td>37</td>\n",
       "      <td>3</td>\n",
       "      <td>2</td>\n",
       "      <td>Corporate Auto</td>\n",
       "      <td>Corporate L2</td>\n",
       "      <td>Offer1</td>\n",
       "      <td>Branch</td>\n",
       "      <td>790.784983</td>\n",
       "      <td>Four-Door Car</td>\n",
       "      <td>Medsize</td>\n",
       "    </tr>\n",
       "    <tr>\n",
       "      <th>9132</th>\n",
       "      <td>UP19263</td>\n",
       "      <td>California</td>\n",
       "      <td>7524.442436</td>\n",
       "      <td>No</td>\n",
       "      <td>Extended</td>\n",
       "      <td>College</td>\n",
       "      <td>2011-03-02</td>\n",
       "      <td>Employed</td>\n",
       "      <td>M</td>\n",
       "      <td>21941</td>\n",
       "      <td>...</td>\n",
       "      <td>3</td>\n",
       "      <td>0</td>\n",
       "      <td>3</td>\n",
       "      <td>Personal Auto</td>\n",
       "      <td>Personal L2</td>\n",
       "      <td>Offer3</td>\n",
       "      <td>Branch</td>\n",
       "      <td>691.200000</td>\n",
       "      <td>Four-Door Car</td>\n",
       "      <td>Large</td>\n",
       "    </tr>\n",
       "    <tr>\n",
       "      <th>9133</th>\n",
       "      <td>Y167826</td>\n",
       "      <td>California</td>\n",
       "      <td>2611.836866</td>\n",
       "      <td>No</td>\n",
       "      <td>Extended</td>\n",
       "      <td>College</td>\n",
       "      <td>2011-02-14</td>\n",
       "      <td>Unemployed</td>\n",
       "      <td>M</td>\n",
       "      <td>0</td>\n",
       "      <td>...</td>\n",
       "      <td>90</td>\n",
       "      <td>0</td>\n",
       "      <td>1</td>\n",
       "      <td>Corporate Auto</td>\n",
       "      <td>Corporate L3</td>\n",
       "      <td>Offer4</td>\n",
       "      <td>Call Center</td>\n",
       "      <td>369.600000</td>\n",
       "      <td>Two-Door Car</td>\n",
       "      <td>Medsize</td>\n",
       "    </tr>\n",
       "  </tbody>\n",
       "</table>\n",
       "<p>9134 rows × 24 columns</p>\n",
       "</div>"
      ],
      "text/plain": [
       "     customer       state  customer_lifetime_value response  coverage  \\\n",
       "0     BU79786  Washington              2763.519279       No     Basic   \n",
       "1     QZ44356     Arizona              6979.535903       No  Extended   \n",
       "2     AI49188      Nevada             12887.431650       No   Premium   \n",
       "3     WW63253  California              7645.861827       No     Basic   \n",
       "4     HB64268  Washington              2813.692575       No     Basic   \n",
       "...       ...         ...                      ...      ...       ...   \n",
       "9129  LA72316  California             23405.987980       No     Basic   \n",
       "9130  PK87824  California              3096.511217      Yes  Extended   \n",
       "9131  TD14365  California              8163.890428       No  Extended   \n",
       "9132  UP19263  California              7524.442436       No  Extended   \n",
       "9133  Y167826  California              2611.836866       No  Extended   \n",
       "\n",
       "     education effective_to_date employmentstatus gender  income  ...  \\\n",
       "0     Bachelor        2011-02-24         Employed      F   56274  ...   \n",
       "1     Bachelor        2011-01-31       Unemployed      F       0  ...   \n",
       "2     Bachelor        2011-02-19         Employed      F   48767  ...   \n",
       "3     Bachelor        2011-01-20       Unemployed      M       0  ...   \n",
       "4     Bachelor        2011-03-02         Employed      M   43836  ...   \n",
       "...        ...               ...              ...    ...     ...  ...   \n",
       "9129  Bachelor        2011-10-02         Employed      M   71941  ...   \n",
       "9130   College        2011-12-02         Employed      F   21604  ...   \n",
       "9131  Bachelor        2011-06-02       Unemployed      M       0  ...   \n",
       "9132   College        2011-03-02         Employed      M   21941  ...   \n",
       "9133   College        2011-02-14       Unemployed      M       0  ...   \n",
       "\n",
       "     months_since_policy_inception number_of_open_complaints  \\\n",
       "0                                5                         0   \n",
       "1                               42                         0   \n",
       "2                               38                         0   \n",
       "3                               65                         0   \n",
       "4                               44                         0   \n",
       "...                            ...                       ...   \n",
       "9129                            89                         0   \n",
       "9130                            28                         0   \n",
       "9131                            37                         3   \n",
       "9132                             3                         0   \n",
       "9133                            90                         0   \n",
       "\n",
       "      number_of_policies     policy_type        policy  renew_offer_type  \\\n",
       "0                      1  Corporate Auto  Corporate L3            Offer1   \n",
       "1                      8   Personal Auto   Personal L3            Offer3   \n",
       "2                      2   Personal Auto   Personal L3            Offer1   \n",
       "3                      7  Corporate Auto  Corporate L2            Offer1   \n",
       "4                      1   Personal Auto   Personal L1            Offer1   \n",
       "...                  ...             ...           ...               ...   \n",
       "9129                   2   Personal Auto   Personal L1            Offer2   \n",
       "9130                   1  Corporate Auto  Corporate L3            Offer1   \n",
       "9131                   2  Corporate Auto  Corporate L2            Offer1   \n",
       "9132                   3   Personal Auto   Personal L2            Offer3   \n",
       "9133                   1  Corporate Auto  Corporate L3            Offer4   \n",
       "\n",
       "      sales_channel total_claim_amount  vehicle_class vehicle_size  \n",
       "0             Agent         384.811147   Two-Door Car      Medsize  \n",
       "1             Agent        1131.464935  Four-Door Car      Medsize  \n",
       "2             Agent         566.472247   Two-Door Car      Medsize  \n",
       "3       Call Center         529.881344            SUV      Medsize  \n",
       "4             Agent         138.130879  Four-Door Car      Medsize  \n",
       "...             ...                ...            ...          ...  \n",
       "9129            Web         198.234764  Four-Door Car      Medsize  \n",
       "9130         Branch         379.200000  Four-Door Car      Medsize  \n",
       "9131         Branch         790.784983  Four-Door Car      Medsize  \n",
       "9132         Branch         691.200000  Four-Door Car        Large  \n",
       "9133    Call Center         369.600000   Two-Door Car      Medsize  \n",
       "\n",
       "[9134 rows x 24 columns]"
      ]
     },
     "execution_count": 31,
     "metadata": {},
     "output_type": "execute_result"
    }
   ],
   "source": [
    "df"
   ]
  },
  {
   "cell_type": "code",
   "execution_count": 32,
   "metadata": {
    "id": "D6OHq--OESzy"
   },
   "outputs": [],
   "source": [
    "df_cat = df.select_dtypes(include=['object'])\n",
    "df_num = df.select_dtypes(include=['number'])"
   ]
  },
  {
   "cell_type": "code",
   "execution_count": 33,
   "metadata": {
    "colab": {
     "base_uri": "https://localhost:8080/"
    },
    "id": "Kt_YTPQZEpQh",
    "outputId": "463a8e67-0e53-4856-b16b-6ad14043e9b0"
   },
   "outputs": [
    {
     "data": {
      "text/plain": [
       "Index(['customer', 'state', 'response', 'coverage', 'education',\n",
       "       'employmentstatus', 'gender', 'location_code', 'marital_status',\n",
       "       'policy_type', 'policy', 'renew_offer_type', 'sales_channel',\n",
       "       'vehicle_class', 'vehicle_size'],\n",
       "      dtype='object')"
      ]
     },
     "execution_count": 33,
     "metadata": {},
     "output_type": "execute_result"
    }
   ],
   "source": [
    "df_cat.columns"
   ]
  },
  {
   "cell_type": "code",
   "execution_count": 34,
   "metadata": {
    "colab": {
     "base_uri": "https://localhost:8080/"
    },
    "id": "OBKLpDzoEr0C",
    "outputId": "35658716-0a36-407e-ad6f-4e926c07ad2a"
   },
   "outputs": [
    {
     "data": {
      "text/plain": [
       "Index(['customer_lifetime_value', 'income', 'monthly_premium_auto',\n",
       "       'months_since_last_claim', 'months_since_policy_inception',\n",
       "       'number_of_open_complaints', 'number_of_policies',\n",
       "       'total_claim_amount'],\n",
       "      dtype='object')"
      ]
     },
     "execution_count": 34,
     "metadata": {},
     "output_type": "execute_result"
    }
   ],
   "source": [
    "df_num.columns"
   ]
  },
  {
   "cell_type": "markdown",
   "metadata": {
    "id": "uO3UTCXdHGnC"
   },
   "source": [
    "encoding categorical"
   ]
  },
  {
   "cell_type": "code",
   "execution_count": 27,
   "metadata": {
    "id": "CA5P7N_qHGKr"
   },
   "outputs": [],
   "source": [
    "from sklearn.preprocessing import LabelEncoder"
   ]
  },
  {
   "cell_type": "code",
   "execution_count": 35,
   "metadata": {
    "id": "260WYSDRE1oi"
   },
   "outputs": [],
   "source": [
    "df_cat.drop(['customer'],axis=1,inplace=True)"
   ]
  },
  {
   "cell_type": "code",
   "execution_count": 36,
   "metadata": {
    "colab": {
     "base_uri": "https://localhost:8080/"
    },
    "id": "uSQ5048VHYdQ",
    "outputId": "ca2aeeb1-e843-4d3e-b6f0-5910efb18c32"
   },
   "outputs": [
    {
     "data": {
      "text/plain": [
       "Index(['state', 'response', 'coverage', 'education', 'employmentstatus',\n",
       "       'gender', 'location_code', 'marital_status', 'policy_type', 'policy',\n",
       "       'renew_offer_type', 'sales_channel', 'vehicle_class', 'vehicle_size'],\n",
       "      dtype='object')"
      ]
     },
     "execution_count": 36,
     "metadata": {},
     "output_type": "execute_result"
    }
   ],
   "source": [
    "df_cat.columns"
   ]
  },
  {
   "cell_type": "code",
   "execution_count": 37,
   "metadata": {
    "colab": {
     "base_uri": "https://localhost:8080/",
     "height": 226
    },
    "id": "LLSQNVt1HmTB",
    "outputId": "a3c73aaf-ec23-4d23-9386-ab3fd175d78c"
   },
   "outputs": [
    {
     "data": {
      "text/html": [
       "<div>\n",
       "<style scoped>\n",
       "    .dataframe tbody tr th:only-of-type {\n",
       "        vertical-align: middle;\n",
       "    }\n",
       "\n",
       "    .dataframe tbody tr th {\n",
       "        vertical-align: top;\n",
       "    }\n",
       "\n",
       "    .dataframe thead th {\n",
       "        text-align: right;\n",
       "    }\n",
       "</style>\n",
       "<table border=\"1\" class=\"dataframe\">\n",
       "  <thead>\n",
       "    <tr style=\"text-align: right;\">\n",
       "      <th></th>\n",
       "      <th>state</th>\n",
       "      <th>response</th>\n",
       "      <th>coverage</th>\n",
       "      <th>education</th>\n",
       "      <th>employmentstatus</th>\n",
       "      <th>gender</th>\n",
       "      <th>location_code</th>\n",
       "      <th>marital_status</th>\n",
       "      <th>policy_type</th>\n",
       "      <th>policy</th>\n",
       "      <th>renew_offer_type</th>\n",
       "      <th>sales_channel</th>\n",
       "      <th>vehicle_class</th>\n",
       "      <th>vehicle_size</th>\n",
       "    </tr>\n",
       "  </thead>\n",
       "  <tbody>\n",
       "    <tr>\n",
       "      <th>0</th>\n",
       "      <td>4</td>\n",
       "      <td>0</td>\n",
       "      <td>0</td>\n",
       "      <td>0</td>\n",
       "      <td>1</td>\n",
       "      <td>0</td>\n",
       "      <td>1</td>\n",
       "      <td>1</td>\n",
       "      <td>0</td>\n",
       "      <td>2</td>\n",
       "      <td>0</td>\n",
       "      <td>0</td>\n",
       "      <td>5</td>\n",
       "      <td>1</td>\n",
       "    </tr>\n",
       "    <tr>\n",
       "      <th>1</th>\n",
       "      <td>0</td>\n",
       "      <td>0</td>\n",
       "      <td>1</td>\n",
       "      <td>0</td>\n",
       "      <td>4</td>\n",
       "      <td>0</td>\n",
       "      <td>1</td>\n",
       "      <td>2</td>\n",
       "      <td>1</td>\n",
       "      <td>5</td>\n",
       "      <td>2</td>\n",
       "      <td>0</td>\n",
       "      <td>0</td>\n",
       "      <td>1</td>\n",
       "    </tr>\n",
       "    <tr>\n",
       "      <th>2</th>\n",
       "      <td>2</td>\n",
       "      <td>0</td>\n",
       "      <td>2</td>\n",
       "      <td>0</td>\n",
       "      <td>1</td>\n",
       "      <td>0</td>\n",
       "      <td>1</td>\n",
       "      <td>1</td>\n",
       "      <td>1</td>\n",
       "      <td>5</td>\n",
       "      <td>0</td>\n",
       "      <td>0</td>\n",
       "      <td>5</td>\n",
       "      <td>1</td>\n",
       "    </tr>\n",
       "    <tr>\n",
       "      <th>3</th>\n",
       "      <td>1</td>\n",
       "      <td>0</td>\n",
       "      <td>0</td>\n",
       "      <td>0</td>\n",
       "      <td>4</td>\n",
       "      <td>1</td>\n",
       "      <td>1</td>\n",
       "      <td>1</td>\n",
       "      <td>0</td>\n",
       "      <td>1</td>\n",
       "      <td>0</td>\n",
       "      <td>2</td>\n",
       "      <td>3</td>\n",
       "      <td>1</td>\n",
       "    </tr>\n",
       "    <tr>\n",
       "      <th>4</th>\n",
       "      <td>4</td>\n",
       "      <td>0</td>\n",
       "      <td>0</td>\n",
       "      <td>0</td>\n",
       "      <td>1</td>\n",
       "      <td>1</td>\n",
       "      <td>0</td>\n",
       "      <td>2</td>\n",
       "      <td>1</td>\n",
       "      <td>3</td>\n",
       "      <td>0</td>\n",
       "      <td>0</td>\n",
       "      <td>0</td>\n",
       "      <td>1</td>\n",
       "    </tr>\n",
       "  </tbody>\n",
       "</table>\n",
       "</div>"
      ],
      "text/plain": [
       "   state  response  coverage  education  employmentstatus  gender  \\\n",
       "0      4         0         0          0                 1       0   \n",
       "1      0         0         1          0                 4       0   \n",
       "2      2         0         2          0                 1       0   \n",
       "3      1         0         0          0                 4       1   \n",
       "4      4         0         0          0                 1       1   \n",
       "\n",
       "   location_code  marital_status  policy_type  policy  renew_offer_type  \\\n",
       "0              1               1            0       2                 0   \n",
       "1              1               2            1       5                 2   \n",
       "2              1               1            1       5                 0   \n",
       "3              1               1            0       1                 0   \n",
       "4              0               2            1       3                 0   \n",
       "\n",
       "   sales_channel  vehicle_class  vehicle_size  \n",
       "0              0              5             1  \n",
       "1              0              0             1  \n",
       "2              0              5             1  \n",
       "3              2              3             1  \n",
       "4              0              0             1  "
      ]
     },
     "execution_count": 37,
     "metadata": {},
     "output_type": "execute_result"
    }
   ],
   "source": [
    "for col in df_cat:\n",
    "  le = LabelEncoder()\n",
    "  le.fit(df_cat[col])\n",
    "  df_cat[col] =le.transform(df_cat[col])\n",
    "df_cat.head()"
   ]
  },
  {
   "cell_type": "code",
   "execution_count": 38,
   "metadata": {
    "colab": {
     "base_uri": "https://localhost:8080/"
    },
    "id": "Grn5kQcWg1O-",
    "outputId": "ac601c8c-17c6-4fd1-c306-fd0ecf916e7f"
   },
   "outputs": [
    {
     "data": {
      "text/plain": [
       "array([4, 0, 2, 1, 3])"
      ]
     },
     "execution_count": 38,
     "metadata": {},
     "output_type": "execute_result"
    }
   ],
   "source": [
    "df_cat['state'].unique()"
   ]
  },
  {
   "cell_type": "code",
   "execution_count": 39,
   "metadata": {
    "colab": {
     "base_uri": "https://localhost:8080/",
     "height": 255
    },
    "id": "J5bMDRUrILBR",
    "outputId": "6dac32a6-cac4-4a4e-cac6-1fa372afd246"
   },
   "outputs": [
    {
     "data": {
      "text/html": [
       "<div>\n",
       "<style scoped>\n",
       "    .dataframe tbody tr th:only-of-type {\n",
       "        vertical-align: middle;\n",
       "    }\n",
       "\n",
       "    .dataframe tbody tr th {\n",
       "        vertical-align: top;\n",
       "    }\n",
       "\n",
       "    .dataframe thead th {\n",
       "        text-align: right;\n",
       "    }\n",
       "</style>\n",
       "<table border=\"1\" class=\"dataframe\">\n",
       "  <thead>\n",
       "    <tr style=\"text-align: right;\">\n",
       "      <th></th>\n",
       "      <th>customer_lifetime_value</th>\n",
       "      <th>income</th>\n",
       "      <th>monthly_premium_auto</th>\n",
       "      <th>months_since_last_claim</th>\n",
       "      <th>months_since_policy_inception</th>\n",
       "      <th>number_of_open_complaints</th>\n",
       "      <th>number_of_policies</th>\n",
       "      <th>total_claim_amount</th>\n",
       "      <th>state</th>\n",
       "      <th>response</th>\n",
       "      <th>...</th>\n",
       "      <th>employmentstatus</th>\n",
       "      <th>gender</th>\n",
       "      <th>location_code</th>\n",
       "      <th>marital_status</th>\n",
       "      <th>policy_type</th>\n",
       "      <th>policy</th>\n",
       "      <th>renew_offer_type</th>\n",
       "      <th>sales_channel</th>\n",
       "      <th>vehicle_class</th>\n",
       "      <th>vehicle_size</th>\n",
       "    </tr>\n",
       "  </thead>\n",
       "  <tbody>\n",
       "    <tr>\n",
       "      <th>0</th>\n",
       "      <td>2763.519279</td>\n",
       "      <td>56274</td>\n",
       "      <td>69</td>\n",
       "      <td>32</td>\n",
       "      <td>5</td>\n",
       "      <td>0</td>\n",
       "      <td>1</td>\n",
       "      <td>384.811147</td>\n",
       "      <td>4</td>\n",
       "      <td>0</td>\n",
       "      <td>...</td>\n",
       "      <td>1</td>\n",
       "      <td>0</td>\n",
       "      <td>1</td>\n",
       "      <td>1</td>\n",
       "      <td>0</td>\n",
       "      <td>2</td>\n",
       "      <td>0</td>\n",
       "      <td>0</td>\n",
       "      <td>5</td>\n",
       "      <td>1</td>\n",
       "    </tr>\n",
       "    <tr>\n",
       "      <th>1</th>\n",
       "      <td>6979.535903</td>\n",
       "      <td>0</td>\n",
       "      <td>94</td>\n",
       "      <td>13</td>\n",
       "      <td>42</td>\n",
       "      <td>0</td>\n",
       "      <td>8</td>\n",
       "      <td>1131.464935</td>\n",
       "      <td>0</td>\n",
       "      <td>0</td>\n",
       "      <td>...</td>\n",
       "      <td>4</td>\n",
       "      <td>0</td>\n",
       "      <td>1</td>\n",
       "      <td>2</td>\n",
       "      <td>1</td>\n",
       "      <td>5</td>\n",
       "      <td>2</td>\n",
       "      <td>0</td>\n",
       "      <td>0</td>\n",
       "      <td>1</td>\n",
       "    </tr>\n",
       "    <tr>\n",
       "      <th>2</th>\n",
       "      <td>12887.431650</td>\n",
       "      <td>48767</td>\n",
       "      <td>108</td>\n",
       "      <td>18</td>\n",
       "      <td>38</td>\n",
       "      <td>0</td>\n",
       "      <td>2</td>\n",
       "      <td>566.472247</td>\n",
       "      <td>2</td>\n",
       "      <td>0</td>\n",
       "      <td>...</td>\n",
       "      <td>1</td>\n",
       "      <td>0</td>\n",
       "      <td>1</td>\n",
       "      <td>1</td>\n",
       "      <td>1</td>\n",
       "      <td>5</td>\n",
       "      <td>0</td>\n",
       "      <td>0</td>\n",
       "      <td>5</td>\n",
       "      <td>1</td>\n",
       "    </tr>\n",
       "    <tr>\n",
       "      <th>3</th>\n",
       "      <td>7645.861827</td>\n",
       "      <td>0</td>\n",
       "      <td>106</td>\n",
       "      <td>18</td>\n",
       "      <td>65</td>\n",
       "      <td>0</td>\n",
       "      <td>7</td>\n",
       "      <td>529.881344</td>\n",
       "      <td>1</td>\n",
       "      <td>0</td>\n",
       "      <td>...</td>\n",
       "      <td>4</td>\n",
       "      <td>1</td>\n",
       "      <td>1</td>\n",
       "      <td>1</td>\n",
       "      <td>0</td>\n",
       "      <td>1</td>\n",
       "      <td>0</td>\n",
       "      <td>2</td>\n",
       "      <td>3</td>\n",
       "      <td>1</td>\n",
       "    </tr>\n",
       "    <tr>\n",
       "      <th>4</th>\n",
       "      <td>2813.692575</td>\n",
       "      <td>43836</td>\n",
       "      <td>73</td>\n",
       "      <td>12</td>\n",
       "      <td>44</td>\n",
       "      <td>0</td>\n",
       "      <td>1</td>\n",
       "      <td>138.130879</td>\n",
       "      <td>4</td>\n",
       "      <td>0</td>\n",
       "      <td>...</td>\n",
       "      <td>1</td>\n",
       "      <td>1</td>\n",
       "      <td>0</td>\n",
       "      <td>2</td>\n",
       "      <td>1</td>\n",
       "      <td>3</td>\n",
       "      <td>0</td>\n",
       "      <td>0</td>\n",
       "      <td>0</td>\n",
       "      <td>1</td>\n",
       "    </tr>\n",
       "  </tbody>\n",
       "</table>\n",
       "<p>5 rows × 22 columns</p>\n",
       "</div>"
      ],
      "text/plain": [
       "   customer_lifetime_value  income  monthly_premium_auto  \\\n",
       "0              2763.519279   56274                    69   \n",
       "1              6979.535903       0                    94   \n",
       "2             12887.431650   48767                   108   \n",
       "3              7645.861827       0                   106   \n",
       "4              2813.692575   43836                    73   \n",
       "\n",
       "   months_since_last_claim  months_since_policy_inception  \\\n",
       "0                       32                              5   \n",
       "1                       13                             42   \n",
       "2                       18                             38   \n",
       "3                       18                             65   \n",
       "4                       12                             44   \n",
       "\n",
       "   number_of_open_complaints  number_of_policies  total_claim_amount  state  \\\n",
       "0                          0                   1          384.811147      4   \n",
       "1                          0                   8         1131.464935      0   \n",
       "2                          0                   2          566.472247      2   \n",
       "3                          0                   7          529.881344      1   \n",
       "4                          0                   1          138.130879      4   \n",
       "\n",
       "   response  ...  employmentstatus  gender  location_code  marital_status  \\\n",
       "0         0  ...                 1       0              1               1   \n",
       "1         0  ...                 4       0              1               2   \n",
       "2         0  ...                 1       0              1               1   \n",
       "3         0  ...                 4       1              1               1   \n",
       "4         0  ...                 1       1              0               2   \n",
       "\n",
       "   policy_type  policy  renew_offer_type  sales_channel  vehicle_class  \\\n",
       "0            0       2                 0              0              5   \n",
       "1            1       5                 2              0              0   \n",
       "2            1       5                 0              0              5   \n",
       "3            0       1                 0              2              3   \n",
       "4            1       3                 0              0              0   \n",
       "\n",
       "   vehicle_size  \n",
       "0             1  \n",
       "1             1  \n",
       "2             1  \n",
       "3             1  \n",
       "4             1  \n",
       "\n",
       "[5 rows x 22 columns]"
      ]
     },
     "execution_count": 39,
     "metadata": {},
     "output_type": "execute_result"
    }
   ],
   "source": [
    "df_final =pd.concat([df_num,df_cat],axis=1)\n",
    "df_final.head()"
   ]
  },
  {
   "cell_type": "code",
   "execution_count": 41,
   "metadata": {
    "colab": {
     "base_uri": "https://localhost:8080/"
    },
    "id": "2I8DgAbXISkc",
    "outputId": "de3f69b6-318e-4854-aaf0-9d56015efb18"
   },
   "outputs": [
    {
     "name": "stdout",
     "output_type": "stream",
     "text": [
      "Requirement already satisfied: statsmodels in /opt/homebrew/lib/python3.11/site-packages (0.14.1)\n",
      "Requirement already satisfied: numpy<2,>=1.18 in /opt/homebrew/lib/python3.11/site-packages (from statsmodels) (1.26.4)\n",
      "Requirement already satisfied: scipy!=1.9.2,>=1.4 in /opt/homebrew/lib/python3.11/site-packages (from statsmodels) (1.11.4)\n",
      "Requirement already satisfied: pandas!=2.1.0,>=1.0 in /opt/homebrew/lib/python3.11/site-packages (from statsmodels) (2.1.3)\n",
      "Requirement already satisfied: patsy>=0.5.4 in /opt/homebrew/lib/python3.11/site-packages (from statsmodels) (0.5.6)\n",
      "Requirement already satisfied: packaging>=21.3 in /opt/homebrew/lib/python3.11/site-packages (from statsmodels) (23.2)\n",
      "Requirement already satisfied: python-dateutil>=2.8.2 in /opt/homebrew/lib/python3.11/site-packages (from pandas!=2.1.0,>=1.0->statsmodels) (2.8.2)\n",
      "Requirement already satisfied: pytz>=2020.1 in /opt/homebrew/lib/python3.11/site-packages (from pandas!=2.1.0,>=1.0->statsmodels) (2023.3.post1)\n",
      "Requirement already satisfied: tzdata>=2022.1 in /opt/homebrew/lib/python3.11/site-packages (from pandas!=2.1.0,>=1.0->statsmodels) (2023.3)\n",
      "Requirement already satisfied: six in /opt/homebrew/lib/python3.11/site-packages (from patsy>=0.5.4->statsmodels) (1.16.0)\n",
      "\n",
      "\u001b[1m[\u001b[0m\u001b[34;49mnotice\u001b[0m\u001b[1;39;49m]\u001b[0m\u001b[39;49m A new release of pip is available: \u001b[0m\u001b[31;49m24.1\u001b[0m\u001b[39;49m -> \u001b[0m\u001b[32;49m24.1.1\u001b[0m\n",
      "\u001b[1m[\u001b[0m\u001b[34;49mnotice\u001b[0m\u001b[1;39;49m]\u001b[0m\u001b[39;49m To update, run: \u001b[0m\u001b[32;49mpython3.11 -m pip install --upgrade pip\u001b[0m\n"
     ]
    }
   ],
   "source": [
    "!pip3 install statsmodels"
   ]
  },
  {
   "cell_type": "code",
   "execution_count": 42,
   "metadata": {
    "id": "W9QuLHGLI4BC"
   },
   "outputs": [],
   "source": [
    "import statsmodels.api as sm"
   ]
  },
  {
   "cell_type": "code",
   "execution_count": 43,
   "metadata": {
    "colab": {
     "base_uri": "https://localhost:8080/",
     "height": 877
    },
    "id": "puXcZPTlI7JC",
    "outputId": "927d7427-d65a-429c-d44b-5c24c2ab47f1"
   },
   "outputs": [
    {
     "data": {
      "text/html": [
       "<table class=\"simpletable\">\n",
       "<caption>OLS Regression Results</caption>\n",
       "<tr>\n",
       "  <th>Dep. Variable:</th>    <td>customer_lifetime_value</td> <th>  R-squared:         </th> <td>   0.165</td> \n",
       "</tr>\n",
       "<tr>\n",
       "  <th>Model:</th>                      <td>OLS</td>           <th>  Adj. R-squared:    </th> <td>   0.163</td> \n",
       "</tr>\n",
       "<tr>\n",
       "  <th>Method:</th>                <td>Least Squares</td>      <th>  F-statistic:       </th> <td>   85.81</td> \n",
       "</tr>\n",
       "<tr>\n",
       "  <th>Date:</th>                <td>Wed, 03 Jul 2024</td>     <th>  Prob (F-statistic):</th>  <td>  0.00</td>  \n",
       "</tr>\n",
       "<tr>\n",
       "  <th>Time:</th>                    <td>21:31:25</td>         <th>  Log-Likelihood:    </th> <td> -92835.</td> \n",
       "</tr>\n",
       "<tr>\n",
       "  <th>No. Observations:</th>         <td>  9134</td>          <th>  AIC:               </th> <td>1.857e+05</td>\n",
       "</tr>\n",
       "<tr>\n",
       "  <th>Df Residuals:</th>             <td>  9112</td>          <th>  BIC:               </th> <td>1.859e+05</td>\n",
       "</tr>\n",
       "<tr>\n",
       "  <th>Df Model:</th>                 <td>    21</td>          <th>                     </th>     <td> </td>    \n",
       "</tr>\n",
       "<tr>\n",
       "  <th>Covariance Type:</th>         <td>nonrobust</td>        <th>                     </th>     <td> </td>    \n",
       "</tr>\n",
       "</table>\n",
       "<table class=\"simpletable\">\n",
       "<tr>\n",
       "                <td></td>                   <th>coef</th>     <th>std err</th>      <th>t</th>      <th>P>|t|</th>  <th>[0.025</th>    <th>0.975]</th>  \n",
       "</tr>\n",
       "<tr>\n",
       "  <th>const</th>                         <td>  531.5725</td> <td>  473.375</td> <td>    1.123</td> <td> 0.261</td> <td> -396.349</td> <td> 1459.494</td>\n",
       "</tr>\n",
       "<tr>\n",
       "  <th>income</th>                        <td>    0.0022</td> <td>    0.003</td> <td>    0.669</td> <td> 0.504</td> <td>   -0.004</td> <td>    0.009</td>\n",
       "</tr>\n",
       "<tr>\n",
       "  <th>monthly_premium_auto</th>          <td>   82.6770</td> <td>    2.925</td> <td>   28.270</td> <td> 0.000</td> <td>   76.944</td> <td>   88.410</td>\n",
       "</tr>\n",
       "<tr>\n",
       "  <th>months_since_last_claim</th>       <td>    6.7966</td> <td>    6.546</td> <td>    1.038</td> <td> 0.299</td> <td>   -6.036</td> <td>   19.629</td>\n",
       "</tr>\n",
       "<tr>\n",
       "  <th>months_since_policy_inception</th> <td>   -0.7811</td> <td>    2.373</td> <td>   -0.329</td> <td> 0.742</td> <td>   -5.433</td> <td>    3.871</td>\n",
       "</tr>\n",
       "<tr>\n",
       "  <th>number_of_open_complaints</th>     <td> -247.8781</td> <td>   72.360</td> <td>   -3.426</td> <td> 0.001</td> <td> -389.719</td> <td> -106.037</td>\n",
       "</tr>\n",
       "<tr>\n",
       "  <th>number_of_policies</th>            <td>   63.2701</td> <td>   27.663</td> <td>    2.287</td> <td> 0.022</td> <td>    9.044</td> <td>  117.496</td>\n",
       "</tr>\n",
       "<tr>\n",
       "  <th>total_claim_amount</th>            <td>   -0.5824</td> <td>    0.362</td> <td>   -1.609</td> <td> 0.108</td> <td>   -1.292</td> <td>    0.127</td>\n",
       "</tr>\n",
       "<tr>\n",
       "  <th>state</th>                         <td>   28.4756</td> <td>   51.117</td> <td>    0.557</td> <td> 0.577</td> <td>  -71.726</td> <td>  128.677</td>\n",
       "</tr>\n",
       "<tr>\n",
       "  <th>response</th>                      <td> -448.3788</td> <td>  192.408</td> <td>   -2.330</td> <td> 0.020</td> <td> -825.541</td> <td>  -71.217</td>\n",
       "</tr>\n",
       "<tr>\n",
       "  <th>coverage</th>                      <td> -183.7890</td> <td>  113.701</td> <td>   -1.616</td> <td> 0.106</td> <td> -406.669</td> <td>   39.091</td>\n",
       "</tr>\n",
       "<tr>\n",
       "  <th>education</th>                     <td>   93.0832</td> <td>   47.790</td> <td>    1.948</td> <td> 0.051</td> <td>   -0.597</td> <td>  186.763</td>\n",
       "</tr>\n",
       "<tr>\n",
       "  <th>employmentstatus</th>              <td> -106.4348</td> <td>   73.604</td> <td>   -1.446</td> <td> 0.148</td> <td> -250.715</td> <td>   37.845</td>\n",
       "</tr>\n",
       "<tr>\n",
       "  <th>gender</th>                        <td> -144.5589</td> <td>  132.636</td> <td>   -1.090</td> <td> 0.276</td> <td> -404.556</td> <td>  115.438</td>\n",
       "</tr>\n",
       "<tr>\n",
       "  <th>location_code</th>                 <td>  103.5590</td> <td>  116.578</td> <td>    0.888</td> <td> 0.374</td> <td> -124.961</td> <td>  332.079</td>\n",
       "</tr>\n",
       "<tr>\n",
       "  <th>marital_status</th>                <td> -237.2764</td> <td>  110.660</td> <td>   -2.144</td> <td> 0.032</td> <td> -454.195</td> <td>  -20.358</td>\n",
       "</tr>\n",
       "<tr>\n",
       "  <th>policy_type</th>                   <td>  448.5882</td> <td>  291.059</td> <td>    1.541</td> <td> 0.123</td> <td> -121.953</td> <td> 1019.130</td>\n",
       "</tr>\n",
       "<tr>\n",
       "  <th>policy</th>                        <td>  -47.9853</td> <td>   86.264</td> <td>   -0.556</td> <td> 0.578</td> <td> -217.082</td> <td>  121.112</td>\n",
       "</tr>\n",
       "<tr>\n",
       "  <th>renew_offer_type</th>              <td> -348.5079</td> <td>   68.493</td> <td>   -5.088</td> <td> 0.000</td> <td> -482.770</td> <td> -214.245</td>\n",
       "</tr>\n",
       "<tr>\n",
       "  <th>sales_channel</th>                 <td>   23.5601</td> <td>   62.295</td> <td>    0.378</td> <td> 0.705</td> <td>  -98.551</td> <td>  145.672</td>\n",
       "</tr>\n",
       "<tr>\n",
       "  <th>vehicle_class</th>                 <td>   46.4930</td> <td>   32.422</td> <td>    1.434</td> <td> 0.152</td> <td>  -17.060</td> <td>  110.047</td>\n",
       "</tr>\n",
       "<tr>\n",
       "  <th>vehicle_size</th>                  <td>  186.6798</td> <td>  123.372</td> <td>    1.513</td> <td> 0.130</td> <td>  -55.157</td> <td>  428.517</td>\n",
       "</tr>\n",
       "</table>\n",
       "<table class=\"simpletable\">\n",
       "<tr>\n",
       "  <th>Omnibus:</th>       <td>5665.297</td> <th>  Durbin-Watson:     </th> <td>   1.996</td> \n",
       "</tr>\n",
       "<tr>\n",
       "  <th>Prob(Omnibus):</th>  <td> 0.000</td>  <th>  Jarque-Bera (JB):  </th> <td>64590.396</td>\n",
       "</tr>\n",
       "<tr>\n",
       "  <th>Skew:</th>           <td> 2.852</td>  <th>  Prob(JB):          </th> <td>    0.00</td> \n",
       "</tr>\n",
       "<tr>\n",
       "  <th>Kurtosis:</th>       <td>14.713</td>  <th>  Cond. No.          </th> <td>3.54e+05</td> \n",
       "</tr>\n",
       "</table><br/><br/>Notes:<br/>[1] Standard Errors assume that the covariance matrix of the errors is correctly specified.<br/>[2] The condition number is large, 3.54e+05. This might indicate that there are<br/>strong multicollinearity or other numerical problems."
      ],
      "text/latex": [
       "\\begin{center}\n",
       "\\begin{tabular}{lclc}\n",
       "\\toprule\n",
       "\\textbf{Dep. Variable:}                   & customer\\_lifetime\\_value & \\textbf{  R-squared:         } &     0.165   \\\\\n",
       "\\textbf{Model:}                           &            OLS            & \\textbf{  Adj. R-squared:    } &     0.163   \\\\\n",
       "\\textbf{Method:}                          &       Least Squares       & \\textbf{  F-statistic:       } &     85.81   \\\\\n",
       "\\textbf{Date:}                            &      Wed, 03 Jul 2024     & \\textbf{  Prob (F-statistic):} &     0.00    \\\\\n",
       "\\textbf{Time:}                            &          21:31:25         & \\textbf{  Log-Likelihood:    } &   -92835.   \\\\\n",
       "\\textbf{No. Observations:}                &             9134          & \\textbf{  AIC:               } & 1.857e+05   \\\\\n",
       "\\textbf{Df Residuals:}                    &             9112          & \\textbf{  BIC:               } & 1.859e+05   \\\\\n",
       "\\textbf{Df Model:}                        &               21          & \\textbf{                     } &             \\\\\n",
       "\\textbf{Covariance Type:}                 &         nonrobust         & \\textbf{                     } &             \\\\\n",
       "\\bottomrule\n",
       "\\end{tabular}\n",
       "\\begin{tabular}{lcccccc}\n",
       "                                          & \\textbf{coef} & \\textbf{std err} & \\textbf{t} & \\textbf{P$> |$t$|$} & \\textbf{[0.025} & \\textbf{0.975]}  \\\\\n",
       "\\midrule\n",
       "\\textbf{const}                            &     531.5725  &      473.375     &     1.123  &         0.261        &     -396.349    &     1459.494     \\\\\n",
       "\\textbf{income}                           &       0.0022  &        0.003     &     0.669  &         0.504        &       -0.004    &        0.009     \\\\\n",
       "\\textbf{monthly\\_premium\\_auto}           &      82.6770  &        2.925     &    28.270  &         0.000        &       76.944    &       88.410     \\\\\n",
       "\\textbf{months\\_since\\_last\\_claim}       &       6.7966  &        6.546     &     1.038  &         0.299        &       -6.036    &       19.629     \\\\\n",
       "\\textbf{months\\_since\\_policy\\_inception} &      -0.7811  &        2.373     &    -0.329  &         0.742        &       -5.433    &        3.871     \\\\\n",
       "\\textbf{number\\_of\\_open\\_complaints}     &    -247.8781  &       72.360     &    -3.426  &         0.001        &     -389.719    &     -106.037     \\\\\n",
       "\\textbf{number\\_of\\_policies}             &      63.2701  &       27.663     &     2.287  &         0.022        &        9.044    &      117.496     \\\\\n",
       "\\textbf{total\\_claim\\_amount}             &      -0.5824  &        0.362     &    -1.609  &         0.108        &       -1.292    &        0.127     \\\\\n",
       "\\textbf{state}                            &      28.4756  &       51.117     &     0.557  &         0.577        &      -71.726    &      128.677     \\\\\n",
       "\\textbf{response}                         &    -448.3788  &      192.408     &    -2.330  &         0.020        &     -825.541    &      -71.217     \\\\\n",
       "\\textbf{coverage}                         &    -183.7890  &      113.701     &    -1.616  &         0.106        &     -406.669    &       39.091     \\\\\n",
       "\\textbf{education}                        &      93.0832  &       47.790     &     1.948  &         0.051        &       -0.597    &      186.763     \\\\\n",
       "\\textbf{employmentstatus}                 &    -106.4348  &       73.604     &    -1.446  &         0.148        &     -250.715    &       37.845     \\\\\n",
       "\\textbf{gender}                           &    -144.5589  &      132.636     &    -1.090  &         0.276        &     -404.556    &      115.438     \\\\\n",
       "\\textbf{location\\_code}                   &     103.5590  &      116.578     &     0.888  &         0.374        &     -124.961    &      332.079     \\\\\n",
       "\\textbf{marital\\_status}                  &    -237.2764  &      110.660     &    -2.144  &         0.032        &     -454.195    &      -20.358     \\\\\n",
       "\\textbf{policy\\_type}                     &     448.5882  &      291.059     &     1.541  &         0.123        &     -121.953    &     1019.130     \\\\\n",
       "\\textbf{policy}                           &     -47.9853  &       86.264     &    -0.556  &         0.578        &     -217.082    &      121.112     \\\\\n",
       "\\textbf{renew\\_offer\\_type}               &    -348.5079  &       68.493     &    -5.088  &         0.000        &     -482.770    &     -214.245     \\\\\n",
       "\\textbf{sales\\_channel}                   &      23.5601  &       62.295     &     0.378  &         0.705        &      -98.551    &      145.672     \\\\\n",
       "\\textbf{vehicle\\_class}                   &      46.4930  &       32.422     &     1.434  &         0.152        &      -17.060    &      110.047     \\\\\n",
       "\\textbf{vehicle\\_size}                    &     186.6798  &      123.372     &     1.513  &         0.130        &      -55.157    &      428.517     \\\\\n",
       "\\bottomrule\n",
       "\\end{tabular}\n",
       "\\begin{tabular}{lclc}\n",
       "\\textbf{Omnibus:}       & 5665.297 & \\textbf{  Durbin-Watson:     } &     1.996  \\\\\n",
       "\\textbf{Prob(Omnibus):} &   0.000  & \\textbf{  Jarque-Bera (JB):  } & 64590.396  \\\\\n",
       "\\textbf{Skew:}          &   2.852  & \\textbf{  Prob(JB):          } &      0.00  \\\\\n",
       "\\textbf{Kurtosis:}      &  14.713  & \\textbf{  Cond. No.          } &  3.54e+05  \\\\\n",
       "\\bottomrule\n",
       "\\end{tabular}\n",
       "%\\caption{OLS Regression Results}\n",
       "\\end{center}\n",
       "\n",
       "Notes: \\newline\n",
       " [1] Standard Errors assume that the covariance matrix of the errors is correctly specified. \\newline\n",
       " [2] The condition number is large, 3.54e+05. This might indicate that there are \\newline\n",
       " strong multicollinearity or other numerical problems."
      ],
      "text/plain": [
       "<class 'statsmodels.iolib.summary.Summary'>\n",
       "\"\"\"\n",
       "                               OLS Regression Results                              \n",
       "===================================================================================\n",
       "Dep. Variable:     customer_lifetime_value   R-squared:                       0.165\n",
       "Model:                                 OLS   Adj. R-squared:                  0.163\n",
       "Method:                      Least Squares   F-statistic:                     85.81\n",
       "Date:                     Wed, 03 Jul 2024   Prob (F-statistic):               0.00\n",
       "Time:                             21:31:25   Log-Likelihood:                -92835.\n",
       "No. Observations:                     9134   AIC:                         1.857e+05\n",
       "Df Residuals:                         9112   BIC:                         1.859e+05\n",
       "Df Model:                               21                                         \n",
       "Covariance Type:                 nonrobust                                         \n",
       "=================================================================================================\n",
       "                                    coef    std err          t      P>|t|      [0.025      0.975]\n",
       "-------------------------------------------------------------------------------------------------\n",
       "const                           531.5725    473.375      1.123      0.261    -396.349    1459.494\n",
       "income                            0.0022      0.003      0.669      0.504      -0.004       0.009\n",
       "monthly_premium_auto             82.6770      2.925     28.270      0.000      76.944      88.410\n",
       "months_since_last_claim           6.7966      6.546      1.038      0.299      -6.036      19.629\n",
       "months_since_policy_inception    -0.7811      2.373     -0.329      0.742      -5.433       3.871\n",
       "number_of_open_complaints      -247.8781     72.360     -3.426      0.001    -389.719    -106.037\n",
       "number_of_policies               63.2701     27.663      2.287      0.022       9.044     117.496\n",
       "total_claim_amount               -0.5824      0.362     -1.609      0.108      -1.292       0.127\n",
       "state                            28.4756     51.117      0.557      0.577     -71.726     128.677\n",
       "response                       -448.3788    192.408     -2.330      0.020    -825.541     -71.217\n",
       "coverage                       -183.7890    113.701     -1.616      0.106    -406.669      39.091\n",
       "education                        93.0832     47.790      1.948      0.051      -0.597     186.763\n",
       "employmentstatus               -106.4348     73.604     -1.446      0.148    -250.715      37.845\n",
       "gender                         -144.5589    132.636     -1.090      0.276    -404.556     115.438\n",
       "location_code                   103.5590    116.578      0.888      0.374    -124.961     332.079\n",
       "marital_status                 -237.2764    110.660     -2.144      0.032    -454.195     -20.358\n",
       "policy_type                     448.5882    291.059      1.541      0.123    -121.953    1019.130\n",
       "policy                          -47.9853     86.264     -0.556      0.578    -217.082     121.112\n",
       "renew_offer_type               -348.5079     68.493     -5.088      0.000    -482.770    -214.245\n",
       "sales_channel                    23.5601     62.295      0.378      0.705     -98.551     145.672\n",
       "vehicle_class                    46.4930     32.422      1.434      0.152     -17.060     110.047\n",
       "vehicle_size                    186.6798    123.372      1.513      0.130     -55.157     428.517\n",
       "==============================================================================\n",
       "Omnibus:                     5665.297   Durbin-Watson:                   1.996\n",
       "Prob(Omnibus):                  0.000   Jarque-Bera (JB):            64590.396\n",
       "Skew:                           2.852   Prob(JB):                         0.00\n",
       "Kurtosis:                      14.713   Cond. No.                     3.54e+05\n",
       "==============================================================================\n",
       "\n",
       "Notes:\n",
       "[1] Standard Errors assume that the covariance matrix of the errors is correctly specified.\n",
       "[2] The condition number is large, 3.54e+05. This might indicate that there are\n",
       "strong multicollinearity or other numerical problems.\n",
       "\"\"\""
      ]
     },
     "execution_count": 43,
     "metadata": {},
     "output_type": "execute_result"
    }
   ],
   "source": [
    "X = df_final.drop(columns=['customer_lifetime_value'],axis=1)\n",
    "y =df_final['customer_lifetime_value']\n",
    "X_constant = sm.add_constant(X)\n",
    "lin_reg = sm.OLS(y,X_constant).fit()\n",
    "lin_reg.summary()"
   ]
  },
  {
   "cell_type": "code",
   "execution_count": 44,
   "metadata": {
    "id": "jxLBDwhFJM6S"
   },
   "outputs": [],
   "source": [
    "from statsmodels.stats.outliers_influence import variance_inflation_factor"
   ]
  },
  {
   "cell_type": "code",
   "execution_count": 45,
   "metadata": {
    "colab": {
     "base_uri": "https://localhost:8080/",
     "height": 708
    },
    "id": "kkLOSqk9J27R",
    "outputId": "ba54cf56-d294-415e-9012-71eb07df7143"
   },
   "outputs": [
    {
     "data": {
      "text/html": [
       "<div>\n",
       "<style scoped>\n",
       "    .dataframe tbody tr th:only-of-type {\n",
       "        vertical-align: middle;\n",
       "    }\n",
       "\n",
       "    .dataframe tbody tr th {\n",
       "        vertical-align: top;\n",
       "    }\n",
       "\n",
       "    .dataframe thead th {\n",
       "        text-align: right;\n",
       "    }\n",
       "</style>\n",
       "<table border=\"1\" class=\"dataframe\">\n",
       "  <thead>\n",
       "    <tr style=\"text-align: right;\">\n",
       "      <th></th>\n",
       "      <th>vif</th>\n",
       "    </tr>\n",
       "  </thead>\n",
       "  <tbody>\n",
       "    <tr>\n",
       "      <th>income</th>\n",
       "      <td>2.262285</td>\n",
       "    </tr>\n",
       "    <tr>\n",
       "      <th>monthly_premium_auto</th>\n",
       "      <td>2.340932</td>\n",
       "    </tr>\n",
       "    <tr>\n",
       "      <th>months_since_last_claim</th>\n",
       "      <td>1.005291</td>\n",
       "    </tr>\n",
       "    <tr>\n",
       "      <th>months_since_policy_inception</th>\n",
       "      <td>1.014031</td>\n",
       "    </tr>\n",
       "    <tr>\n",
       "      <th>number_of_open_complaints</th>\n",
       "      <td>1.003197</td>\n",
       "    </tr>\n",
       "    <tr>\n",
       "      <th>number_of_policies</th>\n",
       "      <td>1.010664</td>\n",
       "    </tr>\n",
       "    <tr>\n",
       "      <th>total_claim_amount</th>\n",
       "      <td>2.556664</td>\n",
       "    </tr>\n",
       "    <tr>\n",
       "      <th>state</th>\n",
       "      <td>1.001755</td>\n",
       "    </tr>\n",
       "    <tr>\n",
       "      <th>response</th>\n",
       "      <td>1.050177</td>\n",
       "    </tr>\n",
       "    <tr>\n",
       "      <th>coverage</th>\n",
       "      <td>1.285413</td>\n",
       "    </tr>\n",
       "    <tr>\n",
       "      <th>education</th>\n",
       "      <td>1.008389</td>\n",
       "    </tr>\n",
       "    <tr>\n",
       "      <th>employmentstatus</th>\n",
       "      <td>2.275066</td>\n",
       "    </tr>\n",
       "    <tr>\n",
       "      <th>gender</th>\n",
       "      <td>1.016448</td>\n",
       "    </tr>\n",
       "    <tr>\n",
       "      <th>location_code</th>\n",
       "      <td>1.152772</td>\n",
       "    </tr>\n",
       "    <tr>\n",
       "      <th>marital_status</th>\n",
       "      <td>1.148111</td>\n",
       "    </tr>\n",
       "    <tr>\n",
       "      <th>policy_type</th>\n",
       "      <td>4.437124</td>\n",
       "    </tr>\n",
       "    <tr>\n",
       "      <th>policy</th>\n",
       "      <td>4.436950</td>\n",
       "    </tr>\n",
       "    <tr>\n",
       "      <th>renew_offer_type</th>\n",
       "      <td>1.101028</td>\n",
       "    </tr>\n",
       "    <tr>\n",
       "      <th>sales_channel</th>\n",
       "      <td>1.026054</td>\n",
       "    </tr>\n",
       "    <tr>\n",
       "      <th>vehicle_class</th>\n",
       "      <td>1.044258</td>\n",
       "    </tr>\n",
       "    <tr>\n",
       "      <th>vehicle_size</th>\n",
       "      <td>1.015859</td>\n",
       "    </tr>\n",
       "  </tbody>\n",
       "</table>\n",
       "</div>"
      ],
      "text/plain": [
       "                                    vif\n",
       "income                         2.262285\n",
       "monthly_premium_auto           2.340932\n",
       "months_since_last_claim        1.005291\n",
       "months_since_policy_inception  1.014031\n",
       "number_of_open_complaints      1.003197\n",
       "number_of_policies             1.010664\n",
       "total_claim_amount             2.556664\n",
       "state                          1.001755\n",
       "response                       1.050177\n",
       "coverage                       1.285413\n",
       "education                      1.008389\n",
       "employmentstatus               2.275066\n",
       "gender                         1.016448\n",
       "location_code                  1.152772\n",
       "marital_status                 1.148111\n",
       "policy_type                    4.437124\n",
       "policy                         4.436950\n",
       "renew_offer_type               1.101028\n",
       "sales_channel                  1.026054\n",
       "vehicle_class                  1.044258\n",
       "vehicle_size                   1.015859"
      ]
     },
     "execution_count": 45,
     "metadata": {},
     "output_type": "execute_result"
    }
   ],
   "source": [
    "vif =[variance_inflation_factor(X_constant.values, i) for i in range(X_constant.shape[1])]\n",
    "pd.DataFrame({'vif':vif[1:]}, index=X.columns)"
   ]
  },
  {
   "cell_type": "markdown",
   "metadata": {
    "id": "RUTF-e8lKR9r"
   },
   "source": [
    "### Model building"
   ]
  },
  {
   "cell_type": "code",
   "execution_count": 46,
   "metadata": {
    "id": "CaoVZKTqTOAE"
   },
   "outputs": [],
   "source": [
    "from sklearn.model_selection import train_test_split"
   ]
  },
  {
   "cell_type": "code",
   "execution_count": 47,
   "metadata": {
    "id": "DvBbqJ2_KAqy"
   },
   "outputs": [],
   "source": [
    "X =df_final.drop(['customer_lifetime_value','policy_type','policy'],axis=1)\n",
    "y = df_final['customer_lifetime_value']\n",
    "y= np.log(y)\n",
    "X_train,X_test,y_train,y_test = train_test_split(X,y,test_size=0.30,random_state=42)"
   ]
  },
  {
   "cell_type": "code",
   "execution_count": 48,
   "metadata": {
    "colab": {
     "base_uri": "https://localhost:8080/"
    },
    "id": "ypjsCriWKcav",
    "outputId": "318bffb4-fd1e-463e-88e8-bdbb6518dd11"
   },
   "outputs": [
    {
     "name": "stdout",
     "output_type": "stream",
     "text": [
      "(6393, 19)\n",
      "(6393,)\n",
      "(2741, 19)\n",
      "(2741,)\n"
     ]
    }
   ],
   "source": [
    "print(X_train.shape)\n",
    "print(y_train.shape)\n",
    "print(X_test.shape)\n",
    "print(y_test.shape)"
   ]
  },
  {
   "cell_type": "code",
   "execution_count": 49,
   "metadata": {
    "colab": {
     "base_uri": "https://localhost:8080/",
     "height": 443
    },
    "id": "NJIITz5s92MO",
    "outputId": "7daaddfc-00e8-4308-a534-e4b7a78ad467"
   },
   "outputs": [
    {
     "data": {
      "text/html": [
       "<div>\n",
       "<style scoped>\n",
       "    .dataframe tbody tr th:only-of-type {\n",
       "        vertical-align: middle;\n",
       "    }\n",
       "\n",
       "    .dataframe tbody tr th {\n",
       "        vertical-align: top;\n",
       "    }\n",
       "\n",
       "    .dataframe thead th {\n",
       "        text-align: right;\n",
       "    }\n",
       "</style>\n",
       "<table border=\"1\" class=\"dataframe\">\n",
       "  <thead>\n",
       "    <tr style=\"text-align: right;\">\n",
       "      <th></th>\n",
       "      <th>income</th>\n",
       "      <th>monthly_premium_auto</th>\n",
       "      <th>months_since_last_claim</th>\n",
       "      <th>months_since_policy_inception</th>\n",
       "      <th>number_of_open_complaints</th>\n",
       "      <th>number_of_policies</th>\n",
       "      <th>total_claim_amount</th>\n",
       "      <th>state</th>\n",
       "      <th>response</th>\n",
       "      <th>coverage</th>\n",
       "      <th>education</th>\n",
       "      <th>employmentstatus</th>\n",
       "      <th>gender</th>\n",
       "      <th>location_code</th>\n",
       "      <th>marital_status</th>\n",
       "      <th>renew_offer_type</th>\n",
       "      <th>sales_channel</th>\n",
       "      <th>vehicle_class</th>\n",
       "      <th>vehicle_size</th>\n",
       "    </tr>\n",
       "  </thead>\n",
       "  <tbody>\n",
       "    <tr>\n",
       "      <th>708</th>\n",
       "      <td>74585</td>\n",
       "      <td>106</td>\n",
       "      <td>1</td>\n",
       "      <td>49</td>\n",
       "      <td>0</td>\n",
       "      <td>1</td>\n",
       "      <td>218.598065</td>\n",
       "      <td>1</td>\n",
       "      <td>0</td>\n",
       "      <td>0</td>\n",
       "      <td>3</td>\n",
       "      <td>1</td>\n",
       "      <td>1</td>\n",
       "      <td>0</td>\n",
       "      <td>1</td>\n",
       "      <td>1</td>\n",
       "      <td>0</td>\n",
       "      <td>3</td>\n",
       "      <td>1</td>\n",
       "    </tr>\n",
       "    <tr>\n",
       "      <th>47</th>\n",
       "      <td>23218</td>\n",
       "      <td>71</td>\n",
       "      <td>7</td>\n",
       "      <td>10</td>\n",
       "      <td>0</td>\n",
       "      <td>4</td>\n",
       "      <td>447.793440</td>\n",
       "      <td>3</td>\n",
       "      <td>0</td>\n",
       "      <td>0</td>\n",
       "      <td>3</td>\n",
       "      <td>1</td>\n",
       "      <td>0</td>\n",
       "      <td>1</td>\n",
       "      <td>2</td>\n",
       "      <td>3</td>\n",
       "      <td>0</td>\n",
       "      <td>5</td>\n",
       "      <td>1</td>\n",
       "    </tr>\n",
       "    <tr>\n",
       "      <th>3995</th>\n",
       "      <td>94903</td>\n",
       "      <td>94</td>\n",
       "      <td>3</td>\n",
       "      <td>38</td>\n",
       "      <td>0</td>\n",
       "      <td>1</td>\n",
       "      <td>451.200000</td>\n",
       "      <td>3</td>\n",
       "      <td>1</td>\n",
       "      <td>1</td>\n",
       "      <td>1</td>\n",
       "      <td>1</td>\n",
       "      <td>0</td>\n",
       "      <td>1</td>\n",
       "      <td>1</td>\n",
       "      <td>1</td>\n",
       "      <td>0</td>\n",
       "      <td>5</td>\n",
       "      <td>2</td>\n",
       "    </tr>\n",
       "    <tr>\n",
       "      <th>1513</th>\n",
       "      <td>77153</td>\n",
       "      <td>99</td>\n",
       "      <td>3</td>\n",
       "      <td>27</td>\n",
       "      <td>1</td>\n",
       "      <td>5</td>\n",
       "      <td>355.641958</td>\n",
       "      <td>1</td>\n",
       "      <td>0</td>\n",
       "      <td>1</td>\n",
       "      <td>1</td>\n",
       "      <td>1</td>\n",
       "      <td>0</td>\n",
       "      <td>2</td>\n",
       "      <td>1</td>\n",
       "      <td>0</td>\n",
       "      <td>1</td>\n",
       "      <td>0</td>\n",
       "      <td>1</td>\n",
       "    </tr>\n",
       "    <tr>\n",
       "      <th>3686</th>\n",
       "      <td>23769</td>\n",
       "      <td>69</td>\n",
       "      <td>18</td>\n",
       "      <td>14</td>\n",
       "      <td>0</td>\n",
       "      <td>2</td>\n",
       "      <td>470.097411</td>\n",
       "      <td>4</td>\n",
       "      <td>0</td>\n",
       "      <td>0</td>\n",
       "      <td>3</td>\n",
       "      <td>0</td>\n",
       "      <td>0</td>\n",
       "      <td>1</td>\n",
       "      <td>0</td>\n",
       "      <td>0</td>\n",
       "      <td>1</td>\n",
       "      <td>0</td>\n",
       "      <td>1</td>\n",
       "    </tr>\n",
       "    <tr>\n",
       "      <th>...</th>\n",
       "      <td>...</td>\n",
       "      <td>...</td>\n",
       "      <td>...</td>\n",
       "      <td>...</td>\n",
       "      <td>...</td>\n",
       "      <td>...</td>\n",
       "      <td>...</td>\n",
       "      <td>...</td>\n",
       "      <td>...</td>\n",
       "      <td>...</td>\n",
       "      <td>...</td>\n",
       "      <td>...</td>\n",
       "      <td>...</td>\n",
       "      <td>...</td>\n",
       "      <td>...</td>\n",
       "      <td>...</td>\n",
       "      <td>...</td>\n",
       "      <td>...</td>\n",
       "      <td>...</td>\n",
       "    </tr>\n",
       "    <tr>\n",
       "      <th>4271</th>\n",
       "      <td>86096</td>\n",
       "      <td>108</td>\n",
       "      <td>30</td>\n",
       "      <td>1</td>\n",
       "      <td>0</td>\n",
       "      <td>1</td>\n",
       "      <td>518.400000</td>\n",
       "      <td>3</td>\n",
       "      <td>0</td>\n",
       "      <td>2</td>\n",
       "      <td>3</td>\n",
       "      <td>1</td>\n",
       "      <td>1</td>\n",
       "      <td>1</td>\n",
       "      <td>1</td>\n",
       "      <td>1</td>\n",
       "      <td>2</td>\n",
       "      <td>5</td>\n",
       "      <td>0</td>\n",
       "    </tr>\n",
       "    <tr>\n",
       "      <th>7923</th>\n",
       "      <td>0</td>\n",
       "      <td>122</td>\n",
       "      <td>15</td>\n",
       "      <td>47</td>\n",
       "      <td>0</td>\n",
       "      <td>9</td>\n",
       "      <td>650.521790</td>\n",
       "      <td>4</td>\n",
       "      <td>1</td>\n",
       "      <td>1</td>\n",
       "      <td>4</td>\n",
       "      <td>4</td>\n",
       "      <td>0</td>\n",
       "      <td>1</td>\n",
       "      <td>2</td>\n",
       "      <td>0</td>\n",
       "      <td>1</td>\n",
       "      <td>4</td>\n",
       "      <td>1</td>\n",
       "    </tr>\n",
       "    <tr>\n",
       "      <th>5633</th>\n",
       "      <td>85609</td>\n",
       "      <td>136</td>\n",
       "      <td>22</td>\n",
       "      <td>17</td>\n",
       "      <td>0</td>\n",
       "      <td>1</td>\n",
       "      <td>652.800000</td>\n",
       "      <td>0</td>\n",
       "      <td>0</td>\n",
       "      <td>1</td>\n",
       "      <td>2</td>\n",
       "      <td>1</td>\n",
       "      <td>0</td>\n",
       "      <td>1</td>\n",
       "      <td>1</td>\n",
       "      <td>1</td>\n",
       "      <td>0</td>\n",
       "      <td>3</td>\n",
       "      <td>1</td>\n",
       "    </tr>\n",
       "    <tr>\n",
       "      <th>8432</th>\n",
       "      <td>0</td>\n",
       "      <td>71</td>\n",
       "      <td>12</td>\n",
       "      <td>55</td>\n",
       "      <td>0</td>\n",
       "      <td>3</td>\n",
       "      <td>150.878447</td>\n",
       "      <td>3</td>\n",
       "      <td>0</td>\n",
       "      <td>0</td>\n",
       "      <td>3</td>\n",
       "      <td>4</td>\n",
       "      <td>1</td>\n",
       "      <td>0</td>\n",
       "      <td>1</td>\n",
       "      <td>1</td>\n",
       "      <td>2</td>\n",
       "      <td>5</td>\n",
       "      <td>0</td>\n",
       "    </tr>\n",
       "    <tr>\n",
       "      <th>681</th>\n",
       "      <td>35296</td>\n",
       "      <td>126</td>\n",
       "      <td>19</td>\n",
       "      <td>11</td>\n",
       "      <td>0</td>\n",
       "      <td>2</td>\n",
       "      <td>452.616872</td>\n",
       "      <td>0</td>\n",
       "      <td>0</td>\n",
       "      <td>1</td>\n",
       "      <td>4</td>\n",
       "      <td>1</td>\n",
       "      <td>1</td>\n",
       "      <td>2</td>\n",
       "      <td>2</td>\n",
       "      <td>1</td>\n",
       "      <td>1</td>\n",
       "      <td>3</td>\n",
       "      <td>1</td>\n",
       "    </tr>\n",
       "  </tbody>\n",
       "</table>\n",
       "<p>2741 rows × 19 columns</p>\n",
       "</div>"
      ],
      "text/plain": [
       "      income  monthly_premium_auto  months_since_last_claim  \\\n",
       "708    74585                   106                        1   \n",
       "47     23218                    71                        7   \n",
       "3995   94903                    94                        3   \n",
       "1513   77153                    99                        3   \n",
       "3686   23769                    69                       18   \n",
       "...      ...                   ...                      ...   \n",
       "4271   86096                   108                       30   \n",
       "7923       0                   122                       15   \n",
       "5633   85609                   136                       22   \n",
       "8432       0                    71                       12   \n",
       "681    35296                   126                       19   \n",
       "\n",
       "      months_since_policy_inception  number_of_open_complaints  \\\n",
       "708                              49                          0   \n",
       "47                               10                          0   \n",
       "3995                             38                          0   \n",
       "1513                             27                          1   \n",
       "3686                             14                          0   \n",
       "...                             ...                        ...   \n",
       "4271                              1                          0   \n",
       "7923                             47                          0   \n",
       "5633                             17                          0   \n",
       "8432                             55                          0   \n",
       "681                              11                          0   \n",
       "\n",
       "      number_of_policies  total_claim_amount  state  response  coverage  \\\n",
       "708                    1          218.598065      1         0         0   \n",
       "47                     4          447.793440      3         0         0   \n",
       "3995                   1          451.200000      3         1         1   \n",
       "1513                   5          355.641958      1         0         1   \n",
       "3686                   2          470.097411      4         0         0   \n",
       "...                  ...                 ...    ...       ...       ...   \n",
       "4271                   1          518.400000      3         0         2   \n",
       "7923                   9          650.521790      4         1         1   \n",
       "5633                   1          652.800000      0         0         1   \n",
       "8432                   3          150.878447      3         0         0   \n",
       "681                    2          452.616872      0         0         1   \n",
       "\n",
       "      education  employmentstatus  gender  location_code  marital_status  \\\n",
       "708           3                 1       1              0               1   \n",
       "47            3                 1       0              1               2   \n",
       "3995          1                 1       0              1               1   \n",
       "1513          1                 1       0              2               1   \n",
       "3686          3                 0       0              1               0   \n",
       "...         ...               ...     ...            ...             ...   \n",
       "4271          3                 1       1              1               1   \n",
       "7923          4                 4       0              1               2   \n",
       "5633          2                 1       0              1               1   \n",
       "8432          3                 4       1              0               1   \n",
       "681           4                 1       1              2               2   \n",
       "\n",
       "      renew_offer_type  sales_channel  vehicle_class  vehicle_size  \n",
       "708                  1              0              3             1  \n",
       "47                   3              0              5             1  \n",
       "3995                 1              0              5             2  \n",
       "1513                 0              1              0             1  \n",
       "3686                 0              1              0             1  \n",
       "...                ...            ...            ...           ...  \n",
       "4271                 1              2              5             0  \n",
       "7923                 0              1              4             1  \n",
       "5633                 1              0              3             1  \n",
       "8432                 1              2              5             0  \n",
       "681                  1              1              3             1  \n",
       "\n",
       "[2741 rows x 19 columns]"
      ]
     },
     "execution_count": 49,
     "metadata": {},
     "output_type": "execute_result"
    }
   ],
   "source": [
    "X_test"
   ]
  },
  {
   "cell_type": "markdown",
   "metadata": {
    "id": "fuCuxM7VLroj"
   },
   "source": [
    "## **Ridge and Lasso Regression**"
   ]
  },
  {
   "cell_type": "code",
   "execution_count": 50,
   "metadata": {
    "id": "qsjLEpH7LnC2"
   },
   "outputs": [],
   "source": [
    "from sklearn.linear_model import Ridge, Lasso\n",
    "from sklearn.metrics import mean_squared_error,r2_score,mean_absolute_error"
   ]
  },
  {
   "cell_type": "code",
   "execution_count": 51,
   "metadata": {
    "colab": {
     "base_uri": "https://localhost:8080/"
    },
    "id": "PQk1ONFnMGc5",
    "outputId": "d254ae55-0dc1-4b1b-83a6-72bf38c92f09"
   },
   "outputs": [
    {
     "name": "stdout",
     "output_type": "stream",
     "text": [
      "Ridge Regression\n",
      "RMSE: 0.5810690838130587\n",
      "R-Squared: 0.24490043544447815\n"
     ]
    }
   ],
   "source": [
    "ridge = Ridge(alpha=0.1)\n",
    "ridge.fit(X_train,y_train)\n",
    "print('Ridge Regression')\n",
    "\n",
    "y_pred =ridge.predict(X_test)\n",
    "print('RMSE:',np.sqrt(mean_squared_error(y_test, y_pred)))\n",
    "print('R-Squared:', r2_score(y_test, y_pred))"
   ]
  },
  {
   "cell_type": "code",
   "execution_count": 52,
   "metadata": {
    "colab": {
     "base_uri": "https://localhost:8080/"
    },
    "id": "4e-tcyA3NUji",
    "outputId": "321e7fbc-4d4c-4972-de0c-b29d6f5584a6"
   },
   "outputs": [
    {
     "name": "stdout",
     "output_type": "stream",
     "text": [
      "R^2 score for train: 0.2498261391140899\n",
      "R^2 score for test: 0.24490043544447815\n"
     ]
    }
   ],
   "source": [
    "print(f'R^2 score for train: {ridge.score(X_train, y_train)}')\n",
    "print(f'R^2 score for test: {ridge.score(X_test, y_test)}')"
   ]
  },
  {
   "cell_type": "code",
   "execution_count": 53,
   "metadata": {
    "colab": {
     "base_uri": "https://localhost:8080/"
    },
    "id": "-26llU_DNUg2",
    "outputId": "e3253575-9552-415c-91a8-997ad4f58e31"
   },
   "outputs": [
    {
     "name": "stdout",
     "output_type": "stream",
     "text": [
      "lasso Repression\n",
      "RMSE: 0.5992937645386806\n",
      "R-Squared: 0.19679167777854623\n"
     ]
    }
   ],
   "source": [
    "lasso = Lasso(random_state=1)\n",
    "lasso.fit(X_train,y_train)\n",
    "print('lasso Repression')\n",
    "\n",
    "y_pred =lasso.predict(X_test)\n",
    "print('RMSE:',np.sqrt(mean_squared_error(y_test, y_pred)))\n",
    "print('R-Squared:', r2_score(y_test, y_pred))"
   ]
  },
  {
   "cell_type": "code",
   "execution_count": 54,
   "metadata": {
    "colab": {
     "base_uri": "https://localhost:8080/"
    },
    "id": "YTOw3IoHPjKJ",
    "outputId": "1e69a850-0882-445c-9a38-3a2a42ef58dc"
   },
   "outputs": [
    {
     "name": "stdout",
     "output_type": "stream",
     "text": [
      "R^2 score for train: 0.1950367516366417\n",
      "R^2 score for test: 0.19679167777854623\n"
     ]
    }
   ],
   "source": [
    "print(f'R^2 score for train: {lasso.score(X_train, y_train)}')\n",
    "print(f'R^2 score for test: {lasso.score(X_test, y_test)}')"
   ]
  },
  {
   "cell_type": "markdown",
   "metadata": {
    "id": "iju5KTSXPzWE"
   },
   "source": [
    "## **Decision Tree**"
   ]
  },
  {
   "cell_type": "code",
   "execution_count": 55,
   "metadata": {
    "colab": {
     "base_uri": "https://localhost:8080/"
    },
    "id": "6GKEKDzCPrhK",
    "outputId": "e1599c27-f1a7-406c-9af9-25896888ed4f"
   },
   "outputs": [
    {
     "name": "stdout",
     "output_type": "stream",
     "text": [
      "Decision Tree regressor\n",
      "RMSE: 0.26078138686341046\n",
      "MAE: 0.10236061415572233\n",
      "R-Squared: 0.8479095787263874\n"
     ]
    }
   ],
   "source": [
    "from sklearn.tree import DecisionTreeRegressor\n",
    "dt = DecisionTreeRegressor(random_state=1)\n",
    "\n",
    "dt.fit(X_train, y_train)\n",
    "print('Decision Tree regressor')\n",
    "\n",
    "y_pred =dt.predict(X_test)\n",
    "print('RMSE:',np.sqrt(mean_squared_error(y_test, y_pred)))\n",
    "print('MAE:', mean_absolute_error(y_test, y_pred) )\n",
    "print('R-Squared:', r2_score(y_test, y_pred))"
   ]
  },
  {
   "cell_type": "code",
   "execution_count": 56,
   "metadata": {
    "colab": {
     "base_uri": "https://localhost:8080/"
    },
    "id": "QqEUQdG3Qs7y",
    "outputId": "3e03634f-0ab0-4818-9a62-e299fb26d55b"
   },
   "outputs": [
    {
     "name": "stdout",
     "output_type": "stream",
     "text": [
      "R^2 score for train: 1.0\n",
      "R^2 score for test: 0.8479095787263874\n"
     ]
    }
   ],
   "source": [
    "print(f'R^2 score for train: {dt.score(X_train, y_train)}')\n",
    "print(f'R^2 score for test: {dt.score(X_test, y_test)}')"
   ]
  },
  {
   "cell_type": "markdown",
   "metadata": {
    "id": "7KpbUpZYRLZS"
   },
   "source": [
    "## **Random Forest Regressor**"
   ]
  },
  {
   "cell_type": "code",
   "execution_count": 57,
   "metadata": {
    "id": "U6O_kzPPQ0TJ"
   },
   "outputs": [],
   "source": [
    "from sklearn.ensemble import RandomForestRegressor"
   ]
  },
  {
   "cell_type": "code",
   "execution_count": 58,
   "metadata": {
    "colab": {
     "base_uri": "https://localhost:8080/"
    },
    "id": "TRIZXRTqRaZC",
    "outputId": "44671a76-62ae-4155-9f7c-e565cee6f949"
   },
   "outputs": [
    {
     "name": "stdout",
     "output_type": "stream",
     "text": [
      "Random Forest regressor\n",
      "RMSE: 0.2056758841734698\n",
      "MAE: 0.0923388172996589\n",
      "R-Squared: 0.9053947086516911\n"
     ]
    }
   ],
   "source": [
    "rf = RandomForestRegressor(n_estimators=10, random_state=1)\n",
    "rf.fit(X_train, y_train)\n",
    "print('Random Forest regressor')\n",
    "y_pred = rf.predict(X_test)\n",
    "\n",
    "print('RMSE:',np.sqrt(mean_squared_error(y_test, y_pred)))\n",
    "print('MAE:', mean_absolute_error(y_test, y_pred) )\n",
    "print('R-Squared:', r2_score(y_test, y_pred))"
   ]
  },
  {
   "cell_type": "code",
   "execution_count": 59,
   "metadata": {
    "colab": {
     "base_uri": "https://localhost:8080/"
    },
    "id": "OAXb9uE_RyAt",
    "outputId": "27b4c759-d876-4a1e-a5ba-d4b1100ae24b"
   },
   "outputs": [
    {
     "name": "stdout",
     "output_type": "stream",
     "text": [
      "R^2 score for train: 0.9828742032067649\n",
      "R^2 score for test: 0.9053947086516911\n"
     ]
    }
   ],
   "source": [
    "print(f'R^2 score for train: {rf.score(X_train, y_train)}')\n",
    "print(f'R^2 score for test: {rf.score(X_test, y_test)}')"
   ]
  },
  {
   "cell_type": "code",
   "execution_count": 60,
   "metadata": {
    "colab": {
     "base_uri": "https://localhost:8080/",
     "height": 443
    },
    "id": "yamvre3qWr-p",
    "outputId": "0f28b8ae-5023-48a4-acce-a6f36c6a3e5e"
   },
   "outputs": [
    {
     "data": {
      "text/html": [
       "<div>\n",
       "<style scoped>\n",
       "    .dataframe tbody tr th:only-of-type {\n",
       "        vertical-align: middle;\n",
       "    }\n",
       "\n",
       "    .dataframe tbody tr th {\n",
       "        vertical-align: top;\n",
       "    }\n",
       "\n",
       "    .dataframe thead th {\n",
       "        text-align: right;\n",
       "    }\n",
       "</style>\n",
       "<table border=\"1\" class=\"dataframe\">\n",
       "  <thead>\n",
       "    <tr style=\"text-align: right;\">\n",
       "      <th></th>\n",
       "      <th>income</th>\n",
       "      <th>monthly_premium_auto</th>\n",
       "      <th>months_since_last_claim</th>\n",
       "      <th>months_since_policy_inception</th>\n",
       "      <th>number_of_open_complaints</th>\n",
       "      <th>number_of_policies</th>\n",
       "      <th>total_claim_amount</th>\n",
       "      <th>state</th>\n",
       "      <th>response</th>\n",
       "      <th>coverage</th>\n",
       "      <th>education</th>\n",
       "      <th>employmentstatus</th>\n",
       "      <th>gender</th>\n",
       "      <th>location_code</th>\n",
       "      <th>marital_status</th>\n",
       "      <th>renew_offer_type</th>\n",
       "      <th>sales_channel</th>\n",
       "      <th>vehicle_class</th>\n",
       "      <th>vehicle_size</th>\n",
       "    </tr>\n",
       "  </thead>\n",
       "  <tbody>\n",
       "    <tr>\n",
       "      <th>708</th>\n",
       "      <td>74585</td>\n",
       "      <td>106</td>\n",
       "      <td>1</td>\n",
       "      <td>49</td>\n",
       "      <td>0</td>\n",
       "      <td>1</td>\n",
       "      <td>218.598065</td>\n",
       "      <td>1</td>\n",
       "      <td>0</td>\n",
       "      <td>0</td>\n",
       "      <td>3</td>\n",
       "      <td>1</td>\n",
       "      <td>1</td>\n",
       "      <td>0</td>\n",
       "      <td>1</td>\n",
       "      <td>1</td>\n",
       "      <td>0</td>\n",
       "      <td>3</td>\n",
       "      <td>1</td>\n",
       "    </tr>\n",
       "    <tr>\n",
       "      <th>47</th>\n",
       "      <td>23218</td>\n",
       "      <td>71</td>\n",
       "      <td>7</td>\n",
       "      <td>10</td>\n",
       "      <td>0</td>\n",
       "      <td>4</td>\n",
       "      <td>447.793440</td>\n",
       "      <td>3</td>\n",
       "      <td>0</td>\n",
       "      <td>0</td>\n",
       "      <td>3</td>\n",
       "      <td>1</td>\n",
       "      <td>0</td>\n",
       "      <td>1</td>\n",
       "      <td>2</td>\n",
       "      <td>3</td>\n",
       "      <td>0</td>\n",
       "      <td>5</td>\n",
       "      <td>1</td>\n",
       "    </tr>\n",
       "    <tr>\n",
       "      <th>3995</th>\n",
       "      <td>94903</td>\n",
       "      <td>94</td>\n",
       "      <td>3</td>\n",
       "      <td>38</td>\n",
       "      <td>0</td>\n",
       "      <td>1</td>\n",
       "      <td>451.200000</td>\n",
       "      <td>3</td>\n",
       "      <td>1</td>\n",
       "      <td>1</td>\n",
       "      <td>1</td>\n",
       "      <td>1</td>\n",
       "      <td>0</td>\n",
       "      <td>1</td>\n",
       "      <td>1</td>\n",
       "      <td>1</td>\n",
       "      <td>0</td>\n",
       "      <td>5</td>\n",
       "      <td>2</td>\n",
       "    </tr>\n",
       "    <tr>\n",
       "      <th>1513</th>\n",
       "      <td>77153</td>\n",
       "      <td>99</td>\n",
       "      <td>3</td>\n",
       "      <td>27</td>\n",
       "      <td>1</td>\n",
       "      <td>5</td>\n",
       "      <td>355.641958</td>\n",
       "      <td>1</td>\n",
       "      <td>0</td>\n",
       "      <td>1</td>\n",
       "      <td>1</td>\n",
       "      <td>1</td>\n",
       "      <td>0</td>\n",
       "      <td>2</td>\n",
       "      <td>1</td>\n",
       "      <td>0</td>\n",
       "      <td>1</td>\n",
       "      <td>0</td>\n",
       "      <td>1</td>\n",
       "    </tr>\n",
       "    <tr>\n",
       "      <th>3686</th>\n",
       "      <td>23769</td>\n",
       "      <td>69</td>\n",
       "      <td>18</td>\n",
       "      <td>14</td>\n",
       "      <td>0</td>\n",
       "      <td>2</td>\n",
       "      <td>470.097411</td>\n",
       "      <td>4</td>\n",
       "      <td>0</td>\n",
       "      <td>0</td>\n",
       "      <td>3</td>\n",
       "      <td>0</td>\n",
       "      <td>0</td>\n",
       "      <td>1</td>\n",
       "      <td>0</td>\n",
       "      <td>0</td>\n",
       "      <td>1</td>\n",
       "      <td>0</td>\n",
       "      <td>1</td>\n",
       "    </tr>\n",
       "    <tr>\n",
       "      <th>...</th>\n",
       "      <td>...</td>\n",
       "      <td>...</td>\n",
       "      <td>...</td>\n",
       "      <td>...</td>\n",
       "      <td>...</td>\n",
       "      <td>...</td>\n",
       "      <td>...</td>\n",
       "      <td>...</td>\n",
       "      <td>...</td>\n",
       "      <td>...</td>\n",
       "      <td>...</td>\n",
       "      <td>...</td>\n",
       "      <td>...</td>\n",
       "      <td>...</td>\n",
       "      <td>...</td>\n",
       "      <td>...</td>\n",
       "      <td>...</td>\n",
       "      <td>...</td>\n",
       "      <td>...</td>\n",
       "    </tr>\n",
       "    <tr>\n",
       "      <th>4271</th>\n",
       "      <td>86096</td>\n",
       "      <td>108</td>\n",
       "      <td>30</td>\n",
       "      <td>1</td>\n",
       "      <td>0</td>\n",
       "      <td>1</td>\n",
       "      <td>518.400000</td>\n",
       "      <td>3</td>\n",
       "      <td>0</td>\n",
       "      <td>2</td>\n",
       "      <td>3</td>\n",
       "      <td>1</td>\n",
       "      <td>1</td>\n",
       "      <td>1</td>\n",
       "      <td>1</td>\n",
       "      <td>1</td>\n",
       "      <td>2</td>\n",
       "      <td>5</td>\n",
       "      <td>0</td>\n",
       "    </tr>\n",
       "    <tr>\n",
       "      <th>7923</th>\n",
       "      <td>0</td>\n",
       "      <td>122</td>\n",
       "      <td>15</td>\n",
       "      <td>47</td>\n",
       "      <td>0</td>\n",
       "      <td>9</td>\n",
       "      <td>650.521790</td>\n",
       "      <td>4</td>\n",
       "      <td>1</td>\n",
       "      <td>1</td>\n",
       "      <td>4</td>\n",
       "      <td>4</td>\n",
       "      <td>0</td>\n",
       "      <td>1</td>\n",
       "      <td>2</td>\n",
       "      <td>0</td>\n",
       "      <td>1</td>\n",
       "      <td>4</td>\n",
       "      <td>1</td>\n",
       "    </tr>\n",
       "    <tr>\n",
       "      <th>5633</th>\n",
       "      <td>85609</td>\n",
       "      <td>136</td>\n",
       "      <td>22</td>\n",
       "      <td>17</td>\n",
       "      <td>0</td>\n",
       "      <td>1</td>\n",
       "      <td>652.800000</td>\n",
       "      <td>0</td>\n",
       "      <td>0</td>\n",
       "      <td>1</td>\n",
       "      <td>2</td>\n",
       "      <td>1</td>\n",
       "      <td>0</td>\n",
       "      <td>1</td>\n",
       "      <td>1</td>\n",
       "      <td>1</td>\n",
       "      <td>0</td>\n",
       "      <td>3</td>\n",
       "      <td>1</td>\n",
       "    </tr>\n",
       "    <tr>\n",
       "      <th>8432</th>\n",
       "      <td>0</td>\n",
       "      <td>71</td>\n",
       "      <td>12</td>\n",
       "      <td>55</td>\n",
       "      <td>0</td>\n",
       "      <td>3</td>\n",
       "      <td>150.878447</td>\n",
       "      <td>3</td>\n",
       "      <td>0</td>\n",
       "      <td>0</td>\n",
       "      <td>3</td>\n",
       "      <td>4</td>\n",
       "      <td>1</td>\n",
       "      <td>0</td>\n",
       "      <td>1</td>\n",
       "      <td>1</td>\n",
       "      <td>2</td>\n",
       "      <td>5</td>\n",
       "      <td>0</td>\n",
       "    </tr>\n",
       "    <tr>\n",
       "      <th>681</th>\n",
       "      <td>35296</td>\n",
       "      <td>126</td>\n",
       "      <td>19</td>\n",
       "      <td>11</td>\n",
       "      <td>0</td>\n",
       "      <td>2</td>\n",
       "      <td>452.616872</td>\n",
       "      <td>0</td>\n",
       "      <td>0</td>\n",
       "      <td>1</td>\n",
       "      <td>4</td>\n",
       "      <td>1</td>\n",
       "      <td>1</td>\n",
       "      <td>2</td>\n",
       "      <td>2</td>\n",
       "      <td>1</td>\n",
       "      <td>1</td>\n",
       "      <td>3</td>\n",
       "      <td>1</td>\n",
       "    </tr>\n",
       "  </tbody>\n",
       "</table>\n",
       "<p>2741 rows × 19 columns</p>\n",
       "</div>"
      ],
      "text/plain": [
       "      income  monthly_premium_auto  months_since_last_claim  \\\n",
       "708    74585                   106                        1   \n",
       "47     23218                    71                        7   \n",
       "3995   94903                    94                        3   \n",
       "1513   77153                    99                        3   \n",
       "3686   23769                    69                       18   \n",
       "...      ...                   ...                      ...   \n",
       "4271   86096                   108                       30   \n",
       "7923       0                   122                       15   \n",
       "5633   85609                   136                       22   \n",
       "8432       0                    71                       12   \n",
       "681    35296                   126                       19   \n",
       "\n",
       "      months_since_policy_inception  number_of_open_complaints  \\\n",
       "708                              49                          0   \n",
       "47                               10                          0   \n",
       "3995                             38                          0   \n",
       "1513                             27                          1   \n",
       "3686                             14                          0   \n",
       "...                             ...                        ...   \n",
       "4271                              1                          0   \n",
       "7923                             47                          0   \n",
       "5633                             17                          0   \n",
       "8432                             55                          0   \n",
       "681                              11                          0   \n",
       "\n",
       "      number_of_policies  total_claim_amount  state  response  coverage  \\\n",
       "708                    1          218.598065      1         0         0   \n",
       "47                     4          447.793440      3         0         0   \n",
       "3995                   1          451.200000      3         1         1   \n",
       "1513                   5          355.641958      1         0         1   \n",
       "3686                   2          470.097411      4         0         0   \n",
       "...                  ...                 ...    ...       ...       ...   \n",
       "4271                   1          518.400000      3         0         2   \n",
       "7923                   9          650.521790      4         1         1   \n",
       "5633                   1          652.800000      0         0         1   \n",
       "8432                   3          150.878447      3         0         0   \n",
       "681                    2          452.616872      0         0         1   \n",
       "\n",
       "      education  employmentstatus  gender  location_code  marital_status  \\\n",
       "708           3                 1       1              0               1   \n",
       "47            3                 1       0              1               2   \n",
       "3995          1                 1       0              1               1   \n",
       "1513          1                 1       0              2               1   \n",
       "3686          3                 0       0              1               0   \n",
       "...         ...               ...     ...            ...             ...   \n",
       "4271          3                 1       1              1               1   \n",
       "7923          4                 4       0              1               2   \n",
       "5633          2                 1       0              1               1   \n",
       "8432          3                 4       1              0               1   \n",
       "681           4                 1       1              2               2   \n",
       "\n",
       "      renew_offer_type  sales_channel  vehicle_class  vehicle_size  \n",
       "708                  1              0              3             1  \n",
       "47                   3              0              5             1  \n",
       "3995                 1              0              5             2  \n",
       "1513                 0              1              0             1  \n",
       "3686                 0              1              0             1  \n",
       "...                ...            ...            ...           ...  \n",
       "4271                 1              2              5             0  \n",
       "7923                 0              1              4             1  \n",
       "5633                 1              0              3             1  \n",
       "8432                 1              2              5             0  \n",
       "681                  1              1              3             1  \n",
       "\n",
       "[2741 rows x 19 columns]"
      ]
     },
     "execution_count": 60,
     "metadata": {},
     "output_type": "execute_result"
    }
   ],
   "source": [
    "X_test"
   ]
  },
  {
   "cell_type": "code",
   "execution_count": 61,
   "metadata": {
    "id": "vhqIecixVzOG"
   },
   "outputs": [],
   "source": [
    "single_test = X_test[1:2]"
   ]
  },
  {
   "cell_type": "code",
   "execution_count": 62,
   "metadata": {
    "colab": {
     "base_uri": "https://localhost:8080/",
     "height": 101
    },
    "id": "UrL4bX-FWHjG",
    "outputId": "7be95817-b9f9-45c7-90a6-e70c68086953"
   },
   "outputs": [
    {
     "data": {
      "text/html": [
       "<div>\n",
       "<style scoped>\n",
       "    .dataframe tbody tr th:only-of-type {\n",
       "        vertical-align: middle;\n",
       "    }\n",
       "\n",
       "    .dataframe tbody tr th {\n",
       "        vertical-align: top;\n",
       "    }\n",
       "\n",
       "    .dataframe thead th {\n",
       "        text-align: right;\n",
       "    }\n",
       "</style>\n",
       "<table border=\"1\" class=\"dataframe\">\n",
       "  <thead>\n",
       "    <tr style=\"text-align: right;\">\n",
       "      <th></th>\n",
       "      <th>income</th>\n",
       "      <th>monthly_premium_auto</th>\n",
       "      <th>months_since_last_claim</th>\n",
       "      <th>months_since_policy_inception</th>\n",
       "      <th>number_of_open_complaints</th>\n",
       "      <th>number_of_policies</th>\n",
       "      <th>total_claim_amount</th>\n",
       "      <th>state</th>\n",
       "      <th>response</th>\n",
       "      <th>coverage</th>\n",
       "      <th>education</th>\n",
       "      <th>employmentstatus</th>\n",
       "      <th>gender</th>\n",
       "      <th>location_code</th>\n",
       "      <th>marital_status</th>\n",
       "      <th>renew_offer_type</th>\n",
       "      <th>sales_channel</th>\n",
       "      <th>vehicle_class</th>\n",
       "      <th>vehicle_size</th>\n",
       "    </tr>\n",
       "  </thead>\n",
       "  <tbody>\n",
       "    <tr>\n",
       "      <th>47</th>\n",
       "      <td>23218</td>\n",
       "      <td>71</td>\n",
       "      <td>7</td>\n",
       "      <td>10</td>\n",
       "      <td>0</td>\n",
       "      <td>4</td>\n",
       "      <td>447.79344</td>\n",
       "      <td>3</td>\n",
       "      <td>0</td>\n",
       "      <td>0</td>\n",
       "      <td>3</td>\n",
       "      <td>1</td>\n",
       "      <td>0</td>\n",
       "      <td>1</td>\n",
       "      <td>2</td>\n",
       "      <td>3</td>\n",
       "      <td>0</td>\n",
       "      <td>5</td>\n",
       "      <td>1</td>\n",
       "    </tr>\n",
       "  </tbody>\n",
       "</table>\n",
       "</div>"
      ],
      "text/plain": [
       "    income  monthly_premium_auto  months_since_last_claim  \\\n",
       "47   23218                    71                        7   \n",
       "\n",
       "    months_since_policy_inception  number_of_open_complaints  \\\n",
       "47                             10                          0   \n",
       "\n",
       "    number_of_policies  total_claim_amount  state  response  coverage  \\\n",
       "47                   4           447.79344      3         0         0   \n",
       "\n",
       "    education  employmentstatus  gender  location_code  marital_status  \\\n",
       "47          3                 1       0              1               2   \n",
       "\n",
       "    renew_offer_type  sales_channel  vehicle_class  vehicle_size  \n",
       "47                 3              0              5             1  "
      ]
     },
     "execution_count": 62,
     "metadata": {},
     "output_type": "execute_result"
    }
   ],
   "source": [
    "single_test"
   ]
  },
  {
   "cell_type": "code",
   "execution_count": 63,
   "metadata": {
    "id": "FddC_qgxYFoz"
   },
   "outputs": [],
   "source": [
    "sp =[23218,\t71,\t7,\t10,\t0,\t4,\t447.79344,\t3,\t0,\t0,\t3,\t1\t,0,1,\t2,\t3,\t0,\t5,\t1]"
   ]
  },
  {
   "cell_type": "code",
   "execution_count": 64,
   "metadata": {
    "colab": {
     "base_uri": "https://localhost:8080/"
    },
    "id": "UjZcO_ptVWSn",
    "outputId": "741e0534-4f65-4442-9c2b-45af6699ae19"
   },
   "outputs": [
    {
     "name": "stderr",
     "output_type": "stream",
     "text": [
      "/opt/homebrew/lib/python3.11/site-packages/sklearn/base.py:465: UserWarning: X does not have valid feature names, but RandomForestRegressor was fitted with feature names\n",
      "  warnings.warn(\n"
     ]
    }
   ],
   "source": [
    "\n",
    "y_pred_test = rf.predict([sp])"
   ]
  },
  {
   "cell_type": "code",
   "execution_count": 65,
   "metadata": {
    "colab": {
     "base_uri": "https://localhost:8080/"
    },
    "id": "Za9SPhPjXIkA",
    "outputId": "83361d8e-3350-4bc0-fa03-bbbbc4d5a2fc"
   },
   "outputs": [
    {
     "data": {
      "text/plain": [
       "array([5408.40479367])"
      ]
     },
     "execution_count": 65,
     "metadata": {},
     "output_type": "execute_result"
    }
   ],
   "source": [
    "np.exp(y_pred_test)"
   ]
  },
  {
   "cell_type": "code",
   "execution_count": 66,
   "metadata": {
    "colab": {
     "base_uri": "https://localhost:8080/"
    },
    "id": "nSBPBG1yXs5e",
    "outputId": "c80f437c-d128-4fa9-dce8-76327d252c03"
   },
   "outputs": [
    {
     "data": {
      "text/plain": [
       "customer_lifetime_value           5514.344018\n",
       "income                           23218.000000\n",
       "monthly_premium_auto                71.000000\n",
       "months_since_last_claim              7.000000\n",
       "months_since_policy_inception       10.000000\n",
       "number_of_open_complaints            0.000000\n",
       "number_of_policies                   4.000000\n",
       "total_claim_amount                 447.793440\n",
       "state                                3.000000\n",
       "response                             0.000000\n",
       "coverage                             0.000000\n",
       "education                            3.000000\n",
       "employmentstatus                     1.000000\n",
       "gender                               0.000000\n",
       "location_code                        1.000000\n",
       "marital_status                       2.000000\n",
       "policy_type                          1.000000\n",
       "policy                               4.000000\n",
       "renew_offer_type                     3.000000\n",
       "sales_channel                        0.000000\n",
       "vehicle_class                        5.000000\n",
       "vehicle_size                         1.000000\n",
       "Name: 47, dtype: float64"
      ]
     },
     "execution_count": 66,
     "metadata": {},
     "output_type": "execute_result"
    }
   ],
   "source": [
    "df_final.iloc[47]"
   ]
  },
  {
   "cell_type": "code",
   "execution_count": 67,
   "metadata": {
    "colab": {
     "base_uri": "https://localhost:8080/"
    },
    "id": "djx1xPeToWNy",
    "outputId": "87428940-8b1d-4d0f-a6e3-3d4a7130d691"
   },
   "outputs": [
    {
     "data": {
      "text/plain": [
       "customer                                      XM45289\n",
       "state                                          Oregon\n",
       "customer_lifetime_value                   5514.344018\n",
       "response                                           No\n",
       "coverage                                        Basic\n",
       "education                        High School or Below\n",
       "effective_to_date                 2011-02-01 00:00:00\n",
       "employmentstatus                             Employed\n",
       "gender                                              F\n",
       "income                                          23218\n",
       "location_code                                Suburban\n",
       "marital_status                                 Single\n",
       "monthly_premium_auto                               71\n",
       "months_since_last_claim                             7\n",
       "months_since_policy_inception                      10\n",
       "number_of_open_complaints                           0\n",
       "number_of_policies                                  4\n",
       "policy_type                             Personal Auto\n",
       "policy                                    Personal L2\n",
       "renew_offer_type                               Offer4\n",
       "sales_channel                                   Agent\n",
       "total_claim_amount                          447.79344\n",
       "vehicle_class                            Two-Door Car\n",
       "vehicle_size                                  Medsize\n",
       "Name: 47, dtype: object"
      ]
     },
     "execution_count": 67,
     "metadata": {},
     "output_type": "execute_result"
    }
   ],
   "source": [
    "df.iloc[47]"
   ]
  },
  {
   "cell_type": "code",
   "execution_count": 68,
   "metadata": {
    "colab": {
     "base_uri": "https://localhost:8080/",
     "height": 634
    },
    "id": "kgbubQp1mCaW",
    "outputId": "6538dded-1063-4374-93a6-90710130df92"
   },
   "outputs": [
    {
     "data": {
      "text/html": [
       "<div>\n",
       "<style scoped>\n",
       "    .dataframe tbody tr th:only-of-type {\n",
       "        vertical-align: middle;\n",
       "    }\n",
       "\n",
       "    .dataframe tbody tr th {\n",
       "        vertical-align: top;\n",
       "    }\n",
       "\n",
       "    .dataframe thead th {\n",
       "        text-align: right;\n",
       "    }\n",
       "</style>\n",
       "<table border=\"1\" class=\"dataframe\">\n",
       "  <thead>\n",
       "    <tr style=\"text-align: right;\">\n",
       "      <th></th>\n",
       "      <th>customer</th>\n",
       "      <th>state</th>\n",
       "      <th>customer_lifetime_value</th>\n",
       "      <th>response</th>\n",
       "      <th>coverage</th>\n",
       "      <th>education</th>\n",
       "      <th>effective_to_date</th>\n",
       "      <th>employmentstatus</th>\n",
       "      <th>gender</th>\n",
       "      <th>income</th>\n",
       "      <th>...</th>\n",
       "      <th>months_since_policy_inception</th>\n",
       "      <th>number_of_open_complaints</th>\n",
       "      <th>number_of_policies</th>\n",
       "      <th>policy_type</th>\n",
       "      <th>policy</th>\n",
       "      <th>renew_offer_type</th>\n",
       "      <th>sales_channel</th>\n",
       "      <th>total_claim_amount</th>\n",
       "      <th>vehicle_class</th>\n",
       "      <th>vehicle_size</th>\n",
       "    </tr>\n",
       "  </thead>\n",
       "  <tbody>\n",
       "    <tr>\n",
       "      <th>5</th>\n",
       "      <td>OC83172</td>\n",
       "      <td>Oregon</td>\n",
       "      <td>8256.297800</td>\n",
       "      <td>Yes</td>\n",
       "      <td>Basic</td>\n",
       "      <td>Bachelor</td>\n",
       "      <td>2011-01-25</td>\n",
       "      <td>Employed</td>\n",
       "      <td>F</td>\n",
       "      <td>62902</td>\n",
       "      <td>...</td>\n",
       "      <td>94</td>\n",
       "      <td>0</td>\n",
       "      <td>2</td>\n",
       "      <td>Personal Auto</td>\n",
       "      <td>Personal L3</td>\n",
       "      <td>Offer2</td>\n",
       "      <td>Web</td>\n",
       "      <td>159.383042</td>\n",
       "      <td>Two-Door Car</td>\n",
       "      <td>Medsize</td>\n",
       "    </tr>\n",
       "    <tr>\n",
       "      <th>34</th>\n",
       "      <td>SK67821</td>\n",
       "      <td>Oregon</td>\n",
       "      <td>4932.916345</td>\n",
       "      <td>No</td>\n",
       "      <td>Basic</td>\n",
       "      <td>Bachelor</td>\n",
       "      <td>2011-02-13</td>\n",
       "      <td>Employed</td>\n",
       "      <td>F</td>\n",
       "      <td>37260</td>\n",
       "      <td>...</td>\n",
       "      <td>42</td>\n",
       "      <td>0</td>\n",
       "      <td>8</td>\n",
       "      <td>Corporate Auto</td>\n",
       "      <td>Corporate L1</td>\n",
       "      <td>Offer3</td>\n",
       "      <td>Web</td>\n",
       "      <td>15.437681</td>\n",
       "      <td>Four-Door Car</td>\n",
       "      <td>Medsize</td>\n",
       "    </tr>\n",
       "    <tr>\n",
       "      <th>37</th>\n",
       "      <td>DM79012</td>\n",
       "      <td>Oregon</td>\n",
       "      <td>7380.976717</td>\n",
       "      <td>No</td>\n",
       "      <td>Extended</td>\n",
       "      <td>Master</td>\n",
       "      <td>2011-06-02</td>\n",
       "      <td>Employed</td>\n",
       "      <td>F</td>\n",
       "      <td>65706</td>\n",
       "      <td>...</td>\n",
       "      <td>86</td>\n",
       "      <td>0</td>\n",
       "      <td>8</td>\n",
       "      <td>Personal Auto</td>\n",
       "      <td>Personal L3</td>\n",
       "      <td>Offer2</td>\n",
       "      <td>Web</td>\n",
       "      <td>436.800000</td>\n",
       "      <td>Four-Door Car</td>\n",
       "      <td>Small</td>\n",
       "    </tr>\n",
       "    <tr>\n",
       "      <th>51</th>\n",
       "      <td>PY51963</td>\n",
       "      <td>California</td>\n",
       "      <td>33473.349460</td>\n",
       "      <td>Yes</td>\n",
       "      <td>Basic</td>\n",
       "      <td>Bachelor</td>\n",
       "      <td>2011-11-01</td>\n",
       "      <td>Employed</td>\n",
       "      <td>F</td>\n",
       "      <td>33190</td>\n",
       "      <td>...</td>\n",
       "      <td>95</td>\n",
       "      <td>0</td>\n",
       "      <td>2</td>\n",
       "      <td>Corporate Auto</td>\n",
       "      <td>Corporate L1</td>\n",
       "      <td>Offer1</td>\n",
       "      <td>Web</td>\n",
       "      <td>508.800000</td>\n",
       "      <td>SUV</td>\n",
       "      <td>Medsize</td>\n",
       "    </tr>\n",
       "    <tr>\n",
       "      <th>65</th>\n",
       "      <td>SM52139</td>\n",
       "      <td>Washington</td>\n",
       "      <td>2930.693543</td>\n",
       "      <td>No</td>\n",
       "      <td>Basic</td>\n",
       "      <td>College</td>\n",
       "      <td>2011-01-31</td>\n",
       "      <td>Employed</td>\n",
       "      <td>M</td>\n",
       "      <td>33663</td>\n",
       "      <td>...</td>\n",
       "      <td>71</td>\n",
       "      <td>0</td>\n",
       "      <td>1</td>\n",
       "      <td>Personal Auto</td>\n",
       "      <td>Personal L3</td>\n",
       "      <td>Offer3</td>\n",
       "      <td>Web</td>\n",
       "      <td>350.400000</td>\n",
       "      <td>Four-Door Car</td>\n",
       "      <td>Medsize</td>\n",
       "    </tr>\n",
       "    <tr>\n",
       "      <th>...</th>\n",
       "      <td>...</td>\n",
       "      <td>...</td>\n",
       "      <td>...</td>\n",
       "      <td>...</td>\n",
       "      <td>...</td>\n",
       "      <td>...</td>\n",
       "      <td>...</td>\n",
       "      <td>...</td>\n",
       "      <td>...</td>\n",
       "      <td>...</td>\n",
       "      <td>...</td>\n",
       "      <td>...</td>\n",
       "      <td>...</td>\n",
       "      <td>...</td>\n",
       "      <td>...</td>\n",
       "      <td>...</td>\n",
       "      <td>...</td>\n",
       "      <td>...</td>\n",
       "      <td>...</td>\n",
       "      <td>...</td>\n",
       "      <td>...</td>\n",
       "    </tr>\n",
       "    <tr>\n",
       "      <th>9093</th>\n",
       "      <td>CC93587</td>\n",
       "      <td>California</td>\n",
       "      <td>5926.385440</td>\n",
       "      <td>No</td>\n",
       "      <td>Basic</td>\n",
       "      <td>College</td>\n",
       "      <td>2011-01-26</td>\n",
       "      <td>Employed</td>\n",
       "      <td>M</td>\n",
       "      <td>92949</td>\n",
       "      <td>...</td>\n",
       "      <td>84</td>\n",
       "      <td>0</td>\n",
       "      <td>3</td>\n",
       "      <td>Personal Auto</td>\n",
       "      <td>Personal L1</td>\n",
       "      <td>Offer2</td>\n",
       "      <td>Web</td>\n",
       "      <td>337.305815</td>\n",
       "      <td>Two-Door Car</td>\n",
       "      <td>Medsize</td>\n",
       "    </tr>\n",
       "    <tr>\n",
       "      <th>9095</th>\n",
       "      <td>IC80537</td>\n",
       "      <td>California</td>\n",
       "      <td>2580.849899</td>\n",
       "      <td>Yes</td>\n",
       "      <td>Basic</td>\n",
       "      <td>College</td>\n",
       "      <td>2011-09-02</td>\n",
       "      <td>Employed</td>\n",
       "      <td>M</td>\n",
       "      <td>46900</td>\n",
       "      <td>...</td>\n",
       "      <td>59</td>\n",
       "      <td>0</td>\n",
       "      <td>1</td>\n",
       "      <td>Corporate Auto</td>\n",
       "      <td>Corporate L2</td>\n",
       "      <td>Offer2</td>\n",
       "      <td>Web</td>\n",
       "      <td>316.800000</td>\n",
       "      <td>Four-Door Car</td>\n",
       "      <td>Medsize</td>\n",
       "    </tr>\n",
       "    <tr>\n",
       "      <th>9107</th>\n",
       "      <td>UU42868</td>\n",
       "      <td>California</td>\n",
       "      <td>5619.689084</td>\n",
       "      <td>Yes</td>\n",
       "      <td>Premium</td>\n",
       "      <td>High School or Below</td>\n",
       "      <td>2011-01-26</td>\n",
       "      <td>Unemployed</td>\n",
       "      <td>M</td>\n",
       "      <td>0</td>\n",
       "      <td>...</td>\n",
       "      <td>5</td>\n",
       "      <td>0</td>\n",
       "      <td>1</td>\n",
       "      <td>Corporate Auto</td>\n",
       "      <td>Corporate L2</td>\n",
       "      <td>Offer2</td>\n",
       "      <td>Web</td>\n",
       "      <td>1027.000029</td>\n",
       "      <td>SUV</td>\n",
       "      <td>Medsize</td>\n",
       "    </tr>\n",
       "    <tr>\n",
       "      <th>9120</th>\n",
       "      <td>RN61682</td>\n",
       "      <td>California</td>\n",
       "      <td>2114.738469</td>\n",
       "      <td>No</td>\n",
       "      <td>Basic</td>\n",
       "      <td>Bachelor</td>\n",
       "      <td>2011-02-19</td>\n",
       "      <td>Unemployed</td>\n",
       "      <td>F</td>\n",
       "      <td>0</td>\n",
       "      <td>...</td>\n",
       "      <td>69</td>\n",
       "      <td>5</td>\n",
       "      <td>1</td>\n",
       "      <td>Personal Auto</td>\n",
       "      <td>Personal L2</td>\n",
       "      <td>Offer3</td>\n",
       "      <td>Web</td>\n",
       "      <td>518.400000</td>\n",
       "      <td>Four-Door Car</td>\n",
       "      <td>Medsize</td>\n",
       "    </tr>\n",
       "    <tr>\n",
       "      <th>9129</th>\n",
       "      <td>LA72316</td>\n",
       "      <td>California</td>\n",
       "      <td>23405.987980</td>\n",
       "      <td>No</td>\n",
       "      <td>Basic</td>\n",
       "      <td>Bachelor</td>\n",
       "      <td>2011-10-02</td>\n",
       "      <td>Employed</td>\n",
       "      <td>M</td>\n",
       "      <td>71941</td>\n",
       "      <td>...</td>\n",
       "      <td>89</td>\n",
       "      <td>0</td>\n",
       "      <td>2</td>\n",
       "      <td>Personal Auto</td>\n",
       "      <td>Personal L1</td>\n",
       "      <td>Offer2</td>\n",
       "      <td>Web</td>\n",
       "      <td>198.234764</td>\n",
       "      <td>Four-Door Car</td>\n",
       "      <td>Medsize</td>\n",
       "    </tr>\n",
       "  </tbody>\n",
       "</table>\n",
       "<p>1325 rows × 24 columns</p>\n",
       "</div>"
      ],
      "text/plain": [
       "     customer       state  customer_lifetime_value response  coverage  \\\n",
       "5     OC83172      Oregon              8256.297800      Yes     Basic   \n",
       "34    SK67821      Oregon              4932.916345       No     Basic   \n",
       "37    DM79012      Oregon              7380.976717       No  Extended   \n",
       "51    PY51963  California             33473.349460      Yes     Basic   \n",
       "65    SM52139  Washington              2930.693543       No     Basic   \n",
       "...       ...         ...                      ...      ...       ...   \n",
       "9093  CC93587  California              5926.385440       No     Basic   \n",
       "9095  IC80537  California              2580.849899      Yes     Basic   \n",
       "9107  UU42868  California              5619.689084      Yes   Premium   \n",
       "9120  RN61682  California              2114.738469       No     Basic   \n",
       "9129  LA72316  California             23405.987980       No     Basic   \n",
       "\n",
       "                 education effective_to_date employmentstatus gender  income  \\\n",
       "5                 Bachelor        2011-01-25         Employed      F   62902   \n",
       "34                Bachelor        2011-02-13         Employed      F   37260   \n",
       "37                  Master        2011-06-02         Employed      F   65706   \n",
       "51                Bachelor        2011-11-01         Employed      F   33190   \n",
       "65                 College        2011-01-31         Employed      M   33663   \n",
       "...                    ...               ...              ...    ...     ...   \n",
       "9093               College        2011-01-26         Employed      M   92949   \n",
       "9095               College        2011-09-02         Employed      M   46900   \n",
       "9107  High School or Below        2011-01-26       Unemployed      M       0   \n",
       "9120              Bachelor        2011-02-19       Unemployed      F       0   \n",
       "9129              Bachelor        2011-10-02         Employed      M   71941   \n",
       "\n",
       "      ... months_since_policy_inception number_of_open_complaints  \\\n",
       "5     ...                            94                         0   \n",
       "34    ...                            42                         0   \n",
       "37    ...                            86                         0   \n",
       "51    ...                            95                         0   \n",
       "65    ...                            71                         0   \n",
       "...   ...                           ...                       ...   \n",
       "9093  ...                            84                         0   \n",
       "9095  ...                            59                         0   \n",
       "9107  ...                             5                         0   \n",
       "9120  ...                            69                         5   \n",
       "9129  ...                            89                         0   \n",
       "\n",
       "      number_of_policies     policy_type        policy  renew_offer_type  \\\n",
       "5                      2   Personal Auto   Personal L3            Offer2   \n",
       "34                     8  Corporate Auto  Corporate L1            Offer3   \n",
       "37                     8   Personal Auto   Personal L3            Offer2   \n",
       "51                     2  Corporate Auto  Corporate L1            Offer1   \n",
       "65                     1   Personal Auto   Personal L3            Offer3   \n",
       "...                  ...             ...           ...               ...   \n",
       "9093                   3   Personal Auto   Personal L1            Offer2   \n",
       "9095                   1  Corporate Auto  Corporate L2            Offer2   \n",
       "9107                   1  Corporate Auto  Corporate L2            Offer2   \n",
       "9120                   1   Personal Auto   Personal L2            Offer3   \n",
       "9129                   2   Personal Auto   Personal L1            Offer2   \n",
       "\n",
       "      sales_channel total_claim_amount  vehicle_class vehicle_size  \n",
       "5               Web         159.383042   Two-Door Car      Medsize  \n",
       "34              Web          15.437681  Four-Door Car      Medsize  \n",
       "37              Web         436.800000  Four-Door Car        Small  \n",
       "51              Web         508.800000            SUV      Medsize  \n",
       "65              Web         350.400000  Four-Door Car      Medsize  \n",
       "...             ...                ...            ...          ...  \n",
       "9093            Web         337.305815   Two-Door Car      Medsize  \n",
       "9095            Web         316.800000  Four-Door Car      Medsize  \n",
       "9107            Web        1027.000029            SUV      Medsize  \n",
       "9120            Web         518.400000  Four-Door Car      Medsize  \n",
       "9129            Web         198.234764  Four-Door Car      Medsize  \n",
       "\n",
       "[1325 rows x 24 columns]"
      ]
     },
     "execution_count": 68,
     "metadata": {},
     "output_type": "execute_result"
    }
   ],
   "source": [
    "df[df['sales_channel'] == 'Web']"
   ]
  },
  {
   "cell_type": "markdown",
   "metadata": {
    "id": "NfAIdlAwYrp6"
   },
   "source": [
    "### Export model"
   ]
  },
  {
   "cell_type": "code",
   "execution_count": 69,
   "metadata": {
    "colab": {
     "base_uri": "https://localhost:8080/"
    },
    "id": "dVKkEtvP5sNF",
    "outputId": "21e5d007-1777-4bfe-c91f-0958ddb847eb"
   },
   "outputs": [
    {
     "name": "stdout",
     "output_type": "stream",
     "text": [
      "scikit-learn version: 1.3.2\n"
     ]
    }
   ],
   "source": [
    "import sklearn\n",
    "\n",
    "print(\"scikit-learn version:\", sklearn.__version__)"
   ]
  },
  {
   "cell_type": "code",
   "execution_count": 70,
   "metadata": {
    "colab": {
     "base_uri": "https://localhost:8080/"
    },
    "id": "am2M8ac2YrKK",
    "outputId": "567a1b48-6d69-4464-cc12-24b6179018bc"
   },
   "outputs": [
    {
     "data": {
      "text/plain": [
       "['random_forest_model.pkl']"
      ]
     },
     "execution_count": 70,
     "metadata": {},
     "output_type": "execute_result"
    }
   ],
   "source": [
    "import joblib\n",
    "joblib.dump(rf, 'random_forest_model.pkl')"
   ]
  },
  {
   "cell_type": "code",
   "execution_count": 71,
   "metadata": {
    "id": "BTaOYqgN2GRY"
   },
   "outputs": [],
   "source": [
    "import pickle"
   ]
  },
  {
   "cell_type": "code",
   "execution_count": 72,
   "metadata": {
    "id": "R5HtX1me2Kr3"
   },
   "outputs": [],
   "source": [
    "# save the model to disk\n",
    "filename = 'finalized_model.sav'\n",
    "pickle.dump(rf, open(filename, 'wb'))"
   ]
  },
  {
   "cell_type": "markdown",
   "metadata": {
    "id": "2iORlTzMY3og"
   },
   "source": [
    "### Import the model"
   ]
  },
  {
   "cell_type": "code",
   "execution_count": 75,
   "metadata": {
    "colab": {
     "base_uri": "https://localhost:8080/"
    },
    "id": "dU_qQvxIY644",
    "outputId": "26812cb7-06d4-45a1-9fa8-f291b658922c"
   },
   "outputs": [
    {
     "name": "stderr",
     "output_type": "stream",
     "text": [
      "/opt/homebrew/lib/python3.11/site-packages/sklearn/base.py:465: UserWarning: X does not have valid feature names, but RandomForestRegressor was fitted with feature names\n",
      "  warnings.warn(\n"
     ]
    }
   ],
   "source": [
    "loaded_model = joblib.load('random_forest_model.pkl')\n",
    "\n",
    "\n",
    "predictions = loaded_model.predict([sp])"
   ]
  },
  {
   "cell_type": "code",
   "execution_count": 76,
   "metadata": {
    "colab": {
     "base_uri": "https://localhost:8080/"
    },
    "id": "4mrusSAlY60F",
    "outputId": "8912e5e0-7cc9-4b33-988b-1a7ad9ea026f"
   },
   "outputs": [
    {
     "data": {
      "text/plain": [
       "array([5408.40479367])"
      ]
     },
     "execution_count": 76,
     "metadata": {},
     "output_type": "execute_result"
    }
   ],
   "source": [
    "np.exp(predictions)"
   ]
  },
  {
   "cell_type": "markdown",
   "metadata": {
    "id": "a3mhQ8eZUQBU"
   },
   "source": [
    "## **Hyperparameter Tuning of RF**"
   ]
  },
  {
   "cell_type": "code",
   "execution_count": 77,
   "metadata": {
    "id": "rwMnk2oaRx-F"
   },
   "outputs": [
    {
     "name": "stderr",
     "output_type": "stream",
     "text": [
      "/opt/homebrew/lib/python3.11/site-packages/sklearn/model_selection/_validation.py:425: FitFailedWarning: \n",
      "90 fits failed out of a total of 270.\n",
      "The score on these train-test partitions for these parameters will be set to nan.\n",
      "If these failures are not expected, you can try to debug them by setting error_score='raise'.\n",
      "\n",
      "Below are more details about the failures:\n",
      "--------------------------------------------------------------------------------\n",
      "52 fits failed with the following error:\n",
      "Traceback (most recent call last):\n",
      "  File \"/opt/homebrew/lib/python3.11/site-packages/sklearn/model_selection/_validation.py\", line 729, in _fit_and_score\n",
      "    estimator.fit(X_train, y_train, **fit_params)\n",
      "  File \"/opt/homebrew/lib/python3.11/site-packages/sklearn/base.py\", line 1145, in wrapper\n",
      "    estimator._validate_params()\n",
      "  File \"/opt/homebrew/lib/python3.11/site-packages/sklearn/base.py\", line 638, in _validate_params\n",
      "    validate_parameter_constraints(\n",
      "  File \"/opt/homebrew/lib/python3.11/site-packages/sklearn/utils/_param_validation.py\", line 96, in validate_parameter_constraints\n",
      "    raise InvalidParameterError(\n",
      "sklearn.utils._param_validation.InvalidParameterError: The 'max_features' parameter of RandomForestRegressor must be an int in the range [1, inf), a float in the range (0.0, 1.0], a str among {'sqrt', 'log2'} or None. Got 'auto' instead.\n",
      "\n",
      "--------------------------------------------------------------------------------\n",
      "38 fits failed with the following error:\n",
      "Traceback (most recent call last):\n",
      "  File \"/opt/homebrew/lib/python3.11/site-packages/sklearn/model_selection/_validation.py\", line 729, in _fit_and_score\n",
      "    estimator.fit(X_train, y_train, **fit_params)\n",
      "  File \"/opt/homebrew/lib/python3.11/site-packages/sklearn/base.py\", line 1145, in wrapper\n",
      "    estimator._validate_params()\n",
      "  File \"/opt/homebrew/lib/python3.11/site-packages/sklearn/base.py\", line 638, in _validate_params\n",
      "    validate_parameter_constraints(\n",
      "  File \"/opt/homebrew/lib/python3.11/site-packages/sklearn/utils/_param_validation.py\", line 96, in validate_parameter_constraints\n",
      "    raise InvalidParameterError(\n",
      "sklearn.utils._param_validation.InvalidParameterError: The 'max_features' parameter of RandomForestRegressor must be an int in the range [1, inf), a float in the range (0.0, 1.0], a str among {'log2', 'sqrt'} or None. Got 'auto' instead.\n",
      "\n",
      "  warnings.warn(some_fits_failed_message, FitFailedWarning)\n",
      "/opt/homebrew/lib/python3.11/site-packages/sklearn/model_selection/_search.py:979: UserWarning: One or more of the test scores are non-finite: [       nan        nan        nan 0.87765376 0.87993203 0.88218392\n",
      " 0.87816864 0.88066748 0.87508519        nan        nan        nan\n",
      " 0.8996707  0.90152937 0.89755044 0.89954127 0.90102659 0.89752425\n",
      "        nan        nan        nan 0.90071136 0.90096229 0.89778962\n",
      " 0.90042767 0.90071428 0.89830197        nan        nan        nan\n",
      " 0.88165298 0.88356299 0.88236636 0.88212963 0.88436337 0.88327363\n",
      "        nan        nan        nan 0.90109531 0.90325584 0.89804178\n",
      " 0.90150751 0.90326567 0.89955805        nan        nan        nan\n",
      " 0.90244276 0.90270837 0.90180749 0.90233039 0.90291894 0.89941826]\n",
      "  warnings.warn(\n",
      "/opt/homebrew/lib/python3.11/site-packages/sklearn/model_selection/_search.py:979: UserWarning: One or more of the train scores are non-finite: [       nan        nan        nan 0.9180592  0.92030538 0.92102964\n",
      " 0.9193541  0.92039296 0.91687736        nan        nan        nan\n",
      " 0.98510202 0.98563429 0.98375301 0.98507106 0.98550149 0.9836163\n",
      "        nan        nan        nan 0.98584119 0.98631758 0.98471469\n",
      " 0.98577557 0.98615193 0.98483153        nan        nan        nan\n",
      " 0.92678034 0.92769036 0.92688521 0.92719885 0.92813734 0.92764744\n",
      "        nan        nan        nan 0.99972861 0.99973511 0.99964782\n",
      " 0.99974778 0.99972731 0.99967778        nan        nan        nan\n",
      " 0.99999996 0.99999995 0.99999992 0.99999998 0.99999998 0.99999995]\n",
      "  warnings.warn(\n"
     ]
    },
    {
     "data": {
      "text/plain": [
       "{'bootstrap': False,\n",
       " 'max_depth': 20,\n",
       " 'max_features': 'log2',\n",
       " 'n_estimators': 200}"
      ]
     },
     "execution_count": 77,
     "metadata": {},
     "output_type": "execute_result"
    }
   ],
   "source": [
    "from sklearn.model_selection import GridSearchCV\n",
    "rf = RandomForestRegressor()\n",
    "params = {\n",
    "    'max_depth' : [10,20,30],\n",
    "    'n_estimators' : [100,200,50],\n",
    "    'bootstrap' : [True, False],\n",
    "    'max_features' : ['auto','sqrt','log2']\n",
    "}\n",
    "grid = GridSearchCV(estimator=rf, param_grid=params, cv=5, n_jobs= -1, return_train_score= True)\n",
    "grid.fit(X,y)\n",
    "grid.best_params_"
   ]
  },
  {
   "cell_type": "code",
   "execution_count": 78,
   "metadata": {
    "colab": {
     "base_uri": "https://localhost:8080/"
    },
    "id": "Xx_vCykwUnGH",
    "outputId": "8acede35-1256-4135-fe6e-b8dbde07cc10"
   },
   "outputs": [
    {
     "name": "stdout",
     "output_type": "stream",
     "text": [
      "Random Forest regressor with hyperparameter tuning\n",
      "\n",
      "RMSE: 0.20561887269861906\n",
      "MAE: 0.10066488342155516\n",
      "R-Squared: 0.9054471488265186\n"
     ]
    }
   ],
   "source": [
    "rf = RandomForestRegressor(**grid.best_params_)\n",
    "rf.fit(X_train, y_train)\n",
    "print('Random Forest regressor with hyperparameter tuning\\n')\n",
    "y_pred = rf.predict(X_test)\n",
    "\n",
    "print('RMSE:',np.sqrt(mean_squared_error(y_test, y_pred)))\n",
    "print('MAE:', mean_absolute_error(y_test, y_pred) )\n",
    "print('R-Squared:', r2_score(y_test, y_pred))"
   ]
  },
  {
   "cell_type": "markdown",
   "metadata": {
    "id": "IL_lEMFZjPbl"
   },
   "source": [
    "## **Adaboost**\n"
   ]
  },
  {
   "cell_type": "code",
   "execution_count": 79,
   "metadata": {
    "id": "r6-5eKUrV4l6"
   },
   "outputs": [],
   "source": [
    "from sklearn.ensemble import AdaBoostRegressor"
   ]
  },
  {
   "cell_type": "code",
   "execution_count": 80,
   "metadata": {
    "colab": {
     "base_uri": "https://localhost:8080/",
     "height": 118
    },
    "id": "16Qz55OBiEed",
    "outputId": "fe1a0c99-aa2f-45e8-86e7-f5f67cae9a0d"
   },
   "outputs": [
    {
     "data": {
      "text/html": [
       "<style>#sk-container-id-1 {color: black;}#sk-container-id-1 pre{padding: 0;}#sk-container-id-1 div.sk-toggleable {background-color: white;}#sk-container-id-1 label.sk-toggleable__label {cursor: pointer;display: block;width: 100%;margin-bottom: 0;padding: 0.3em;box-sizing: border-box;text-align: center;}#sk-container-id-1 label.sk-toggleable__label-arrow:before {content: \"▸\";float: left;margin-right: 0.25em;color: #696969;}#sk-container-id-1 label.sk-toggleable__label-arrow:hover:before {color: black;}#sk-container-id-1 div.sk-estimator:hover label.sk-toggleable__label-arrow:before {color: black;}#sk-container-id-1 div.sk-toggleable__content {max-height: 0;max-width: 0;overflow: hidden;text-align: left;background-color: #f0f8ff;}#sk-container-id-1 div.sk-toggleable__content pre {margin: 0.2em;color: black;border-radius: 0.25em;background-color: #f0f8ff;}#sk-container-id-1 input.sk-toggleable__control:checked~div.sk-toggleable__content {max-height: 200px;max-width: 100%;overflow: auto;}#sk-container-id-1 input.sk-toggleable__control:checked~label.sk-toggleable__label-arrow:before {content: \"▾\";}#sk-container-id-1 div.sk-estimator input.sk-toggleable__control:checked~label.sk-toggleable__label {background-color: #d4ebff;}#sk-container-id-1 div.sk-label input.sk-toggleable__control:checked~label.sk-toggleable__label {background-color: #d4ebff;}#sk-container-id-1 input.sk-hidden--visually {border: 0;clip: rect(1px 1px 1px 1px);clip: rect(1px, 1px, 1px, 1px);height: 1px;margin: -1px;overflow: hidden;padding: 0;position: absolute;width: 1px;}#sk-container-id-1 div.sk-estimator {font-family: monospace;background-color: #f0f8ff;border: 1px dotted black;border-radius: 0.25em;box-sizing: border-box;margin-bottom: 0.5em;}#sk-container-id-1 div.sk-estimator:hover {background-color: #d4ebff;}#sk-container-id-1 div.sk-parallel-item::after {content: \"\";width: 100%;border-bottom: 1px solid gray;flex-grow: 1;}#sk-container-id-1 div.sk-label:hover label.sk-toggleable__label {background-color: #d4ebff;}#sk-container-id-1 div.sk-serial::before {content: \"\";position: absolute;border-left: 1px solid gray;box-sizing: border-box;top: 0;bottom: 0;left: 50%;z-index: 0;}#sk-container-id-1 div.sk-serial {display: flex;flex-direction: column;align-items: center;background-color: white;padding-right: 0.2em;padding-left: 0.2em;position: relative;}#sk-container-id-1 div.sk-item {position: relative;z-index: 1;}#sk-container-id-1 div.sk-parallel {display: flex;align-items: stretch;justify-content: center;background-color: white;position: relative;}#sk-container-id-1 div.sk-item::before, #sk-container-id-1 div.sk-parallel-item::before {content: \"\";position: absolute;border-left: 1px solid gray;box-sizing: border-box;top: 0;bottom: 0;left: 50%;z-index: -1;}#sk-container-id-1 div.sk-parallel-item {display: flex;flex-direction: column;z-index: 1;position: relative;background-color: white;}#sk-container-id-1 div.sk-parallel-item:first-child::after {align-self: flex-end;width: 50%;}#sk-container-id-1 div.sk-parallel-item:last-child::after {align-self: flex-start;width: 50%;}#sk-container-id-1 div.sk-parallel-item:only-child::after {width: 0;}#sk-container-id-1 div.sk-dashed-wrapped {border: 1px dashed gray;margin: 0 0.4em 0.5em 0.4em;box-sizing: border-box;padding-bottom: 0.4em;background-color: white;}#sk-container-id-1 div.sk-label label {font-family: monospace;font-weight: bold;display: inline-block;line-height: 1.2em;}#sk-container-id-1 div.sk-label-container {text-align: center;}#sk-container-id-1 div.sk-container {/* jupyter's `normalize.less` sets `[hidden] { display: none; }` but bootstrap.min.css set `[hidden] { display: none !important; }` so we also need the `!important` here to be able to override the default hidden behavior on the sphinx rendered scikit-learn.org. See: https://github.com/scikit-learn/scikit-learn/issues/21755 */display: inline-block !important;position: relative;}#sk-container-id-1 div.sk-text-repr-fallback {display: none;}</style><div id=\"sk-container-id-1\" class=\"sk-top-container\"><div class=\"sk-text-repr-fallback\"><pre>AdaBoostRegressor(estimator=RandomForestRegressor(max_depth=5),\n",
       "                  n_estimators=150)</pre><b>In a Jupyter environment, please rerun this cell to show the HTML representation or trust the notebook. <br />On GitHub, the HTML representation is unable to render, please try loading this page with nbviewer.org.</b></div><div class=\"sk-container\" hidden><div class=\"sk-item sk-dashed-wrapped\"><div class=\"sk-label-container\"><div class=\"sk-label sk-toggleable\"><input class=\"sk-toggleable__control sk-hidden--visually\" id=\"sk-estimator-id-1\" type=\"checkbox\" ><label for=\"sk-estimator-id-1\" class=\"sk-toggleable__label sk-toggleable__label-arrow\">AdaBoostRegressor</label><div class=\"sk-toggleable__content\"><pre>AdaBoostRegressor(estimator=RandomForestRegressor(max_depth=5),\n",
       "                  n_estimators=150)</pre></div></div></div><div class=\"sk-parallel\"><div class=\"sk-parallel-item\"><div class=\"sk-item\"><div class=\"sk-label-container\"><div class=\"sk-label sk-toggleable\"><input class=\"sk-toggleable__control sk-hidden--visually\" id=\"sk-estimator-id-2\" type=\"checkbox\" ><label for=\"sk-estimator-id-2\" class=\"sk-toggleable__label sk-toggleable__label-arrow\">estimator: RandomForestRegressor</label><div class=\"sk-toggleable__content\"><pre>RandomForestRegressor(max_depth=5)</pre></div></div></div><div class=\"sk-serial\"><div class=\"sk-item\"><div class=\"sk-estimator sk-toggleable\"><input class=\"sk-toggleable__control sk-hidden--visually\" id=\"sk-estimator-id-3\" type=\"checkbox\" ><label for=\"sk-estimator-id-3\" class=\"sk-toggleable__label sk-toggleable__label-arrow\">RandomForestRegressor</label><div class=\"sk-toggleable__content\"><pre>RandomForestRegressor(max_depth=5)</pre></div></div></div></div></div></div></div></div></div></div>"
      ],
      "text/plain": [
       "AdaBoostRegressor(estimator=RandomForestRegressor(max_depth=5),\n",
       "                  n_estimators=150)"
      ]
     },
     "execution_count": 80,
     "metadata": {},
     "output_type": "execute_result"
    }
   ],
   "source": [
    "adaboost = AdaBoostRegressor(\n",
    "    RandomForestRegressor(max_depth=5, criterion='squared_error'),\n",
    "    n_estimators=150\n",
    ")\n",
    "adaboost.fit(X_train, y_train)"
   ]
  },
  {
   "cell_type": "code",
   "execution_count": 81,
   "metadata": {
    "colab": {
     "base_uri": "https://localhost:8080/"
    },
    "id": "034L5rpfi4gN",
    "outputId": "a8557a85-5cca-4f68-fe29-8d013562a47c"
   },
   "outputs": [
    {
     "name": "stdout",
     "output_type": "stream",
     "text": [
      "RMSE: 0.21977896806870326\n",
      "MAE: 0.1306639675668775\n",
      "R-Squared: 0.8919758291797597\n"
     ]
    }
   ],
   "source": [
    "y_pred = adaboost.predict(X_test)\n",
    "\n",
    "print('RMSE:',np.sqrt(mean_squared_error(y_test, y_pred)))\n",
    "print('MAE:', mean_absolute_error(y_test, y_pred) )\n",
    "print('R-Squared:', r2_score(y_test, y_pred))"
   ]
  },
  {
   "cell_type": "code",
   "execution_count": 82,
   "metadata": {
    "colab": {
     "base_uri": "https://localhost:8080/",
     "height": 363
    },
    "id": "fvC7qaaqkxV9",
    "outputId": "d119dff0-4818-4ac5-ba19-c5c605029768"
   },
   "outputs": [
    {
     "data": {
      "text/html": [
       "<div>\n",
       "<style scoped>\n",
       "    .dataframe tbody tr th:only-of-type {\n",
       "        vertical-align: middle;\n",
       "    }\n",
       "\n",
       "    .dataframe tbody tr th {\n",
       "        vertical-align: top;\n",
       "    }\n",
       "\n",
       "    .dataframe thead th {\n",
       "        text-align: right;\n",
       "    }\n",
       "</style>\n",
       "<table border=\"1\" class=\"dataframe\">\n",
       "  <thead>\n",
       "    <tr style=\"text-align: right;\">\n",
       "      <th></th>\n",
       "      <th>Score</th>\n",
       "    </tr>\n",
       "  </thead>\n",
       "  <tbody>\n",
       "    <tr>\n",
       "      <th>number_of_policies</th>\n",
       "      <td>0.595813</td>\n",
       "    </tr>\n",
       "    <tr>\n",
       "      <th>monthly_premium_auto</th>\n",
       "      <td>0.139613</td>\n",
       "    </tr>\n",
       "    <tr>\n",
       "      <th>total_claim_amount</th>\n",
       "      <td>0.059641</td>\n",
       "    </tr>\n",
       "    <tr>\n",
       "      <th>vehicle_class</th>\n",
       "      <td>0.037623</td>\n",
       "    </tr>\n",
       "    <tr>\n",
       "      <th>income</th>\n",
       "      <td>0.022825</td>\n",
       "    </tr>\n",
       "    <tr>\n",
       "      <th>months_since_policy_inception</th>\n",
       "      <td>0.022720</td>\n",
       "    </tr>\n",
       "    <tr>\n",
       "      <th>months_since_last_claim</th>\n",
       "      <td>0.021507</td>\n",
       "    </tr>\n",
       "    <tr>\n",
       "      <th>coverage</th>\n",
       "      <td>0.021503</td>\n",
       "    </tr>\n",
       "    <tr>\n",
       "      <th>renew_offer_type</th>\n",
       "      <td>0.009725</td>\n",
       "    </tr>\n",
       "    <tr>\n",
       "      <th>education</th>\n",
       "      <td>0.009202</td>\n",
       "    </tr>\n",
       "  </tbody>\n",
       "</table>\n",
       "</div>"
      ],
      "text/plain": [
       "                                  Score\n",
       "number_of_policies             0.595813\n",
       "monthly_premium_auto           0.139613\n",
       "total_claim_amount             0.059641\n",
       "vehicle_class                  0.037623\n",
       "income                         0.022825\n",
       "months_since_policy_inception  0.022720\n",
       "months_since_last_claim        0.021507\n",
       "coverage                       0.021503\n",
       "renew_offer_type               0.009725\n",
       "education                      0.009202"
      ]
     },
     "execution_count": 82,
     "metadata": {},
     "output_type": "execute_result"
    }
   ],
   "source": [
    "pd.DataFrame(rf.feature_importances_,index=X.columns,columns=['Score']).sort_values(\"Score\",ascending=False)[:10]"
   ]
  },
  {
   "cell_type": "markdown",
   "metadata": {
    "id": "zORGCKOdtB7u"
   },
   "source": [
    "## **Neural Network**"
   ]
  },
  {
   "cell_type": "code",
   "execution_count": null,
   "metadata": {
    "id": "Cr80Yafvu5jO"
   },
   "outputs": [],
   "source": [
    "import tensorflow as tf\n",
    "from sklearn.preprocessing import StandardScaler"
   ]
  },
  {
   "cell_type": "code",
   "execution_count": null,
   "metadata": {
    "colab": {
     "base_uri": "https://localhost:8080/"
    },
    "id": "R-fFuh-DSvzl",
    "outputId": "b5e5ab89-8aa6-4215-c562-e7e51bfe0a08"
   },
   "outputs": [
    {
     "data": {
      "text/plain": [
       "Index(['customer_lifetime_value', 'income', 'monthly_premium_auto',\n",
       "       'months_since_last_claim', 'months_since_policy_inception',\n",
       "       'number_of_open_complaints', 'number_of_policies', 'total_claim_amount',\n",
       "       'state', 'response', 'coverage', 'education', 'employmentstatus',\n",
       "       'gender', 'location_code', 'marital_status', 'policy_type', 'policy',\n",
       "       'renew_offer_type', 'sales_channel', 'vehicle_class', 'vehicle_size'],\n",
       "      dtype='object')"
      ]
     },
     "execution_count": 33,
     "metadata": {},
     "output_type": "execute_result"
    }
   ],
   "source": [
    "df_final.columns\n"
   ]
  },
  {
   "cell_type": "code",
   "execution_count": null,
   "metadata": {
    "id": "gTaQfZkc-D-v"
   },
   "outputs": [],
   "source": [
    "X =df_final.drop(['customer_lifetime_value','policy_type','policy'],axis=1)\n",
    "y = df_final['customer_lifetime_value']\n",
    "y= np.log(y)"
   ]
  },
  {
   "cell_type": "code",
   "execution_count": null,
   "metadata": {
    "id": "kpDzkb5R99nX"
   },
   "outputs": [],
   "source": [
    "X_train, X_test, y_train, y_test = train_test_split(X, y, test_size=0.30, random_state=42)"
   ]
  },
  {
   "cell_type": "code",
   "execution_count": null,
   "metadata": {
    "colab": {
     "base_uri": "https://localhost:8080/"
    },
    "id": "jT_ljMaf-VFB",
    "outputId": "6d7c54ac-6ea5-4a52-82af-aa683c3bcada"
   },
   "outputs": [
    {
     "name": "stdout",
     "output_type": "stream",
     "text": [
      "(6393, 19)\n",
      "(6393,)\n",
      "(2741, 19)\n",
      "(2741,)\n"
     ]
    }
   ],
   "source": [
    "print(X_train.shape)\n",
    "print(y_train.shape)\n",
    "print(X_test.shape)\n",
    "print(y_test.shape)"
   ]
  },
  {
   "cell_type": "code",
   "execution_count": null,
   "metadata": {
    "id": "G5mfnrVUu6gs"
   },
   "outputs": [],
   "source": [
    "# Standardize the features\n",
    "scaler = StandardScaler()\n",
    "X_train_scaled = scaler.fit_transform(X_train)\n",
    "X_test_scaled = scaler.transform(X_test)\n"
   ]
  },
  {
   "cell_type": "code",
   "execution_count": null,
   "metadata": {
    "colab": {
     "base_uri": "https://localhost:8080/",
     "height": 407
    },
    "id": "LgJzSmtMu917",
    "outputId": "3241daab-615a-41e3-e033-d150ce2bdc40"
   },
   "outputs": [
    {
     "data": {
      "application/vnd.google.colaboratory.intrinsic+json": {
       "summary": "{\n  \"name\": \"pd\",\n  \"rows\": 8,\n  \"fields\": [\n    {\n      \"column\": 0,\n      \"properties\": {\n        \"dtype\": \"number\",\n        \"std\": 2260.186549096887,\n        \"min\": -1.2484238908819183,\n        \"max\": 6393.0,\n        \"num_unique_values\": 8,\n        \"samples\": [\n          1.4393130655550284e-16,\n          -0.12451295457822238,\n          6393.0\n        ],\n        \"semantic_type\": \"\",\n        \"description\": \"\"\n      }\n    },\n    {\n      \"column\": 1,\n      \"properties\": {\n        \"dtype\": \"number\",\n        \"std\": 2259.9963447424507,\n        \"min\": -0.9368123501503391,\n        \"max\": 6393.0,\n        \"num_unique_values\": 8,\n        \"samples\": [\n          1.0169663745041321e-16,\n          -0.3000005446789872,\n          6393.0\n        ],\n        \"semantic_type\": \"\",\n        \"description\": \"\"\n      }\n    },\n    {\n      \"column\": 2,\n      \"properties\": {\n        \"dtype\": \"number\",\n        \"std\": 2260.2040967435332,\n        \"min\": -1.493305935861255,\n        \"max\": 6393.0,\n        \"num_unique_values\": 8,\n        \"samples\": [\n          -4.8347581738721034e-17,\n          -0.10880825757073086,\n          6393.0\n        ],\n        \"semantic_type\": \"\",\n        \"description\": \"\"\n      }\n    },\n    {\n      \"column\": 3,\n      \"properties\": {\n        \"dtype\": \"number\",\n        \"std\": 2260.212849610749,\n        \"min\": -1.7229891840613423,\n        \"max\": 6393.0,\n        \"num_unique_values\": 8,\n        \"samples\": [\n          1.3337263927923044e-17,\n          0.00043245042056125555,\n          6393.0\n        ],\n        \"semantic_type\": \"\",\n        \"description\": \"\"\n      }\n    },\n    {\n      \"column\": 4,\n      \"properties\": {\n        \"dtype\": \"number\",\n        \"std\": 2260.048519027986,\n        \"min\": -0.4163683105037089,\n        \"max\": 6393.0,\n        \"num_unique_values\": 5,\n        \"samples\": [\n          3.0564563168156975e-18,\n          5.002692375673431,\n          1.0000782197193112\n        ],\n        \"semantic_type\": \"\",\n        \"description\": \"\"\n      }\n    },\n    {\n      \"column\": 5,\n      \"properties\": {\n        \"dtype\": \"number\",\n        \"std\": 2260.173029298897,\n        \"min\": -0.827900245175487,\n        \"max\": 6393.0,\n        \"num_unique_values\": 7,\n        \"samples\": [\n          6393.0,\n          -7.335495160357675e-17,\n          0.4225564253411821\n        ],\n        \"semantic_type\": \"\",\n        \"description\": \"\"\n      }\n    },\n    {\n      \"column\": 6,\n      \"properties\": {\n        \"dtype\": \"number\",\n        \"std\": 2259.8869040470427,\n        \"min\": -1.4869265591904137,\n        \"max\": 6393.0,\n        \"num_unique_values\": 8,\n        \"samples\": [\n          3.1120282498487106e-17,\n          -0.18429176693084712,\n          6393.0\n        ],\n        \"semantic_type\": \"\",\n        \"description\": \"\"\n      }\n    },\n    {\n      \"column\": 7,\n      \"properties\": {\n        \"dtype\": \"number\",\n        \"std\": 2260.2056241694195,\n        \"min\": -1.3653400971046492,\n        \"max\": 6393.0,\n        \"num_unique_values\": 7,\n        \"samples\": [\n          6393.0,\n          -2.445165053452558e-17,\n          0.9823251102084283\n        ],\n        \"semantic_type\": \"\",\n        \"description\": \"\"\n      }\n    },\n    {\n      \"column\": 8,\n      \"properties\": {\n        \"dtype\": \"number\",\n        \"std\": 2260.17340947167,\n        \"min\": -0.404515826935103,\n        \"max\": 6393.0,\n        \"num_unique_values\": 5,\n        \"samples\": [\n          -6.61306003092851e-17,\n          2.4720911603798172,\n          1.000078219719311\n        ],\n        \"semantic_type\": \"\",\n        \"description\": \"\"\n      }\n    },\n    {\n      \"column\": 9,\n      \"properties\": {\n        \"dtype\": \"number\",\n        \"std\": 2260.1702060524676,\n        \"min\": -0.7336203612737153,\n        \"max\": 6393.0,\n        \"num_unique_values\": 6,\n        \"samples\": [\n          6393.0,\n          4.709721324547825e-17,\n          2.32376879754171\n        ],\n        \"semantic_type\": \"\",\n        \"description\": \"\"\n      }\n    },\n    {\n      \"column\": 10,\n      \"properties\": {\n        \"dtype\": \"number\",\n        \"std\": 2260.2093579548646,\n        \"min\": -1.1347355373199919,\n        \"max\": 6393.0,\n        \"num_unique_values\": 7,\n        \"samples\": [\n          6393.0,\n          -4.1678949774759514e-17,\n          1.046372186698862\n        ],\n        \"semantic_type\": \"\",\n        \"description\": \"\"\n      }\n    },\n    {\n      \"column\": 11,\n      \"properties\": {\n        \"dtype\": \"number\",\n        \"std\": 2260.2181993141535,\n        \"min\": -1.3491182184221415,\n        \"max\": 6393.0,\n        \"num_unique_values\": 7,\n        \"samples\": [\n          6393.0,\n          -1.0002947945942284e-16,\n          0.8884067133590978\n        ],\n        \"semantic_type\": \"\",\n        \"description\": \"\"\n      }\n    },\n    {\n      \"column\": 12,\n      \"properties\": {\n        \"dtype\": \"number\",\n        \"std\": 2260.262081497094,\n        \"min\": -0.980634833299872,\n        \"max\": 6393.0,\n        \"num_unique_values\": 5,\n        \"samples\": [\n          1.6671579909903805e-18,\n          1.0197475819158528,\n          1.000078219719311\n        ],\n        \"semantic_type\": \"\",\n        \"description\": \"\"\n      }\n    },\n    {\n      \"column\": 13,\n      \"properties\": {\n        \"dtype\": \"number\",\n        \"std\": 2260.209011796126,\n        \"min\": -1.6214512447814255,\n        \"max\": 6393.0,\n        \"num_unique_values\": 6,\n        \"samples\": [\n          6393.0,\n          -1.550456931621054e-16,\n          1.6808545238989352\n        ],\n        \"semantic_type\": \"\",\n        \"description\": \"\"\n      }\n    },\n    {\n      \"column\": 14,\n      \"properties\": {\n        \"dtype\": \"number\",\n        \"std\": 2260.1809501880607,\n        \"min\": -1.7479624586434896,\n        \"max\": 6393.0,\n        \"num_unique_values\": 6,\n        \"samples\": [\n          6393.0,\n          5.112617839037167e-17,\n          1.4002905342027787\n        ],\n        \"semantic_type\": \"\",\n        \"description\": \"\"\n      }\n    },\n    {\n      \"column\": 15,\n      \"properties\": {\n        \"dtype\": \"number\",\n        \"std\": 2260.1586370401455,\n        \"min\": -0.9579950893423743,\n        \"max\": 6393.0,\n        \"num_unique_values\": 7,\n        \"samples\": [\n          6393.0,\n          -9.780660213810232e-17,\n          1.020829662245929\n        ],\n        \"semantic_type\": \"\",\n        \"description\": \"\"\n      }\n    },\n    {\n      \"column\": 16,\n      \"properties\": {\n        \"dtype\": \"number\",\n        \"std\": 2260.1937620786052,\n        \"min\": -1.0313485433421778,\n        \"max\": 6393.0,\n        \"num_unique_values\": 7,\n        \"samples\": [\n          6393.0,\n          -6.057340700598383e-17,\n          0.8377970945278554\n        ],\n        \"semantic_type\": \"\",\n        \"description\": \"\"\n      }\n    },\n    {\n      \"column\": 17,\n      \"properties\": {\n        \"dtype\": \"number\",\n        \"std\": 2260.227835953951,\n        \"min\": -0.9143951610054945,\n        \"max\": 6393.0,\n        \"num_unique_values\": 6,\n        \"samples\": [\n          6393.0,\n          1.1114386606602538e-18,\n          1.5011950308573676\n        ],\n        \"semantic_type\": \"\",\n        \"description\": \"\"\n      }\n    },\n    {\n      \"column\": 18,\n      \"properties\": {\n        \"dtype\": \"number\",\n        \"std\": 2260.259132288454,\n        \"min\": -2.0326576706194195,\n        \"max\": 6393.0,\n        \"num_unique_values\": 6,\n        \"samples\": [\n          6393.0,\n          -1.0002947945942284e-17,\n          1.6955823202771374\n        ],\n        \"semantic_type\": \"\",\n        \"description\": \"\"\n      }\n    }\n  ]\n}",
       "type": "dataframe"
      },
      "text/html": [
       "\n",
       "  <div id=\"df-81879aee-7206-46dd-a275-d9409e87d0d3\" class=\"colab-df-container\">\n",
       "    <div>\n",
       "<style scoped>\n",
       "    .dataframe tbody tr th:only-of-type {\n",
       "        vertical-align: middle;\n",
       "    }\n",
       "\n",
       "    .dataframe tbody tr th {\n",
       "        vertical-align: top;\n",
       "    }\n",
       "\n",
       "    .dataframe thead th {\n",
       "        text-align: right;\n",
       "    }\n",
       "</style>\n",
       "<table border=\"1\" class=\"dataframe\">\n",
       "  <thead>\n",
       "    <tr style=\"text-align: right;\">\n",
       "      <th></th>\n",
       "      <th>0</th>\n",
       "      <th>1</th>\n",
       "      <th>2</th>\n",
       "      <th>3</th>\n",
       "      <th>4</th>\n",
       "      <th>5</th>\n",
       "      <th>6</th>\n",
       "      <th>7</th>\n",
       "      <th>8</th>\n",
       "      <th>9</th>\n",
       "      <th>10</th>\n",
       "      <th>11</th>\n",
       "      <th>12</th>\n",
       "      <th>13</th>\n",
       "      <th>14</th>\n",
       "      <th>15</th>\n",
       "      <th>16</th>\n",
       "      <th>17</th>\n",
       "      <th>18</th>\n",
       "    </tr>\n",
       "  </thead>\n",
       "  <tbody>\n",
       "    <tr>\n",
       "      <th>count</th>\n",
       "      <td>6.393000e+03</td>\n",
       "      <td>6.393000e+03</td>\n",
       "      <td>6.393000e+03</td>\n",
       "      <td>6.393000e+03</td>\n",
       "      <td>6.393000e+03</td>\n",
       "      <td>6.393000e+03</td>\n",
       "      <td>6.393000e+03</td>\n",
       "      <td>6.393000e+03</td>\n",
       "      <td>6.393000e+03</td>\n",
       "      <td>6.393000e+03</td>\n",
       "      <td>6.393000e+03</td>\n",
       "      <td>6.393000e+03</td>\n",
       "      <td>6.393000e+03</td>\n",
       "      <td>6.393000e+03</td>\n",
       "      <td>6.393000e+03</td>\n",
       "      <td>6.393000e+03</td>\n",
       "      <td>6.393000e+03</td>\n",
       "      <td>6.393000e+03</td>\n",
       "      <td>6.393000e+03</td>\n",
       "    </tr>\n",
       "    <tr>\n",
       "      <th>mean</th>\n",
       "      <td>1.439313e-16</td>\n",
       "      <td>1.016966e-16</td>\n",
       "      <td>-4.834758e-17</td>\n",
       "      <td>1.333726e-17</td>\n",
       "      <td>3.056456e-18</td>\n",
       "      <td>-7.335495e-17</td>\n",
       "      <td>3.112028e-17</td>\n",
       "      <td>-2.445165e-17</td>\n",
       "      <td>-6.613060e-17</td>\n",
       "      <td>4.709721e-17</td>\n",
       "      <td>-4.167895e-17</td>\n",
       "      <td>-1.000295e-16</td>\n",
       "      <td>1.667158e-18</td>\n",
       "      <td>-1.550457e-16</td>\n",
       "      <td>5.112618e-17</td>\n",
       "      <td>-9.780660e-17</td>\n",
       "      <td>-6.057341e-17</td>\n",
       "      <td>1.111439e-18</td>\n",
       "      <td>-1.000295e-17</td>\n",
       "    </tr>\n",
       "    <tr>\n",
       "      <th>std</th>\n",
       "      <td>1.000078e+00</td>\n",
       "      <td>1.000078e+00</td>\n",
       "      <td>1.000078e+00</td>\n",
       "      <td>1.000078e+00</td>\n",
       "      <td>1.000078e+00</td>\n",
       "      <td>1.000078e+00</td>\n",
       "      <td>1.000078e+00</td>\n",
       "      <td>1.000078e+00</td>\n",
       "      <td>1.000078e+00</td>\n",
       "      <td>1.000078e+00</td>\n",
       "      <td>1.000078e+00</td>\n",
       "      <td>1.000078e+00</td>\n",
       "      <td>1.000078e+00</td>\n",
       "      <td>1.000078e+00</td>\n",
       "      <td>1.000078e+00</td>\n",
       "      <td>1.000078e+00</td>\n",
       "      <td>1.000078e+00</td>\n",
       "      <td>1.000078e+00</td>\n",
       "      <td>1.000078e+00</td>\n",
       "    </tr>\n",
       "    <tr>\n",
       "      <th>min</th>\n",
       "      <td>-1.248424e+00</td>\n",
       "      <td>-9.368124e-01</td>\n",
       "      <td>-1.493306e+00</td>\n",
       "      <td>-1.722989e+00</td>\n",
       "      <td>-4.163683e-01</td>\n",
       "      <td>-8.279002e-01</td>\n",
       "      <td>-1.486927e+00</td>\n",
       "      <td>-1.365340e+00</td>\n",
       "      <td>-4.045158e-01</td>\n",
       "      <td>-7.336204e-01</td>\n",
       "      <td>-1.134736e+00</td>\n",
       "      <td>-1.349118e+00</td>\n",
       "      <td>-9.806348e-01</td>\n",
       "      <td>-1.621451e+00</td>\n",
       "      <td>-1.747962e+00</td>\n",
       "      <td>-9.579951e-01</td>\n",
       "      <td>-1.031349e+00</td>\n",
       "      <td>-9.143952e-01</td>\n",
       "      <td>-2.032658e+00</td>\n",
       "    </tr>\n",
       "    <tr>\n",
       "      <th>25%</th>\n",
       "      <td>-9.063899e-01</td>\n",
       "      <td>-7.341904e-01</td>\n",
       "      <td>-8.999498e-01</td>\n",
       "      <td>-8.612784e-01</td>\n",
       "      <td>-4.163683e-01</td>\n",
       "      <td>-8.279002e-01</td>\n",
       "      <td>-5.530743e-01</td>\n",
       "      <td>-5.827850e-01</td>\n",
       "      <td>-4.045158e-01</td>\n",
       "      <td>-7.336204e-01</td>\n",
       "      <td>-1.134736e+00</td>\n",
       "      <td>-6.032766e-01</td>\n",
       "      <td>-9.806348e-01</td>\n",
       "      <td>2.970164e-02</td>\n",
       "      <td>-1.738360e-01</td>\n",
       "      <td>-9.579951e-01</td>\n",
       "      <td>-1.031349e+00</td>\n",
       "      <td>-9.143952e-01</td>\n",
       "      <td>-1.685377e-01</td>\n",
       "    </tr>\n",
       "    <tr>\n",
       "      <th>50%</th>\n",
       "      <td>-1.245130e-01</td>\n",
       "      <td>-3.000005e-01</td>\n",
       "      <td>-1.088083e-01</td>\n",
       "      <td>4.324504e-04</td>\n",
       "      <td>-4.163683e-01</td>\n",
       "      <td>-4.110814e-01</td>\n",
       "      <td>-1.842918e-01</td>\n",
       "      <td>-5.827850e-01</td>\n",
       "      <td>-4.045158e-01</td>\n",
       "      <td>-7.336204e-01</td>\n",
       "      <td>-4.076996e-01</td>\n",
       "      <td>-6.032766e-01</td>\n",
       "      <td>-9.806348e-01</td>\n",
       "      <td>2.970164e-02</td>\n",
       "      <td>-1.738360e-01</td>\n",
       "      <td>3.141729e-02</td>\n",
       "      <td>-9.677572e-02</td>\n",
       "      <td>-9.143952e-01</td>\n",
       "      <td>-1.685377e-01</td>\n",
       "    </tr>\n",
       "    <tr>\n",
       "      <th>75%</th>\n",
       "      <td>8.138387e-01</td>\n",
       "      <td>4.525952e-01</td>\n",
       "      <td>7.812260e-01</td>\n",
       "      <td>8.262387e-01</td>\n",
       "      <td>-4.163683e-01</td>\n",
       "      <td>4.225564e-01</td>\n",
       "      <td>3.835089e-01</td>\n",
       "      <td>9.823251e-01</td>\n",
       "      <td>-4.045158e-01</td>\n",
       "      <td>7.950742e-01</td>\n",
       "      <td>1.046372e+00</td>\n",
       "      <td>8.884067e-01</td>\n",
       "      <td>1.019748e+00</td>\n",
       "      <td>2.970164e-02</td>\n",
       "      <td>1.400291e+00</td>\n",
       "      <td>1.020830e+00</td>\n",
       "      <td>8.377971e-01</td>\n",
       "      <td>1.018077e+00</td>\n",
       "      <td>-1.685377e-01</td>\n",
       "    </tr>\n",
       "    <tr>\n",
       "      <th>max</th>\n",
       "      <td>2.059779e+00</td>\n",
       "      <td>5.894442e+00</td>\n",
       "      <td>1.967938e+00</td>\n",
       "      <td>1.831568e+00</td>\n",
       "      <td>5.002692e+00</td>\n",
       "      <td>2.506651e+00</td>\n",
       "      <td>8.404177e+00</td>\n",
       "      <td>1.764880e+00</td>\n",
       "      <td>2.472091e+00</td>\n",
       "      <td>2.323769e+00</td>\n",
       "      <td>1.773408e+00</td>\n",
       "      <td>1.634248e+00</td>\n",
       "      <td>1.019748e+00</td>\n",
       "      <td>1.680855e+00</td>\n",
       "      <td>1.400291e+00</td>\n",
       "      <td>2.010242e+00</td>\n",
       "      <td>1.772370e+00</td>\n",
       "      <td>1.501195e+00</td>\n",
       "      <td>1.695582e+00</td>\n",
       "    </tr>\n",
       "  </tbody>\n",
       "</table>\n",
       "</div>\n",
       "    <div class=\"colab-df-buttons\">\n",
       "\n",
       "  <div class=\"colab-df-container\">\n",
       "    <button class=\"colab-df-convert\" onclick=\"convertToInteractive('df-81879aee-7206-46dd-a275-d9409e87d0d3')\"\n",
       "            title=\"Convert this dataframe to an interactive table.\"\n",
       "            style=\"display:none;\">\n",
       "\n",
       "  <svg xmlns=\"http://www.w3.org/2000/svg\" height=\"24px\" viewBox=\"0 -960 960 960\">\n",
       "    <path d=\"M120-120v-720h720v720H120Zm60-500h600v-160H180v160Zm220 220h160v-160H400v160Zm0 220h160v-160H400v160ZM180-400h160v-160H180v160Zm440 0h160v-160H620v160ZM180-180h160v-160H180v160Zm440 0h160v-160H620v160Z\"/>\n",
       "  </svg>\n",
       "    </button>\n",
       "\n",
       "  <style>\n",
       "    .colab-df-container {\n",
       "      display:flex;\n",
       "      gap: 12px;\n",
       "    }\n",
       "\n",
       "    .colab-df-convert {\n",
       "      background-color: #E8F0FE;\n",
       "      border: none;\n",
       "      border-radius: 50%;\n",
       "      cursor: pointer;\n",
       "      display: none;\n",
       "      fill: #1967D2;\n",
       "      height: 32px;\n",
       "      padding: 0 0 0 0;\n",
       "      width: 32px;\n",
       "    }\n",
       "\n",
       "    .colab-df-convert:hover {\n",
       "      background-color: #E2EBFA;\n",
       "      box-shadow: 0px 1px 2px rgba(60, 64, 67, 0.3), 0px 1px 3px 1px rgba(60, 64, 67, 0.15);\n",
       "      fill: #174EA6;\n",
       "    }\n",
       "\n",
       "    .colab-df-buttons div {\n",
       "      margin-bottom: 4px;\n",
       "    }\n",
       "\n",
       "    [theme=dark] .colab-df-convert {\n",
       "      background-color: #3B4455;\n",
       "      fill: #D2E3FC;\n",
       "    }\n",
       "\n",
       "    [theme=dark] .colab-df-convert:hover {\n",
       "      background-color: #434B5C;\n",
       "      box-shadow: 0px 1px 3px 1px rgba(0, 0, 0, 0.15);\n",
       "      filter: drop-shadow(0px 1px 2px rgba(0, 0, 0, 0.3));\n",
       "      fill: #FFFFFF;\n",
       "    }\n",
       "  </style>\n",
       "\n",
       "    <script>\n",
       "      const buttonEl =\n",
       "        document.querySelector('#df-81879aee-7206-46dd-a275-d9409e87d0d3 button.colab-df-convert');\n",
       "      buttonEl.style.display =\n",
       "        google.colab.kernel.accessAllowed ? 'block' : 'none';\n",
       "\n",
       "      async function convertToInteractive(key) {\n",
       "        const element = document.querySelector('#df-81879aee-7206-46dd-a275-d9409e87d0d3');\n",
       "        const dataTable =\n",
       "          await google.colab.kernel.invokeFunction('convertToInteractive',\n",
       "                                                    [key], {});\n",
       "        if (!dataTable) return;\n",
       "\n",
       "        const docLinkHtml = 'Like what you see? Visit the ' +\n",
       "          '<a target=\"_blank\" href=https://colab.research.google.com/notebooks/data_table.ipynb>data table notebook</a>'\n",
       "          + ' to learn more about interactive tables.';\n",
       "        element.innerHTML = '';\n",
       "        dataTable['output_type'] = 'display_data';\n",
       "        await google.colab.output.renderOutput(dataTable, element);\n",
       "        const docLink = document.createElement('div');\n",
       "        docLink.innerHTML = docLinkHtml;\n",
       "        element.appendChild(docLink);\n",
       "      }\n",
       "    </script>\n",
       "  </div>\n",
       "\n",
       "\n",
       "<div id=\"df-d0b20461-b803-4c21-aa1a-c490a5dcab6d\">\n",
       "  <button class=\"colab-df-quickchart\" onclick=\"quickchart('df-d0b20461-b803-4c21-aa1a-c490a5dcab6d')\"\n",
       "            title=\"Suggest charts\"\n",
       "            style=\"display:none;\">\n",
       "\n",
       "<svg xmlns=\"http://www.w3.org/2000/svg\" height=\"24px\"viewBox=\"0 0 24 24\"\n",
       "     width=\"24px\">\n",
       "    <g>\n",
       "        <path d=\"M19 3H5c-1.1 0-2 .9-2 2v14c0 1.1.9 2 2 2h14c1.1 0 2-.9 2-2V5c0-1.1-.9-2-2-2zM9 17H7v-7h2v7zm4 0h-2V7h2v10zm4 0h-2v-4h2v4z\"/>\n",
       "    </g>\n",
       "</svg>\n",
       "  </button>\n",
       "\n",
       "<style>\n",
       "  .colab-df-quickchart {\n",
       "      --bg-color: #E8F0FE;\n",
       "      --fill-color: #1967D2;\n",
       "      --hover-bg-color: #E2EBFA;\n",
       "      --hover-fill-color: #174EA6;\n",
       "      --disabled-fill-color: #AAA;\n",
       "      --disabled-bg-color: #DDD;\n",
       "  }\n",
       "\n",
       "  [theme=dark] .colab-df-quickchart {\n",
       "      --bg-color: #3B4455;\n",
       "      --fill-color: #D2E3FC;\n",
       "      --hover-bg-color: #434B5C;\n",
       "      --hover-fill-color: #FFFFFF;\n",
       "      --disabled-bg-color: #3B4455;\n",
       "      --disabled-fill-color: #666;\n",
       "  }\n",
       "\n",
       "  .colab-df-quickchart {\n",
       "    background-color: var(--bg-color);\n",
       "    border: none;\n",
       "    border-radius: 50%;\n",
       "    cursor: pointer;\n",
       "    display: none;\n",
       "    fill: var(--fill-color);\n",
       "    height: 32px;\n",
       "    padding: 0;\n",
       "    width: 32px;\n",
       "  }\n",
       "\n",
       "  .colab-df-quickchart:hover {\n",
       "    background-color: var(--hover-bg-color);\n",
       "    box-shadow: 0 1px 2px rgba(60, 64, 67, 0.3), 0 1px 3px 1px rgba(60, 64, 67, 0.15);\n",
       "    fill: var(--button-hover-fill-color);\n",
       "  }\n",
       "\n",
       "  .colab-df-quickchart-complete:disabled,\n",
       "  .colab-df-quickchart-complete:disabled:hover {\n",
       "    background-color: var(--disabled-bg-color);\n",
       "    fill: var(--disabled-fill-color);\n",
       "    box-shadow: none;\n",
       "  }\n",
       "\n",
       "  .colab-df-spinner {\n",
       "    border: 2px solid var(--fill-color);\n",
       "    border-color: transparent;\n",
       "    border-bottom-color: var(--fill-color);\n",
       "    animation:\n",
       "      spin 1s steps(1) infinite;\n",
       "  }\n",
       "\n",
       "  @keyframes spin {\n",
       "    0% {\n",
       "      border-color: transparent;\n",
       "      border-bottom-color: var(--fill-color);\n",
       "      border-left-color: var(--fill-color);\n",
       "    }\n",
       "    20% {\n",
       "      border-color: transparent;\n",
       "      border-left-color: var(--fill-color);\n",
       "      border-top-color: var(--fill-color);\n",
       "    }\n",
       "    30% {\n",
       "      border-color: transparent;\n",
       "      border-left-color: var(--fill-color);\n",
       "      border-top-color: var(--fill-color);\n",
       "      border-right-color: var(--fill-color);\n",
       "    }\n",
       "    40% {\n",
       "      border-color: transparent;\n",
       "      border-right-color: var(--fill-color);\n",
       "      border-top-color: var(--fill-color);\n",
       "    }\n",
       "    60% {\n",
       "      border-color: transparent;\n",
       "      border-right-color: var(--fill-color);\n",
       "    }\n",
       "    80% {\n",
       "      border-color: transparent;\n",
       "      border-right-color: var(--fill-color);\n",
       "      border-bottom-color: var(--fill-color);\n",
       "    }\n",
       "    90% {\n",
       "      border-color: transparent;\n",
       "      border-bottom-color: var(--fill-color);\n",
       "    }\n",
       "  }\n",
       "</style>\n",
       "\n",
       "  <script>\n",
       "    async function quickchart(key) {\n",
       "      const quickchartButtonEl =\n",
       "        document.querySelector('#' + key + ' button');\n",
       "      quickchartButtonEl.disabled = true;  // To prevent multiple clicks.\n",
       "      quickchartButtonEl.classList.add('colab-df-spinner');\n",
       "      try {\n",
       "        const charts = await google.colab.kernel.invokeFunction(\n",
       "            'suggestCharts', [key], {});\n",
       "      } catch (error) {\n",
       "        console.error('Error during call to suggestCharts:', error);\n",
       "      }\n",
       "      quickchartButtonEl.classList.remove('colab-df-spinner');\n",
       "      quickchartButtonEl.classList.add('colab-df-quickchart-complete');\n",
       "    }\n",
       "    (() => {\n",
       "      let quickchartButtonEl =\n",
       "        document.querySelector('#df-d0b20461-b803-4c21-aa1a-c490a5dcab6d button');\n",
       "      quickchartButtonEl.style.display =\n",
       "        google.colab.kernel.accessAllowed ? 'block' : 'none';\n",
       "    })();\n",
       "  </script>\n",
       "</div>\n",
       "    </div>\n",
       "  </div>\n"
      ],
      "text/plain": [
       "                 0             1             2             3             4   \\\n",
       "count  6.393000e+03  6.393000e+03  6.393000e+03  6.393000e+03  6.393000e+03   \n",
       "mean   1.439313e-16  1.016966e-16 -4.834758e-17  1.333726e-17  3.056456e-18   \n",
       "std    1.000078e+00  1.000078e+00  1.000078e+00  1.000078e+00  1.000078e+00   \n",
       "min   -1.248424e+00 -9.368124e-01 -1.493306e+00 -1.722989e+00 -4.163683e-01   \n",
       "25%   -9.063899e-01 -7.341904e-01 -8.999498e-01 -8.612784e-01 -4.163683e-01   \n",
       "50%   -1.245130e-01 -3.000005e-01 -1.088083e-01  4.324504e-04 -4.163683e-01   \n",
       "75%    8.138387e-01  4.525952e-01  7.812260e-01  8.262387e-01 -4.163683e-01   \n",
       "max    2.059779e+00  5.894442e+00  1.967938e+00  1.831568e+00  5.002692e+00   \n",
       "\n",
       "                 5             6             7             8             9   \\\n",
       "count  6.393000e+03  6.393000e+03  6.393000e+03  6.393000e+03  6.393000e+03   \n",
       "mean  -7.335495e-17  3.112028e-17 -2.445165e-17 -6.613060e-17  4.709721e-17   \n",
       "std    1.000078e+00  1.000078e+00  1.000078e+00  1.000078e+00  1.000078e+00   \n",
       "min   -8.279002e-01 -1.486927e+00 -1.365340e+00 -4.045158e-01 -7.336204e-01   \n",
       "25%   -8.279002e-01 -5.530743e-01 -5.827850e-01 -4.045158e-01 -7.336204e-01   \n",
       "50%   -4.110814e-01 -1.842918e-01 -5.827850e-01 -4.045158e-01 -7.336204e-01   \n",
       "75%    4.225564e-01  3.835089e-01  9.823251e-01 -4.045158e-01  7.950742e-01   \n",
       "max    2.506651e+00  8.404177e+00  1.764880e+00  2.472091e+00  2.323769e+00   \n",
       "\n",
       "                 10            11            12            13            14  \\\n",
       "count  6.393000e+03  6.393000e+03  6.393000e+03  6.393000e+03  6.393000e+03   \n",
       "mean  -4.167895e-17 -1.000295e-16  1.667158e-18 -1.550457e-16  5.112618e-17   \n",
       "std    1.000078e+00  1.000078e+00  1.000078e+00  1.000078e+00  1.000078e+00   \n",
       "min   -1.134736e+00 -1.349118e+00 -9.806348e-01 -1.621451e+00 -1.747962e+00   \n",
       "25%   -1.134736e+00 -6.032766e-01 -9.806348e-01  2.970164e-02 -1.738360e-01   \n",
       "50%   -4.076996e-01 -6.032766e-01 -9.806348e-01  2.970164e-02 -1.738360e-01   \n",
       "75%    1.046372e+00  8.884067e-01  1.019748e+00  2.970164e-02  1.400291e+00   \n",
       "max    1.773408e+00  1.634248e+00  1.019748e+00  1.680855e+00  1.400291e+00   \n",
       "\n",
       "                 15            16            17            18  \n",
       "count  6.393000e+03  6.393000e+03  6.393000e+03  6.393000e+03  \n",
       "mean  -9.780660e-17 -6.057341e-17  1.111439e-18 -1.000295e-17  \n",
       "std    1.000078e+00  1.000078e+00  1.000078e+00  1.000078e+00  \n",
       "min   -9.579951e-01 -1.031349e+00 -9.143952e-01 -2.032658e+00  \n",
       "25%   -9.579951e-01 -1.031349e+00 -9.143952e-01 -1.685377e-01  \n",
       "50%    3.141729e-02 -9.677572e-02 -9.143952e-01 -1.685377e-01  \n",
       "75%    1.020830e+00  8.377971e-01  1.018077e+00 -1.685377e-01  \n",
       "max    2.010242e+00  1.772370e+00  1.501195e+00  1.695582e+00  "
      ]
     },
     "execution_count": 40,
     "metadata": {},
     "output_type": "execute_result"
    }
   ],
   "source": [
    "pd.DataFrame(X_train_scaled).describe()"
   ]
  },
  {
   "cell_type": "code",
   "execution_count": null,
   "metadata": {
    "colab": {
     "base_uri": "https://localhost:8080/"
    },
    "id": "DL1J2ukxs1wG",
    "outputId": "287ba581-38eb-4ce1-989d-fb7c746609d9"
   },
   "outputs": [
    {
     "name": "stdout",
     "output_type": "stream",
     "text": [
      "Model: \"sequential_1\"\n",
      "_________________________________________________________________\n",
      " Layer (type)                Output Shape              Param #   \n",
      "=================================================================\n",
      " dense_5 (Dense)             (None, 128)               2560      \n",
      "                                                                 \n",
      " dropout (Dropout)           (None, 128)               0         \n",
      "                                                                 \n",
      " dense_6 (Dense)             (None, 64)                8256      \n",
      "                                                                 \n",
      " dropout_1 (Dropout)         (None, 64)                0         \n",
      "                                                                 \n",
      " dense_7 (Dense)             (None, 32)                2080      \n",
      "                                                                 \n",
      " dropout_2 (Dropout)         (None, 32)                0         \n",
      "                                                                 \n",
      " dense_8 (Dense)             (None, 1)                 33        \n",
      "                                                                 \n",
      "=================================================================\n",
      "Total params: 12929 (50.50 KB)\n",
      "Trainable params: 12929 (50.50 KB)\n",
      "Non-trainable params: 0 (0.00 Byte)\n",
      "_________________________________________________________________\n"
     ]
    }
   ],
   "source": [
    "# Define the neural network architecture\n",
    "model = tf.keras.models.Sequential([\n",
    "    tf.keras.layers.Dense(128, activation='relu', input_shape=(X_train.shape[1],)),\n",
    "    tf.keras.layers.Dropout(0.2),\n",
    "    tf.keras.layers.Dense(64, activation='relu'),\n",
    "    tf.keras.layers.Dropout(0.2),\n",
    "    tf.keras.layers.Dense(32, activation='relu'),\n",
    "    tf.keras.layers.Dropout(0.2),\n",
    "    tf.keras.layers.Dense(1, activation='linear')  # Output layer\n",
    "])\n",
    "\n",
    "# Compile the model\n",
    "model.compile(optimizer='adam', loss='mean_squared_error', metrics=['mae'])\n",
    "model.summary()\n",
    "\n",
    "\n"
   ]
  },
  {
   "cell_type": "code",
   "execution_count": null,
   "metadata": {
    "id": "aQct1BdZTu5C"
   },
   "outputs": [],
   "source": [
    "from tensorflow import keras\n"
   ]
  },
  {
   "cell_type": "code",
   "execution_count": null,
   "metadata": {
    "colab": {
     "base_uri": "https://localhost:8080/"
    },
    "id": "FAAV3VUsTZXo",
    "outputId": "ac7237c2-8ae8-4055-ba7c-aad475b26d90"
   },
   "outputs": [
    {
     "name": "stdout",
     "output_type": "stream",
     "text": [
      "Model: \"sequential\"\n",
      "_________________________________________________________________\n",
      " Layer (type)                Output Shape              Param #   \n",
      "=================================================================\n",
      " dense (Dense)               (None, 128)               2560      \n",
      "                                                                 \n",
      " dense_1 (Dense)             (None, 64)                8256      \n",
      "                                                                 \n",
      " dense_2 (Dense)             (None, 64)                4160      \n",
      "                                                                 \n",
      " dense_3 (Dense)             (None, 32)                2080      \n",
      "                                                                 \n",
      " dense_4 (Dense)             (None, 1)                 33        \n",
      "                                                                 \n",
      "=================================================================\n",
      "Total params: 17089 (66.75 KB)\n",
      "Trainable params: 17089 (66.75 KB)\n",
      "Non-trainable params: 0 (0.00 Byte)\n",
      "_________________________________________________________________\n"
     ]
    }
   ],
   "source": [
    "model = keras.Sequential([\n",
    "    keras.layers.Dense(128, activation='relu', input_shape=(19,)),\n",
    "    keras.layers.Dense(64, activation='relu'),\n",
    "    keras.layers.Dense(64, activation='relu'),\n",
    "    keras.layers.Dense(32, activation='relu'),\n",
    "    keras.layers.Dense(1)  # No activation function for regression\n",
    "])\n",
    "\n",
    "model.compile(optimizer='adam', loss='mean_squared_error')\n",
    "model.summary()\n"
   ]
  },
  {
   "cell_type": "code",
   "execution_count": null,
   "metadata": {
    "colab": {
     "base_uri": "https://localhost:8080/"
    },
    "id": "3AwRGoAxs1tP",
    "outputId": "11492d7e-481c-40e1-b5c5-3fec5ef4fd09"
   },
   "outputs": [
    {
     "name": "stdout",
     "output_type": "stream",
     "text": [
      "Epoch 1/100\n",
      "180/180 [==============================] - 2s 4ms/step - loss: 11.2947 - mae: 2.5126 - val_loss: 1.4803 - val_mae: 0.9619\n",
      "Epoch 2/100\n",
      "180/180 [==============================] - 1s 3ms/step - loss: 3.4646 - mae: 1.4940 - val_loss: 1.1175 - val_mae: 0.8323\n",
      "Epoch 3/100\n",
      "180/180 [==============================] - 1s 4ms/step - loss: 2.9489 - mae: 1.3776 - val_loss: 1.0007 - val_mae: 0.7904\n",
      "Epoch 4/100\n",
      "180/180 [==============================] - 1s 4ms/step - loss: 2.6805 - mae: 1.3099 - val_loss: 0.7289 - val_mae: 0.6562\n",
      "Epoch 5/100\n",
      "180/180 [==============================] - 1s 4ms/step - loss: 2.4107 - mae: 1.2410 - val_loss: 0.7349 - val_mae: 0.6632\n",
      "Epoch 6/100\n",
      "180/180 [==============================] - 1s 5ms/step - loss: 2.2416 - mae: 1.1944 - val_loss: 0.6485 - val_mae: 0.6215\n",
      "Epoch 7/100\n",
      "180/180 [==============================] - 1s 3ms/step - loss: 2.2845 - mae: 1.2057 - val_loss: 0.6779 - val_mae: 0.6378\n",
      "Epoch 8/100\n",
      "180/180 [==============================] - 1s 3ms/step - loss: 2.0653 - mae: 1.1428 - val_loss: 0.6530 - val_mae: 0.6125\n",
      "Epoch 9/100\n",
      "180/180 [==============================] - 1s 3ms/step - loss: 2.0130 - mae: 1.1263 - val_loss: 0.5445 - val_mae: 0.5333\n",
      "Epoch 10/100\n",
      "180/180 [==============================] - 0s 3ms/step - loss: 1.9056 - mae: 1.1053 - val_loss: 0.4166 - val_mae: 0.4850\n",
      "Epoch 11/100\n",
      "180/180 [==============================] - 0s 3ms/step - loss: 1.8390 - mae: 1.0798 - val_loss: 0.4182 - val_mae: 0.4767\n",
      "Epoch 12/100\n",
      "180/180 [==============================] - 0s 3ms/step - loss: 1.8295 - mae: 1.0746 - val_loss: 0.5527 - val_mae: 0.5463\n",
      "Epoch 13/100\n",
      "180/180 [==============================] - 1s 3ms/step - loss: 1.7076 - mae: 1.0439 - val_loss: 0.4649 - val_mae: 0.5042\n",
      "Epoch 14/100\n",
      "180/180 [==============================] - 1s 3ms/step - loss: 1.6559 - mae: 1.0260 - val_loss: 0.3909 - val_mae: 0.4600\n",
      "Epoch 15/100\n",
      "180/180 [==============================] - 0s 3ms/step - loss: 1.5544 - mae: 0.9898 - val_loss: 0.4918 - val_mae: 0.5172\n",
      "Epoch 16/100\n",
      "180/180 [==============================] - 0s 3ms/step - loss: 1.5194 - mae: 0.9830 - val_loss: 0.3961 - val_mae: 0.4303\n",
      "Epoch 17/100\n",
      "180/180 [==============================] - 1s 3ms/step - loss: 1.5091 - mae: 0.9796 - val_loss: 0.3865 - val_mae: 0.4403\n",
      "Epoch 18/100\n",
      "180/180 [==============================] - 0s 3ms/step - loss: 1.3609 - mae: 0.9307 - val_loss: 0.2713 - val_mae: 0.3552\n",
      "Epoch 19/100\n",
      "180/180 [==============================] - 1s 3ms/step - loss: 1.4049 - mae: 0.9369 - val_loss: 0.2120 - val_mae: 0.3175\n",
      "Epoch 20/100\n",
      "180/180 [==============================] - 1s 3ms/step - loss: 1.3013 - mae: 0.9113 - val_loss: 0.3026 - val_mae: 0.3893\n",
      "Epoch 21/100\n",
      "180/180 [==============================] - 1s 3ms/step - loss: 1.2793 - mae: 0.8979 - val_loss: 0.1650 - val_mae: 0.2720\n",
      "Epoch 22/100\n",
      "180/180 [==============================] - 1s 3ms/step - loss: 1.1866 - mae: 0.8615 - val_loss: 0.2310 - val_mae: 0.3249\n",
      "Epoch 23/100\n",
      "180/180 [==============================] - 0s 3ms/step - loss: 1.2118 - mae: 0.8662 - val_loss: 0.1795 - val_mae: 0.2771\n",
      "Epoch 24/100\n",
      "180/180 [==============================] - 0s 3ms/step - loss: 1.0938 - mae: 0.8245 - val_loss: 0.1369 - val_mae: 0.2454\n",
      "Epoch 25/100\n",
      "180/180 [==============================] - 1s 3ms/step - loss: 1.1117 - mae: 0.8309 - val_loss: 0.1973 - val_mae: 0.2872\n",
      "Epoch 26/100\n",
      "180/180 [==============================] - 1s 4ms/step - loss: 1.0711 - mae: 0.8208 - val_loss: 0.1246 - val_mae: 0.2414\n",
      "Epoch 27/100\n",
      "180/180 [==============================] - 1s 5ms/step - loss: 1.0457 - mae: 0.8082 - val_loss: 0.1404 - val_mae: 0.2318\n",
      "Epoch 28/100\n",
      "180/180 [==============================] - 1s 5ms/step - loss: 0.9763 - mae: 0.7863 - val_loss: 0.1150 - val_mae: 0.2227\n",
      "Epoch 29/100\n",
      "180/180 [==============================] - 1s 3ms/step - loss: 0.9756 - mae: 0.7851 - val_loss: 0.2112 - val_mae: 0.3304\n",
      "Epoch 30/100\n",
      "180/180 [==============================] - 0s 3ms/step - loss: 0.9525 - mae: 0.7690 - val_loss: 0.1166 - val_mae: 0.2012\n",
      "Epoch 31/100\n",
      "180/180 [==============================] - 0s 3ms/step - loss: 0.8950 - mae: 0.7440 - val_loss: 0.2098 - val_mae: 0.3170\n",
      "Epoch 32/100\n",
      "180/180 [==============================] - 0s 3ms/step - loss: 0.8884 - mae: 0.7456 - val_loss: 0.1471 - val_mae: 0.2459\n",
      "Epoch 33/100\n",
      "180/180 [==============================] - 1s 3ms/step - loss: 0.8571 - mae: 0.7299 - val_loss: 0.1393 - val_mae: 0.2376\n",
      "Epoch 34/100\n",
      "180/180 [==============================] - 1s 3ms/step - loss: 0.8363 - mae: 0.7254 - val_loss: 0.1223 - val_mae: 0.2075\n",
      "Epoch 35/100\n",
      "180/180 [==============================] - 1s 3ms/step - loss: 0.8072 - mae: 0.7082 - val_loss: 0.1096 - val_mae: 0.2089\n",
      "Epoch 36/100\n",
      "180/180 [==============================] - 0s 3ms/step - loss: 0.7863 - mae: 0.6979 - val_loss: 0.1249 - val_mae: 0.2261\n",
      "Epoch 37/100\n",
      "180/180 [==============================] - 1s 3ms/step - loss: 0.7783 - mae: 0.6954 - val_loss: 0.1235 - val_mae: 0.2158\n",
      "Epoch 38/100\n",
      "180/180 [==============================] - 0s 3ms/step - loss: 0.7543 - mae: 0.6890 - val_loss: 0.1245 - val_mae: 0.2092\n",
      "Epoch 39/100\n",
      "180/180 [==============================] - 0s 3ms/step - loss: 0.7308 - mae: 0.6720 - val_loss: 0.0840 - val_mae: 0.1677\n",
      "Epoch 40/100\n",
      "180/180 [==============================] - 1s 3ms/step - loss: 0.7074 - mae: 0.6627 - val_loss: 0.0891 - val_mae: 0.1724\n",
      "Epoch 41/100\n",
      "180/180 [==============================] - 1s 3ms/step - loss: 0.6749 - mae: 0.6484 - val_loss: 0.1466 - val_mae: 0.2669\n",
      "Epoch 42/100\n",
      "180/180 [==============================] - 1s 3ms/step - loss: 0.6659 - mae: 0.6447 - val_loss: 0.1325 - val_mae: 0.2570\n",
      "Epoch 43/100\n",
      "180/180 [==============================] - 1s 3ms/step - loss: 0.6468 - mae: 0.6334 - val_loss: 0.0913 - val_mae: 0.1856\n",
      "Epoch 44/100\n",
      "180/180 [==============================] - 0s 3ms/step - loss: 0.6379 - mae: 0.6274 - val_loss: 0.1490 - val_mae: 0.2754\n",
      "Epoch 45/100\n",
      "180/180 [==============================] - 1s 3ms/step - loss: 0.6106 - mae: 0.6181 - val_loss: 0.0806 - val_mae: 0.1635\n",
      "Epoch 46/100\n",
      "180/180 [==============================] - 0s 3ms/step - loss: 0.5956 - mae: 0.6078 - val_loss: 0.1213 - val_mae: 0.2512\n",
      "Epoch 47/100\n",
      "180/180 [==============================] - 0s 3ms/step - loss: 0.5796 - mae: 0.5952 - val_loss: 0.0935 - val_mae: 0.2001\n",
      "Epoch 48/100\n",
      "180/180 [==============================] - 2s 11ms/step - loss: 0.5619 - mae: 0.5885 - val_loss: 0.0697 - val_mae: 0.1691\n",
      "Epoch 49/100\n",
      "180/180 [==============================] - 1s 5ms/step - loss: 0.5601 - mae: 0.5880 - val_loss: 0.0804 - val_mae: 0.1774\n",
      "Epoch 50/100\n",
      "180/180 [==============================] - 1s 4ms/step - loss: 0.5463 - mae: 0.5775 - val_loss: 0.1199 - val_mae: 0.2435\n",
      "Epoch 51/100\n",
      "180/180 [==============================] - 1s 3ms/step - loss: 0.5290 - mae: 0.5654 - val_loss: 0.0913 - val_mae: 0.2125\n",
      "Epoch 52/100\n",
      "180/180 [==============================] - 1s 3ms/step - loss: 0.5100 - mae: 0.5587 - val_loss: 0.0728 - val_mae: 0.1704\n",
      "Epoch 53/100\n",
      "180/180 [==============================] - 1s 3ms/step - loss: 0.5063 - mae: 0.5601 - val_loss: 0.1065 - val_mae: 0.2131\n",
      "Epoch 54/100\n",
      "180/180 [==============================] - 0s 3ms/step - loss: 0.4590 - mae: 0.5276 - val_loss: 0.0841 - val_mae: 0.2037\n",
      "Epoch 55/100\n",
      "180/180 [==============================] - 0s 3ms/step - loss: 0.4604 - mae: 0.5319 - val_loss: 0.0766 - val_mae: 0.1780\n",
      "Epoch 56/100\n",
      "180/180 [==============================] - 0s 3ms/step - loss: 0.4553 - mae: 0.5294 - val_loss: 0.0861 - val_mae: 0.1843\n",
      "Epoch 57/100\n",
      "180/180 [==============================] - 1s 3ms/step - loss: 0.4365 - mae: 0.5159 - val_loss: 0.0653 - val_mae: 0.1588\n",
      "Epoch 58/100\n",
      "180/180 [==============================] - 1s 3ms/step - loss: 0.4210 - mae: 0.5069 - val_loss: 0.0954 - val_mae: 0.2028\n",
      "Epoch 59/100\n",
      "180/180 [==============================] - 1s 3ms/step - loss: 0.4066 - mae: 0.4973 - val_loss: 0.0661 - val_mae: 0.1707\n",
      "Epoch 60/100\n",
      "180/180 [==============================] - 1s 3ms/step - loss: 0.4095 - mae: 0.4985 - val_loss: 0.0556 - val_mae: 0.1525\n",
      "Epoch 61/100\n",
      "180/180 [==============================] - 1s 3ms/step - loss: 0.3936 - mae: 0.4871 - val_loss: 0.0587 - val_mae: 0.1372\n",
      "Epoch 62/100\n",
      "180/180 [==============================] - 0s 3ms/step - loss: 0.3810 - mae: 0.4789 - val_loss: 0.0721 - val_mae: 0.1555\n",
      "Epoch 63/100\n",
      "180/180 [==============================] - 0s 3ms/step - loss: 0.3805 - mae: 0.4761 - val_loss: 0.0562 - val_mae: 0.1328\n",
      "Epoch 64/100\n",
      "180/180 [==============================] - 0s 3ms/step - loss: 0.3597 - mae: 0.4661 - val_loss: 0.0975 - val_mae: 0.1955\n",
      "Epoch 65/100\n",
      "180/180 [==============================] - 1s 3ms/step - loss: 0.3484 - mae: 0.4577 - val_loss: 0.0749 - val_mae: 0.1665\n",
      "Epoch 66/100\n",
      "180/180 [==============================] - 1s 3ms/step - loss: 0.3396 - mae: 0.4493 - val_loss: 0.0581 - val_mae: 0.1287\n",
      "Epoch 67/100\n",
      "180/180 [==============================] - 0s 3ms/step - loss: 0.3324 - mae: 0.4456 - val_loss: 0.0814 - val_mae: 0.1810\n",
      "Epoch 68/100\n",
      "180/180 [==============================] - 1s 3ms/step - loss: 0.3204 - mae: 0.4373 - val_loss: 0.0467 - val_mae: 0.1342\n",
      "Epoch 69/100\n",
      "180/180 [==============================] - 1s 3ms/step - loss: 0.3016 - mae: 0.4265 - val_loss: 0.0508 - val_mae: 0.1322\n",
      "Epoch 70/100\n",
      "180/180 [==============================] - 1s 5ms/step - loss: 0.2982 - mae: 0.4232 - val_loss: 0.0671 - val_mae: 0.1516\n",
      "Epoch 71/100\n",
      "180/180 [==============================] - 1s 4ms/step - loss: 0.2873 - mae: 0.4137 - val_loss: 0.0562 - val_mae: 0.1274\n",
      "Epoch 72/100\n",
      "180/180 [==============================] - 1s 5ms/step - loss: 0.2790 - mae: 0.4084 - val_loss: 0.0559 - val_mae: 0.1366\n",
      "Epoch 73/100\n",
      "180/180 [==============================] - 1s 4ms/step - loss: 0.2647 - mae: 0.3989 - val_loss: 0.0636 - val_mae: 0.1427\n",
      "Epoch 74/100\n",
      "180/180 [==============================] - 0s 3ms/step - loss: 0.2499 - mae: 0.3848 - val_loss: 0.0542 - val_mae: 0.1268\n",
      "Epoch 75/100\n",
      "180/180 [==============================] - 1s 3ms/step - loss: 0.2451 - mae: 0.3840 - val_loss: 0.0530 - val_mae: 0.1482\n",
      "Epoch 76/100\n",
      "180/180 [==============================] - 0s 3ms/step - loss: 0.2330 - mae: 0.3736 - val_loss: 0.0663 - val_mae: 0.1578\n",
      "Epoch 77/100\n",
      "180/180 [==============================] - 1s 3ms/step - loss: 0.2215 - mae: 0.3619 - val_loss: 0.0590 - val_mae: 0.1445\n",
      "Epoch 78/100\n",
      "180/180 [==============================] - 0s 3ms/step - loss: 0.2205 - mae: 0.3628 - val_loss: 0.0607 - val_mae: 0.1541\n",
      "Epoch 79/100\n",
      "180/180 [==============================] - 0s 3ms/step - loss: 0.2088 - mae: 0.3495 - val_loss: 0.0636 - val_mae: 0.1574\n",
      "Epoch 80/100\n",
      "180/180 [==============================] - 1s 3ms/step - loss: 0.2048 - mae: 0.3460 - val_loss: 0.0507 - val_mae: 0.1366\n",
      "Epoch 81/100\n",
      "180/180 [==============================] - 1s 3ms/step - loss: 0.2011 - mae: 0.3429 - val_loss: 0.0641 - val_mae: 0.1583\n",
      "Epoch 82/100\n",
      "180/180 [==============================] - 1s 3ms/step - loss: 0.1913 - mae: 0.3350 - val_loss: 0.0609 - val_mae: 0.1714\n",
      "Epoch 83/100\n",
      "180/180 [==============================] - 1s 3ms/step - loss: 0.1770 - mae: 0.3211 - val_loss: 0.0559 - val_mae: 0.1454\n",
      "Epoch 84/100\n",
      "180/180 [==============================] - 0s 3ms/step - loss: 0.1735 - mae: 0.3158 - val_loss: 0.0577 - val_mae: 0.1528\n",
      "Epoch 85/100\n",
      "180/180 [==============================] - 0s 3ms/step - loss: 0.1665 - mae: 0.3080 - val_loss: 0.0575 - val_mae: 0.1471\n",
      "Epoch 86/100\n",
      "180/180 [==============================] - 0s 3ms/step - loss: 0.1654 - mae: 0.3068 - val_loss: 0.0589 - val_mae: 0.1390\n",
      "Epoch 87/100\n",
      "180/180 [==============================] - 0s 3ms/step - loss: 0.1498 - mae: 0.2931 - val_loss: 0.0559 - val_mae: 0.1536\n",
      "Epoch 88/100\n",
      "180/180 [==============================] - 1s 3ms/step - loss: 0.1494 - mae: 0.2907 - val_loss: 0.0570 - val_mae: 0.1525\n",
      "Epoch 89/100\n",
      "180/180 [==============================] - 1s 3ms/step - loss: 0.1411 - mae: 0.2847 - val_loss: 0.0519 - val_mae: 0.1364\n",
      "Epoch 90/100\n",
      "180/180 [==============================] - 1s 3ms/step - loss: 0.1463 - mae: 0.2864 - val_loss: 0.0519 - val_mae: 0.1294\n",
      "Epoch 91/100\n",
      "180/180 [==============================] - 1s 3ms/step - loss: 0.1297 - mae: 0.2719 - val_loss: 0.0490 - val_mae: 0.1459\n",
      "Epoch 92/100\n",
      "180/180 [==============================] - 1s 4ms/step - loss: 0.1278 - mae: 0.2678 - val_loss: 0.0578 - val_mae: 0.1333\n",
      "Epoch 93/100\n",
      "180/180 [==============================] - 1s 5ms/step - loss: 0.1250 - mae: 0.2633 - val_loss: 0.0564 - val_mae: 0.1539\n",
      "Epoch 94/100\n",
      "180/180 [==============================] - 1s 5ms/step - loss: 0.1210 - mae: 0.2593 - val_loss: 0.0487 - val_mae: 0.1283\n",
      "Epoch 95/100\n",
      "180/180 [==============================] - 1s 5ms/step - loss: 0.1150 - mae: 0.2519 - val_loss: 0.0583 - val_mae: 0.1535\n",
      "Epoch 96/100\n",
      "180/180 [==============================] - 1s 3ms/step - loss: 0.1116 - mae: 0.2481 - val_loss: 0.0459 - val_mae: 0.1307\n",
      "Epoch 97/100\n",
      "180/180 [==============================] - 1s 3ms/step - loss: 0.1086 - mae: 0.2440 - val_loss: 0.0472 - val_mae: 0.1360\n",
      "Epoch 98/100\n",
      "180/180 [==============================] - 1s 3ms/step - loss: 0.0997 - mae: 0.2333 - val_loss: 0.0554 - val_mae: 0.1400\n",
      "Epoch 99/100\n",
      "180/180 [==============================] - 1s 3ms/step - loss: 0.1025 - mae: 0.2328 - val_loss: 0.0517 - val_mae: 0.1353\n",
      "Epoch 100/100\n",
      "180/180 [==============================] - 1s 3ms/step - loss: 0.0938 - mae: 0.2236 - val_loss: 0.0527 - val_mae: 0.1420\n"
     ]
    }
   ],
   "source": [
    "# Train the model\n",
    "history = model.fit(X_train_scaled, y_train, epochs=100, batch_size=32, validation_split=0.1)"
   ]
  },
  {
   "cell_type": "code",
   "execution_count": null,
   "metadata": {
    "colab": {
     "base_uri": "https://localhost:8080/"
    },
    "id": "maitJl_ns1qt",
    "outputId": "07ba5857-7a4a-4480-9e13-7d532cf0092f"
   },
   "outputs": [
    {
     "name": "stdout",
     "output_type": "stream",
     "text": [
      "86/86 [==============================] - 0s 3ms/step - loss: 0.0875\n",
      "Test Loss: 0.08749955147504807\n"
     ]
    }
   ],
   "source": [
    "# Evaluate the model on the test set\n",
    "loss = model.evaluate(X_test_scaled, y_test)\n",
    "print(\"Test Loss:\", loss)\n",
    "#print(\"Test MAE:\", mae)"
   ]
  },
  {
   "cell_type": "code",
   "execution_count": null,
   "metadata": {
    "colab": {
     "base_uri": "https://localhost:8080/",
     "height": 472
    },
    "id": "EIGExyY3UUcC",
    "outputId": "b78a8533-4c89-4a1d-97f2-6e6425f37440"
   },
   "outputs": [
    {
     "data": {
      "image/png": "[encoded data removed]",
      "text/plain": [
       "<Figure size 640x480 with 1 Axes>"
      ]
     },
     "metadata": {},
     "output_type": "display_data"
    }
   ],
   "source": [
    "# Get the training loss and validation loss from the training history\n",
    "train_loss = history.history['loss']\n",
    "val_loss = history.history['val_loss']\n",
    "\n",
    "# Plot the training and validation loss\n",
    "epochs = range(1, len(train_loss) + 1)\n",
    "plt.plot(epochs, train_loss, 'b', label='Training loss')\n",
    "plt.plot(epochs, val_loss, 'r', label='Validation loss')\n",
    "plt.title('Training and Validation Loss')\n",
    "plt.xlabel('Epochs')\n",
    "plt.ylabel('Loss')\n",
    "plt.legend()\n",
    "plt.show()"
   ]
  },
  {
   "cell_type": "code",
   "execution_count": null,
   "metadata": {
    "colab": {
     "base_uri": "https://localhost:8080/",
     "height": 507
    },
    "id": "5dpoHP63s1oZ",
    "outputId": "6fc7ea91-6f6d-4996-c025-cd83b6dfd5f6"
   },
   "outputs": [
    {
     "data": {
      "image/png": "[encoded data removed]",
      "text/plain": [
       "<Figure size 1200x500 with 2 Axes>"
      ]
     },
     "metadata": {},
     "output_type": "display_data"
    }
   ],
   "source": [
    "import matplotlib.pyplot as plt\n",
    "\n",
    "# Get training history\n",
    "train_loss = history.history['loss']\n",
    "val_loss = history.history['val_loss']\n",
    "train_mae = history.history['mae']\n",
    "val_mae = history.history['val_mae']\n",
    "epochs = range(1, len(train_loss) + 1)\n",
    "\n",
    "# Plot training and validation loss\n",
    "plt.figure(figsize=(12, 5))\n",
    "plt.subplot(1, 2, 1)\n",
    "plt.plot(epochs, train_loss, 'b', label='Training Loss')\n",
    "plt.plot(epochs, val_loss, 'r', label='Validation Loss')\n",
    "plt.title('Training and Validation Loss')\n",
    "plt.xlabel('Epochs')\n",
    "plt.ylabel('Loss')\n",
    "plt.legend()\n",
    "\n",
    "# Plot training and validation MAE\n",
    "plt.subplot(1, 2, 2)\n",
    "plt.plot(epochs, train_mae, 'b', label='Training MAE')\n",
    "plt.plot(epochs, val_mae, 'r', label='Validation MAE')\n",
    "plt.title('Training and Validation MAE')\n",
    "plt.xlabel('Epochs')\n",
    "plt.ylabel('MAE')\n",
    "plt.legend()\n",
    "\n",
    "plt.tight_layout()\n",
    "plt.show()\n"
   ]
  },
  {
   "cell_type": "code",
   "execution_count": null,
   "metadata": {
    "colab": {
     "base_uri": "https://localhost:8080/"
    },
    "id": "rP9Ffd7j4FGn",
    "outputId": "3d24d412-38a6-40c2-d69f-52e483c6604b"
   },
   "outputs": [
    {
     "name": "stdout",
     "output_type": "stream",
     "text": [
      "86/86 [==============================] - 0s 2ms/step\n",
      "0.8797156020375257\n"
     ]
    }
   ],
   "source": [
    "prediction_test = model.predict(X_test_scaled)\n",
    "print(r2_score(y_test, prediction_test))"
   ]
  },
  {
   "cell_type": "code",
   "execution_count": null,
   "metadata": {
    "id": "dVHKFM7sD6YL"
   },
   "outputs": [],
   "source": [
    "new_data = X_test[0:5]\n",
    "\n",
    "scaled_single_data = scaler.fit_transform(new_data)\n"
   ]
  },
  {
   "cell_type": "code",
   "execution_count": null,
   "metadata": {
    "colab": {
     "base_uri": "https://localhost:8080/",
     "height": 226
    },
    "id": "MNDKJ57hEjSB",
    "outputId": "08098bf7-4a46-4023-86b3-2ca907b6cca5"
   },
   "outputs": [
    {
     "data": {
      "application/vnd.google.colaboratory.intrinsic+json": {
       "summary": "{\n  \"name\": \"new_data\",\n  \"rows\": 5,\n  \"fields\": [\n    {\n      \"column\": \"income\",\n      \"properties\": {\n        \"dtype\": \"number\",\n        \"std\": 33100,\n        \"min\": 23218,\n        \"max\": 94903,\n        \"num_unique_values\": 5,\n        \"samples\": [\n          23218,\n          23769,\n          94903\n        ],\n        \"semantic_type\": \"\",\n        \"description\": \"\"\n      }\n    },\n    {\n      \"column\": \"monthly_premium_auto\",\n      \"properties\": {\n        \"dtype\": \"number\",\n        \"std\": 16,\n        \"min\": 69,\n        \"max\": 106,\n        \"num_unique_values\": 5,\n        \"samples\": [\n          71,\n          69,\n          94\n        ],\n        \"semantic_type\": \"\",\n        \"description\": \"\"\n      }\n    },\n    {\n      \"column\": \"months_since_last_claim\",\n      \"properties\": {\n        \"dtype\": \"number\",\n        \"std\": 6,\n        \"min\": 1,\n        \"max\": 18,\n        \"num_unique_values\": 4,\n        \"samples\": [\n          7,\n          18,\n          1\n        ],\n        \"semantic_type\": \"\",\n        \"description\": \"\"\n      }\n    },\n    {\n      \"column\": \"months_since_policy_inception\",\n      \"properties\": {\n        \"dtype\": \"number\",\n        \"std\": 16,\n        \"min\": 10,\n        \"max\": 49,\n        \"num_unique_values\": 5,\n        \"samples\": [\n          10,\n          14,\n          38\n        ],\n        \"semantic_type\": \"\",\n        \"description\": \"\"\n      }\n    },\n    {\n      \"column\": \"number_of_open_complaints\",\n      \"properties\": {\n        \"dtype\": \"number\",\n        \"std\": 0,\n        \"min\": 0,\n        \"max\": 1,\n        \"num_unique_values\": 2,\n        \"samples\": [\n          1,\n          0\n        ],\n        \"semantic_type\": \"\",\n        \"description\": \"\"\n      }\n    },\n    {\n      \"column\": \"number_of_policies\",\n      \"properties\": {\n        \"dtype\": \"number\",\n        \"std\": 1,\n        \"min\": 1,\n        \"max\": 5,\n        \"num_unique_values\": 4,\n        \"samples\": [\n          4,\n          2\n        ],\n        \"semantic_type\": \"\",\n        \"description\": \"\"\n      }\n    },\n    {\n      \"column\": \"total_claim_amount\",\n      \"properties\": {\n        \"dtype\": \"number\",\n        \"std\": 104.94203147384957,\n        \"min\": 218.598065,\n        \"max\": 470.097411,\n        \"num_unique_values\": 5,\n        \"samples\": [\n          447.79344,\n          470.097411\n        ],\n        \"semantic_type\": \"\",\n        \"description\": \"\"\n      }\n    },\n    {\n      \"column\": \"state\",\n      \"properties\": {\n        \"dtype\": \"number\",\n        \"std\": 1,\n        \"min\": 1,\n        \"max\": 4,\n        \"num_unique_values\": 3,\n        \"samples\": [\n          1,\n          3\n        ],\n        \"semantic_type\": \"\",\n        \"description\": \"\"\n      }\n    },\n    {\n      \"column\": \"response\",\n      \"properties\": {\n        \"dtype\": \"number\",\n        \"std\": 0,\n        \"min\": 0,\n        \"max\": 1,\n        \"num_unique_values\": 2,\n        \"samples\": [\n          1,\n          0\n        ],\n        \"semantic_type\": \"\",\n        \"description\": \"\"\n      }\n    },\n    {\n      \"column\": \"coverage\",\n      \"properties\": {\n        \"dtype\": \"number\",\n        \"std\": 0,\n        \"min\": 0,\n        \"max\": 1,\n        \"num_unique_values\": 2,\n        \"samples\": [\n          1,\n          0\n        ],\n        \"semantic_type\": \"\",\n        \"description\": \"\"\n      }\n    },\n    {\n      \"column\": \"education\",\n      \"properties\": {\n        \"dtype\": \"number\",\n        \"std\": 1,\n        \"min\": 1,\n        \"max\": 3,\n        \"num_unique_values\": 2,\n        \"samples\": [\n          1,\n          3\n        ],\n        \"semantic_type\": \"\",\n        \"description\": \"\"\n      }\n    },\n    {\n      \"column\": \"employmentstatus\",\n      \"properties\": {\n        \"dtype\": \"number\",\n        \"std\": 0,\n        \"min\": 0,\n        \"max\": 1,\n        \"num_unique_values\": 2,\n        \"samples\": [\n          0,\n          1\n        ],\n        \"semantic_type\": \"\",\n        \"description\": \"\"\n      }\n    },\n    {\n      \"column\": \"gender\",\n      \"properties\": {\n        \"dtype\": \"number\",\n        \"std\": 0,\n        \"min\": 0,\n        \"max\": 1,\n        \"num_unique_values\": 2,\n        \"samples\": [\n          0,\n          1\n        ],\n        \"semantic_type\": \"\",\n        \"description\": \"\"\n      }\n    },\n    {\n      \"column\": \"location_code\",\n      \"properties\": {\n        \"dtype\": \"number\",\n        \"std\": 0,\n        \"min\": 0,\n        \"max\": 2,\n        \"num_unique_values\": 3,\n        \"samples\": [\n          0,\n          1\n        ],\n        \"semantic_type\": \"\",\n        \"description\": \"\"\n      }\n    },\n    {\n      \"column\": \"marital_status\",\n      \"properties\": {\n        \"dtype\": \"number\",\n        \"std\": 0,\n        \"min\": 0,\n        \"max\": 2,\n        \"num_unique_values\": 3,\n        \"samples\": [\n          1,\n          2\n        ],\n        \"semantic_type\": \"\",\n        \"description\": \"\"\n      }\n    },\n    {\n      \"column\": \"renew_offer_type\",\n      \"properties\": {\n        \"dtype\": \"number\",\n        \"std\": 1,\n        \"min\": 0,\n        \"max\": 3,\n        \"num_unique_values\": 3,\n        \"samples\": [\n          1,\n          3\n        ],\n        \"semantic_type\": \"\",\n        \"description\": \"\"\n      }\n    },\n    {\n      \"column\": \"sales_channel\",\n      \"properties\": {\n        \"dtype\": \"number\",\n        \"std\": 0,\n        \"min\": 0,\n        \"max\": 1,\n        \"num_unique_values\": 2,\n        \"samples\": [\n          1,\n          0\n        ],\n        \"semantic_type\": \"\",\n        \"description\": \"\"\n      }\n    },\n    {\n      \"column\": \"vehicle_class\",\n      \"properties\": {\n        \"dtype\": \"number\",\n        \"std\": 2,\n        \"min\": 0,\n        \"max\": 5,\n        \"num_unique_values\": 3,\n        \"samples\": [\n          3,\n          5\n        ],\n        \"semantic_type\": \"\",\n        \"description\": \"\"\n      }\n    },\n    {\n      \"column\": \"vehicle_size\",\n      \"properties\": {\n        \"dtype\": \"number\",\n        \"std\": 0,\n        \"min\": 1,\n        \"max\": 2,\n        \"num_unique_values\": 2,\n        \"samples\": [\n          2,\n          1\n        ],\n        \"semantic_type\": \"\",\n        \"description\": \"\"\n      }\n    }\n  ]\n}",
       "type": "dataframe",
       "variable_name": "new_data"
      },
      "text/html": [
       "\n",
       "  <div id=\"df-94921bc1-c50b-4949-aae3-503d774a0b9c\" class=\"colab-df-container\">\n",
       "    <div>\n",
       "<style scoped>\n",
       "    .dataframe tbody tr th:only-of-type {\n",
       "        vertical-align: middle;\n",
       "    }\n",
       "\n",
       "    .dataframe tbody tr th {\n",
       "        vertical-align: top;\n",
       "    }\n",
       "\n",
       "    .dataframe thead th {\n",
       "        text-align: right;\n",
       "    }\n",
       "</style>\n",
       "<table border=\"1\" class=\"dataframe\">\n",
       "  <thead>\n",
       "    <tr style=\"text-align: right;\">\n",
       "      <th></th>\n",
       "      <th>income</th>\n",
       "      <th>monthly_premium_auto</th>\n",
       "      <th>months_since_last_claim</th>\n",
       "      <th>months_since_policy_inception</th>\n",
       "      <th>number_of_open_complaints</th>\n",
       "      <th>number_of_policies</th>\n",
       "      <th>total_claim_amount</th>\n",
       "      <th>state</th>\n",
       "      <th>response</th>\n",
       "      <th>coverage</th>\n",
       "      <th>education</th>\n",
       "      <th>employmentstatus</th>\n",
       "      <th>gender</th>\n",
       "      <th>location_code</th>\n",
       "      <th>marital_status</th>\n",
       "      <th>renew_offer_type</th>\n",
       "      <th>sales_channel</th>\n",
       "      <th>vehicle_class</th>\n",
       "      <th>vehicle_size</th>\n",
       "    </tr>\n",
       "  </thead>\n",
       "  <tbody>\n",
       "    <tr>\n",
       "      <th>708</th>\n",
       "      <td>74585</td>\n",
       "      <td>106</td>\n",
       "      <td>1</td>\n",
       "      <td>49</td>\n",
       "      <td>0</td>\n",
       "      <td>1</td>\n",
       "      <td>218.598065</td>\n",
       "      <td>1</td>\n",
       "      <td>0</td>\n",
       "      <td>0</td>\n",
       "      <td>3</td>\n",
       "      <td>1</td>\n",
       "      <td>1</td>\n",
       "      <td>0</td>\n",
       "      <td>1</td>\n",
       "      <td>1</td>\n",
       "      <td>0</td>\n",
       "      <td>3</td>\n",
       "      <td>1</td>\n",
       "    </tr>\n",
       "    <tr>\n",
       "      <th>47</th>\n",
       "      <td>23218</td>\n",
       "      <td>71</td>\n",
       "      <td>7</td>\n",
       "      <td>10</td>\n",
       "      <td>0</td>\n",
       "      <td>4</td>\n",
       "      <td>447.793440</td>\n",
       "      <td>3</td>\n",
       "      <td>0</td>\n",
       "      <td>0</td>\n",
       "      <td>3</td>\n",
       "      <td>1</td>\n",
       "      <td>0</td>\n",
       "      <td>1</td>\n",
       "      <td>2</td>\n",
       "      <td>3</td>\n",
       "      <td>0</td>\n",
       "      <td>5</td>\n",
       "      <td>1</td>\n",
       "    </tr>\n",
       "    <tr>\n",
       "      <th>3995</th>\n",
       "      <td>94903</td>\n",
       "      <td>94</td>\n",
       "      <td>3</td>\n",
       "      <td>38</td>\n",
       "      <td>0</td>\n",
       "      <td>1</td>\n",
       "      <td>451.200000</td>\n",
       "      <td>3</td>\n",
       "      <td>1</td>\n",
       "      <td>1</td>\n",
       "      <td>1</td>\n",
       "      <td>1</td>\n",
       "      <td>0</td>\n",
       "      <td>1</td>\n",
       "      <td>1</td>\n",
       "      <td>1</td>\n",
       "      <td>0</td>\n",
       "      <td>5</td>\n",
       "      <td>2</td>\n",
       "    </tr>\n",
       "    <tr>\n",
       "      <th>1513</th>\n",
       "      <td>77153</td>\n",
       "      <td>99</td>\n",
       "      <td>3</td>\n",
       "      <td>27</td>\n",
       "      <td>1</td>\n",
       "      <td>5</td>\n",
       "      <td>355.641958</td>\n",
       "      <td>1</td>\n",
       "      <td>0</td>\n",
       "      <td>1</td>\n",
       "      <td>1</td>\n",
       "      <td>1</td>\n",
       "      <td>0</td>\n",
       "      <td>2</td>\n",
       "      <td>1</td>\n",
       "      <td>0</td>\n",
       "      <td>1</td>\n",
       "      <td>0</td>\n",
       "      <td>1</td>\n",
       "    </tr>\n",
       "    <tr>\n",
       "      <th>3686</th>\n",
       "      <td>23769</td>\n",
       "      <td>69</td>\n",
       "      <td>18</td>\n",
       "      <td>14</td>\n",
       "      <td>0</td>\n",
       "      <td>2</td>\n",
       "      <td>470.097411</td>\n",
       "      <td>4</td>\n",
       "      <td>0</td>\n",
       "      <td>0</td>\n",
       "      <td>3</td>\n",
       "      <td>0</td>\n",
       "      <td>0</td>\n",
       "      <td>1</td>\n",
       "      <td>0</td>\n",
       "      <td>0</td>\n",
       "      <td>1</td>\n",
       "      <td>0</td>\n",
       "      <td>1</td>\n",
       "    </tr>\n",
       "  </tbody>\n",
       "</table>\n",
       "</div>\n",
       "    <div class=\"colab-df-buttons\">\n",
       "\n",
       "  <div class=\"colab-df-container\">\n",
       "    <button class=\"colab-df-convert\" onclick=\"convertToInteractive('df-94921bc1-c50b-4949-aae3-503d774a0b9c')\"\n",
       "            title=\"Convert this dataframe to an interactive table.\"\n",
       "            style=\"display:none;\">\n",
       "\n",
       "  <svg xmlns=\"http://www.w3.org/2000/svg\" height=\"24px\" viewBox=\"0 -960 960 960\">\n",
       "    <path d=\"M120-120v-720h720v720H120Zm60-500h600v-160H180v160Zm220 220h160v-160H400v160Zm0 220h160v-160H400v160ZM180-400h160v-160H180v160Zm440 0h160v-160H620v160ZM180-180h160v-160H180v160Zm440 0h160v-160H620v160Z\"/>\n",
       "  </svg>\n",
       "    </button>\n",
       "\n",
       "  <style>\n",
       "    .colab-df-container {\n",
       "      display:flex;\n",
       "      gap: 12px;\n",
       "    }\n",
       "\n",
       "    .colab-df-convert {\n",
       "      background-color: #E8F0FE;\n",
       "      border: none;\n",
       "      border-radius: 50%;\n",
       "      cursor: pointer;\n",
       "      display: none;\n",
       "      fill: #1967D2;\n",
       "      height: 32px;\n",
       "      padding: 0 0 0 0;\n",
       "      width: 32px;\n",
       "    }\n",
       "\n",
       "    .colab-df-convert:hover {\n",
       "      background-color: #E2EBFA;\n",
       "      box-shadow: 0px 1px 2px rgba(60, 64, 67, 0.3), 0px 1px 3px 1px rgba(60, 64, 67, 0.15);\n",
       "      fill: #174EA6;\n",
       "    }\n",
       "\n",
       "    .colab-df-buttons div {\n",
       "      margin-bottom: 4px;\n",
       "    }\n",
       "\n",
       "    [theme=dark] .colab-df-convert {\n",
       "      background-color: #3B4455;\n",
       "      fill: #D2E3FC;\n",
       "    }\n",
       "\n",
       "    [theme=dark] .colab-df-convert:hover {\n",
       "      background-color: #434B5C;\n",
       "      box-shadow: 0px 1px 3px 1px rgba(0, 0, 0, 0.15);\n",
       "      filter: drop-shadow(0px 1px 2px rgba(0, 0, 0, 0.3));\n",
       "      fill: #FFFFFF;\n",
       "    }\n",
       "  </style>\n",
       "\n",
       "    <script>\n",
       "      const buttonEl =\n",
       "        document.querySelector('#df-94921bc1-c50b-4949-aae3-503d774a0b9c button.colab-df-convert');\n",
       "      buttonEl.style.display =\n",
       "        google.colab.kernel.accessAllowed ? 'block' : 'none';\n",
       "\n",
       "      async function convertToInteractive(key) {\n",
       "        const element = document.querySelector('#df-94921bc1-c50b-4949-aae3-503d774a0b9c');\n",
       "        const dataTable =\n",
       "          await google.colab.kernel.invokeFunction('convertToInteractive',\n",
       "                                                    [key], {});\n",
       "        if (!dataTable) return;\n",
       "\n",
       "        const docLinkHtml = 'Like what you see? Visit the ' +\n",
       "          '<a target=\"_blank\" href=https://colab.research.google.com/notebooks/data_table.ipynb>data table notebook</a>'\n",
       "          + ' to learn more about interactive tables.';\n",
       "        element.innerHTML = '';\n",
       "        dataTable['output_type'] = 'display_data';\n",
       "        await google.colab.output.renderOutput(dataTable, element);\n",
       "        const docLink = document.createElement('div');\n",
       "        docLink.innerHTML = docLinkHtml;\n",
       "        element.appendChild(docLink);\n",
       "      }\n",
       "    </script>\n",
       "  </div>\n",
       "\n",
       "\n",
       "<div id=\"df-9dede5d1-3d83-4fab-9454-8b79423e4cc6\">\n",
       "  <button class=\"colab-df-quickchart\" onclick=\"quickchart('df-9dede5d1-3d83-4fab-9454-8b79423e4cc6')\"\n",
       "            title=\"Suggest charts\"\n",
       "            style=\"display:none;\">\n",
       "\n",
       "<svg xmlns=\"http://www.w3.org/2000/svg\" height=\"24px\"viewBox=\"0 0 24 24\"\n",
       "     width=\"24px\">\n",
       "    <g>\n",
       "        <path d=\"M19 3H5c-1.1 0-2 .9-2 2v14c0 1.1.9 2 2 2h14c1.1 0 2-.9 2-2V5c0-1.1-.9-2-2-2zM9 17H7v-7h2v7zm4 0h-2V7h2v10zm4 0h-2v-4h2v4z\"/>\n",
       "    </g>\n",
       "</svg>\n",
       "  </button>\n",
       "\n",
       "<style>\n",
       "  .colab-df-quickchart {\n",
       "      --bg-color: #E8F0FE;\n",
       "      --fill-color: #1967D2;\n",
       "      --hover-bg-color: #E2EBFA;\n",
       "      --hover-fill-color: #174EA6;\n",
       "      --disabled-fill-color: #AAA;\n",
       "      --disabled-bg-color: #DDD;\n",
       "  }\n",
       "\n",
       "  [theme=dark] .colab-df-quickchart {\n",
       "      --bg-color: #3B4455;\n",
       "      --fill-color: #D2E3FC;\n",
       "      --hover-bg-color: #434B5C;\n",
       "      --hover-fill-color: #FFFFFF;\n",
       "      --disabled-bg-color: #3B4455;\n",
       "      --disabled-fill-color: #666;\n",
       "  }\n",
       "\n",
       "  .colab-df-quickchart {\n",
       "    background-color: var(--bg-color);\n",
       "    border: none;\n",
       "    border-radius: 50%;\n",
       "    cursor: pointer;\n",
       "    display: none;\n",
       "    fill: var(--fill-color);\n",
       "    height: 32px;\n",
       "    padding: 0;\n",
       "    width: 32px;\n",
       "  }\n",
       "\n",
       "  .colab-df-quickchart:hover {\n",
       "    background-color: var(--hover-bg-color);\n",
       "    box-shadow: 0 1px 2px rgba(60, 64, 67, 0.3), 0 1px 3px 1px rgba(60, 64, 67, 0.15);\n",
       "    fill: var(--button-hover-fill-color);\n",
       "  }\n",
       "\n",
       "  .colab-df-quickchart-complete:disabled,\n",
       "  .colab-df-quickchart-complete:disabled:hover {\n",
       "    background-color: var(--disabled-bg-color);\n",
       "    fill: var(--disabled-fill-color);\n",
       "    box-shadow: none;\n",
       "  }\n",
       "\n",
       "  .colab-df-spinner {\n",
       "    border: 2px solid var(--fill-color);\n",
       "    border-color: transparent;\n",
       "    border-bottom-color: var(--fill-color);\n",
       "    animation:\n",
       "      spin 1s steps(1) infinite;\n",
       "  }\n",
       "\n",
       "  @keyframes spin {\n",
       "    0% {\n",
       "      border-color: transparent;\n",
       "      border-bottom-color: var(--fill-color);\n",
       "      border-left-color: var(--fill-color);\n",
       "    }\n",
       "    20% {\n",
       "      border-color: transparent;\n",
       "      border-left-color: var(--fill-color);\n",
       "      border-top-color: var(--fill-color);\n",
       "    }\n",
       "    30% {\n",
       "      border-color: transparent;\n",
       "      border-left-color: var(--fill-color);\n",
       "      border-top-color: var(--fill-color);\n",
       "      border-right-color: var(--fill-color);\n",
       "    }\n",
       "    40% {\n",
       "      border-color: transparent;\n",
       "      border-right-color: var(--fill-color);\n",
       "      border-top-color: var(--fill-color);\n",
       "    }\n",
       "    60% {\n",
       "      border-color: transparent;\n",
       "      border-right-color: var(--fill-color);\n",
       "    }\n",
       "    80% {\n",
       "      border-color: transparent;\n",
       "      border-right-color: var(--fill-color);\n",
       "      border-bottom-color: var(--fill-color);\n",
       "    }\n",
       "    90% {\n",
       "      border-color: transparent;\n",
       "      border-bottom-color: var(--fill-color);\n",
       "    }\n",
       "  }\n",
       "</style>\n",
       "\n",
       "  <script>\n",
       "    async function quickchart(key) {\n",
       "      const quickchartButtonEl =\n",
       "        document.querySelector('#' + key + ' button');\n",
       "      quickchartButtonEl.disabled = true;  // To prevent multiple clicks.\n",
       "      quickchartButtonEl.classList.add('colab-df-spinner');\n",
       "      try {\n",
       "        const charts = await google.colab.kernel.invokeFunction(\n",
       "            'suggestCharts', [key], {});\n",
       "      } catch (error) {\n",
       "        console.error('Error during call to suggestCharts:', error);\n",
       "      }\n",
       "      quickchartButtonEl.classList.remove('colab-df-spinner');\n",
       "      quickchartButtonEl.classList.add('colab-df-quickchart-complete');\n",
       "    }\n",
       "    (() => {\n",
       "      let quickchartButtonEl =\n",
       "        document.querySelector('#df-9dede5d1-3d83-4fab-9454-8b79423e4cc6 button');\n",
       "      quickchartButtonEl.style.display =\n",
       "        google.colab.kernel.accessAllowed ? 'block' : 'none';\n",
       "    })();\n",
       "  </script>\n",
       "</div>\n",
       "    </div>\n",
       "  </div>\n"
      ],
      "text/plain": [
       "      income  monthly_premium_auto  months_since_last_claim  \\\n",
       "708    74585                   106                        1   \n",
       "47     23218                    71                        7   \n",
       "3995   94903                    94                        3   \n",
       "1513   77153                    99                        3   \n",
       "3686   23769                    69                       18   \n",
       "\n",
       "      months_since_policy_inception  number_of_open_complaints  \\\n",
       "708                              49                          0   \n",
       "47                               10                          0   \n",
       "3995                             38                          0   \n",
       "1513                             27                          1   \n",
       "3686                             14                          0   \n",
       "\n",
       "      number_of_policies  total_claim_amount  state  response  coverage  \\\n",
       "708                    1          218.598065      1         0         0   \n",
       "47                     4          447.793440      3         0         0   \n",
       "3995                   1          451.200000      3         1         1   \n",
       "1513                   5          355.641958      1         0         1   \n",
       "3686                   2          470.097411      4         0         0   \n",
       "\n",
       "      education  employmentstatus  gender  location_code  marital_status  \\\n",
       "708           3                 1       1              0               1   \n",
       "47            3                 1       0              1               2   \n",
       "3995          1                 1       0              1               1   \n",
       "1513          1                 1       0              2               1   \n",
       "3686          3                 0       0              1               0   \n",
       "\n",
       "      renew_offer_type  sales_channel  vehicle_class  vehicle_size  \n",
       "708                  1              0              3             1  \n",
       "47                   3              0              5             1  \n",
       "3995                 1              0              5             2  \n",
       "1513                 0              1              0             1  \n",
       "3686                 0              1              0             1  "
      ]
     },
     "execution_count": 355,
     "metadata": {},
     "output_type": "execute_result"
    }
   ],
   "source": [
    "new_data"
   ]
  },
  {
   "cell_type": "code",
   "execution_count": null,
   "metadata": {
    "colab": {
     "base_uri": "https://localhost:8080/"
    },
    "id": "wQ8Mk5MeEJfc",
    "outputId": "30d19beb-36a1-481e-acde-f52ca8432aa1"
   },
   "outputs": [
    {
     "data": {
      "text/plain": [
       "array([[ 0.5356776 ,  1.21021767, -0.88252261,  1.4689268 , -0.5       ,\n",
       "        -0.98473193, -1.8118758 , -1.16666667, -0.5       , -0.81649658,\n",
       "         0.81649658,  0.5       ,  2.        , -1.58113883,  0.        ,\n",
       "         0.        , -0.81649658,  0.17817416, -0.5       ],\n",
       "       [-1.19932822, -1.117124  ,  0.09805807, -1.20808933, -0.5       ,\n",
       "         0.86164044,  0.62993151,  0.5       , -0.5       , -0.81649658,\n",
       "         0.81649658,  0.5       , -0.5       ,  0.        ,  1.58113883,\n",
       "         1.82574186, -0.81649658,  1.06904497, -0.5       ],\n",
       "       [ 1.22195183,  0.41227195, -0.55566238,  0.71387097, -0.5       ,\n",
       "        -0.98473193,  0.6662244 ,  0.5       ,  2.        ,  1.22474487,\n",
       "        -1.22474487,  0.5       , -0.5       ,  0.        ,  0.        ,\n",
       "         0.        , -0.81649658,  1.06904497,  2.        ],\n",
       "       [ 0.62241607,  0.74474934, -0.55566238, -0.04118486,  2.        ,\n",
       "         1.47709789, -0.35183421, -1.16666667, -0.5       ,  1.22474487,\n",
       "        -1.22474487,  0.5       , -0.5       ,  1.58113883,  0.        ,\n",
       "        -0.91287093,  1.22474487, -1.15813205, -0.5       ],\n",
       "       [-1.18071728, -1.25011496,  1.89578931, -0.93352357, -0.5       ,\n",
       "        -0.36927447,  0.8675541 ,  1.33333333, -0.5       , -0.81649658,\n",
       "         0.81649658, -2.        , -0.5       ,  0.        , -1.58113883,\n",
       "        -0.91287093,  1.22474487, -1.15813205, -0.5       ]])"
      ]
     },
     "execution_count": 356,
     "metadata": {},
     "output_type": "execute_result"
    }
   ],
   "source": [
    "scaled_single_data"
   ]
  },
  {
   "cell_type": "code",
   "execution_count": null,
   "metadata": {
    "colab": {
     "base_uri": "https://localhost:8080/"
    },
    "id": "sXwrhPcP7RoO",
    "outputId": "a10fac45-3626-4ef3-a6e5-f217d611686a"
   },
   "outputs": [
    {
     "name": "stdout",
     "output_type": "stream",
     "text": [
      "1/1 [==============================] - 0s 118ms/step\n",
      "[[ 982.9602 ]\n",
      " [ 315.59814]\n",
      " [1244.8881 ]\n",
      " [1014.75   ]\n",
      " [ 322.91406]]\n"
     ]
    }
   ],
   "source": [
    "# new_data = X_train[0:1]\n",
    "predictions = model.predict(new_data)\n",
    "\n",
    "print(predictions)"
   ]
  },
  {
   "cell_type": "code",
   "execution_count": null,
   "metadata": {
    "colab": {
     "base_uri": "https://localhost:8080/"
    },
    "id": "CSzEssVq8F5u",
    "outputId": "df8cc1f4-b2b6-415d-bba7-2978d8bfcaeb"
   },
   "outputs": [
    {
     "data": {
      "text/plain": [
       "708     4222.631209\n",
       "47      5514.344018\n",
       "3995    3808.122147\n",
       "1513    7914.823110\n",
       "3686    7931.722181\n",
       "Name: customer_lifetime_value, dtype: float64"
      ]
     },
     "execution_count": 358,
     "metadata": {},
     "output_type": "execute_result"
    }
   ],
   "source": [
    "np.exp(y_test[0:5])\n"
   ]
  },
  {
   "cell_type": "code",
   "execution_count": null,
   "metadata": {
    "id": "-6IWMNUR8O3_"
   },
   "outputs": [],
   "source": [
    "normal_data = np.exp(y_train[1])"
   ]
  },
  {
   "cell_type": "code",
   "execution_count": null,
   "metadata": {
    "colab": {
     "base_uri": "https://localhost:8080/"
    },
    "id": "J25w9Udu9DGW",
    "outputId": "02aabe6d-f5ba-4dc1-9ec8-eb97241653d5"
   },
   "outputs": [
    {
     "data": {
      "text/plain": [
       "6979.535903"
      ]
     },
     "execution_count": 360,
     "metadata": {},
     "output_type": "execute_result"
    }
   ],
   "source": [
    "normal_data"
   ]
  },
  {
   "cell_type": "code",
   "execution_count": null,
   "metadata": {
    "id": "xHLSTnPuBuoz"
   },
   "outputs": [],
   "source": [
    "new_data = X_train[0:1]"
   ]
  },
  {
   "cell_type": "code",
   "execution_count": null,
   "metadata": {
    "colab": {
     "base_uri": "https://localhost:8080/",
     "height": 101
    },
    "id": "k6MXWLOdCnFY",
    "outputId": "cdd9e779-56b9-4a14-92b3-115f2aecd9da"
   },
   "outputs": [
    {
     "data": {
      "application/vnd.google.colaboratory.intrinsic+json": {
       "summary": "{\n  \"name\": \"new_data\",\n  \"rows\": 1,\n  \"fields\": [\n    {\n      \"column\": \"income\",\n      \"properties\": {\n        \"dtype\": \"number\",\n        \"std\": null,\n        \"min\": 48567,\n        \"max\": 48567,\n        \"num_unique_values\": 1,\n        \"samples\": [\n          48567\n        ],\n        \"semantic_type\": \"\",\n        \"description\": \"\"\n      }\n    },\n    {\n      \"column\": \"monthly_premium_auto\",\n      \"properties\": {\n        \"dtype\": \"number\",\n        \"std\": null,\n        \"min\": 130,\n        \"max\": 130,\n        \"num_unique_values\": 1,\n        \"samples\": [\n          130\n        ],\n        \"semantic_type\": \"\",\n        \"description\": \"\"\n      }\n    },\n    {\n      \"column\": \"months_since_last_claim\",\n      \"properties\": {\n        \"dtype\": \"number\",\n        \"std\": null,\n        \"min\": 12,\n        \"max\": 12,\n        \"num_unique_values\": 1,\n        \"samples\": [\n          12\n        ],\n        \"semantic_type\": \"\",\n        \"description\": \"\"\n      }\n    },\n    {\n      \"column\": \"months_since_policy_inception\",\n      \"properties\": {\n        \"dtype\": \"number\",\n        \"std\": null,\n        \"min\": 15,\n        \"max\": 15,\n        \"num_unique_values\": 1,\n        \"samples\": [\n          15\n        ],\n        \"semantic_type\": \"\",\n        \"description\": \"\"\n      }\n    },\n    {\n      \"column\": \"number_of_open_complaints\",\n      \"properties\": {\n        \"dtype\": \"number\",\n        \"std\": null,\n        \"min\": 0,\n        \"max\": 0,\n        \"num_unique_values\": 1,\n        \"samples\": [\n          0\n        ],\n        \"semantic_type\": \"\",\n        \"description\": \"\"\n      }\n    },\n    {\n      \"column\": \"number_of_policies\",\n      \"properties\": {\n        \"dtype\": \"number\",\n        \"std\": null,\n        \"min\": 1,\n        \"max\": 1,\n        \"num_unique_values\": 1,\n        \"samples\": [\n          1\n        ],\n        \"semantic_type\": \"\",\n        \"description\": \"\"\n      }\n    },\n    {\n      \"column\": \"total_claim_amount\",\n      \"properties\": {\n        \"dtype\": \"number\",\n        \"std\": null,\n        \"min\": 624.0,\n        \"max\": 624.0,\n        \"num_unique_values\": 1,\n        \"samples\": [\n          624.0\n        ],\n        \"semantic_type\": \"\",\n        \"description\": \"\"\n      }\n    },\n    {\n      \"column\": \"state\",\n      \"properties\": {\n        \"dtype\": \"number\",\n        \"std\": null,\n        \"min\": 4,\n        \"max\": 4,\n        \"num_unique_values\": 1,\n        \"samples\": [\n          4\n        ],\n        \"semantic_type\": \"\",\n        \"description\": \"\"\n      }\n    },\n    {\n      \"column\": \"response\",\n      \"properties\": {\n        \"dtype\": \"number\",\n        \"std\": null,\n        \"min\": 1,\n        \"max\": 1,\n        \"num_unique_values\": 1,\n        \"samples\": [\n          1\n        ],\n        \"semantic_type\": \"\",\n        \"description\": \"\"\n      }\n    },\n    {\n      \"column\": \"coverage\",\n      \"properties\": {\n        \"dtype\": \"number\",\n        \"std\": null,\n        \"min\": 1,\n        \"max\": 1,\n        \"num_unique_values\": 1,\n        \"samples\": [\n          1\n        ],\n        \"semantic_type\": \"\",\n        \"description\": \"\"\n      }\n    },\n    {\n      \"column\": \"education\",\n      \"properties\": {\n        \"dtype\": \"number\",\n        \"std\": null,\n        \"min\": 0,\n        \"max\": 0,\n        \"num_unique_values\": 1,\n        \"samples\": [\n          0\n        ],\n        \"semantic_type\": \"\",\n        \"description\": \"\"\n      }\n    },\n    {\n      \"column\": \"employmentstatus\",\n      \"properties\": {\n        \"dtype\": \"number\",\n        \"std\": null,\n        \"min\": 1,\n        \"max\": 1,\n        \"num_unique_values\": 1,\n        \"samples\": [\n          1\n        ],\n        \"semantic_type\": \"\",\n        \"description\": \"\"\n      }\n    },\n    {\n      \"column\": \"gender\",\n      \"properties\": {\n        \"dtype\": \"number\",\n        \"std\": null,\n        \"min\": 0,\n        \"max\": 0,\n        \"num_unique_values\": 1,\n        \"samples\": [\n          0\n        ],\n        \"semantic_type\": \"\",\n        \"description\": \"\"\n      }\n    },\n    {\n      \"column\": \"location_code\",\n      \"properties\": {\n        \"dtype\": \"number\",\n        \"std\": null,\n        \"min\": 1,\n        \"max\": 1,\n        \"num_unique_values\": 1,\n        \"samples\": [\n          1\n        ],\n        \"semantic_type\": \"\",\n        \"description\": \"\"\n      }\n    },\n    {\n      \"column\": \"marital_status\",\n      \"properties\": {\n        \"dtype\": \"number\",\n        \"std\": null,\n        \"min\": 2,\n        \"max\": 2,\n        \"num_unique_values\": 1,\n        \"samples\": [\n          2\n        ],\n        \"semantic_type\": \"\",\n        \"description\": \"\"\n      }\n    },\n    {\n      \"column\": \"renew_offer_type\",\n      \"properties\": {\n        \"dtype\": \"number\",\n        \"std\": null,\n        \"min\": 1,\n        \"max\": 1,\n        \"num_unique_values\": 1,\n        \"samples\": [\n          1\n        ],\n        \"semantic_type\": \"\",\n        \"description\": \"\"\n      }\n    },\n    {\n      \"column\": \"sales_channel\",\n      \"properties\": {\n        \"dtype\": \"number\",\n        \"std\": null,\n        \"min\": 0,\n        \"max\": 0,\n        \"num_unique_values\": 1,\n        \"samples\": [\n          0\n        ],\n        \"semantic_type\": \"\",\n        \"description\": \"\"\n      }\n    },\n    {\n      \"column\": \"vehicle_class\",\n      \"properties\": {\n        \"dtype\": \"number\",\n        \"std\": null,\n        \"min\": 3,\n        \"max\": 3,\n        \"num_unique_values\": 1,\n        \"samples\": [\n          3\n        ],\n        \"semantic_type\": \"\",\n        \"description\": \"\"\n      }\n    },\n    {\n      \"column\": \"vehicle_size\",\n      \"properties\": {\n        \"dtype\": \"number\",\n        \"std\": null,\n        \"min\": 1,\n        \"max\": 1,\n        \"num_unique_values\": 1,\n        \"samples\": [\n          1\n        ],\n        \"semantic_type\": \"\",\n        \"description\": \"\"\n      }\n    }\n  ]\n}",
       "type": "dataframe",
       "variable_name": "new_data"
      },
      "text/html": [
       "\n",
       "  <div id=\"df-828674d2-0976-4847-a517-3e95570bdd7a\" class=\"colab-df-container\">\n",
       "    <div>\n",
       "<style scoped>\n",
       "    .dataframe tbody tr th:only-of-type {\n",
       "        vertical-align: middle;\n",
       "    }\n",
       "\n",
       "    .dataframe tbody tr th {\n",
       "        vertical-align: top;\n",
       "    }\n",
       "\n",
       "    .dataframe thead th {\n",
       "        text-align: right;\n",
       "    }\n",
       "</style>\n",
       "<table border=\"1\" class=\"dataframe\">\n",
       "  <thead>\n",
       "    <tr style=\"text-align: right;\">\n",
       "      <th></th>\n",
       "      <th>income</th>\n",
       "      <th>monthly_premium_auto</th>\n",
       "      <th>months_since_last_claim</th>\n",
       "      <th>months_since_policy_inception</th>\n",
       "      <th>number_of_open_complaints</th>\n",
       "      <th>number_of_policies</th>\n",
       "      <th>total_claim_amount</th>\n",
       "      <th>state</th>\n",
       "      <th>response</th>\n",
       "      <th>coverage</th>\n",
       "      <th>education</th>\n",
       "      <th>employmentstatus</th>\n",
       "      <th>gender</th>\n",
       "      <th>location_code</th>\n",
       "      <th>marital_status</th>\n",
       "      <th>renew_offer_type</th>\n",
       "      <th>sales_channel</th>\n",
       "      <th>vehicle_class</th>\n",
       "      <th>vehicle_size</th>\n",
       "    </tr>\n",
       "  </thead>\n",
       "  <tbody>\n",
       "    <tr>\n",
       "      <th>434</th>\n",
       "      <td>48567</td>\n",
       "      <td>130</td>\n",
       "      <td>12</td>\n",
       "      <td>15</td>\n",
       "      <td>0</td>\n",
       "      <td>1</td>\n",
       "      <td>624.0</td>\n",
       "      <td>4</td>\n",
       "      <td>1</td>\n",
       "      <td>1</td>\n",
       "      <td>0</td>\n",
       "      <td>1</td>\n",
       "      <td>0</td>\n",
       "      <td>1</td>\n",
       "      <td>2</td>\n",
       "      <td>1</td>\n",
       "      <td>0</td>\n",
       "      <td>3</td>\n",
       "      <td>1</td>\n",
       "    </tr>\n",
       "  </tbody>\n",
       "</table>\n",
       "</div>\n",
       "    <div class=\"colab-df-buttons\">\n",
       "\n",
       "  <div class=\"colab-df-container\">\n",
       "    <button class=\"colab-df-convert\" onclick=\"convertToInteractive('df-828674d2-0976-4847-a517-3e95570bdd7a')\"\n",
       "            title=\"Convert this dataframe to an interactive table.\"\n",
       "            style=\"display:none;\">\n",
       "\n",
       "  <svg xmlns=\"http://www.w3.org/2000/svg\" height=\"24px\" viewBox=\"0 -960 960 960\">\n",
       "    <path d=\"M120-120v-720h720v720H120Zm60-500h600v-160H180v160Zm220 220h160v-160H400v160Zm0 220h160v-160H400v160ZM180-400h160v-160H180v160Zm440 0h160v-160H620v160ZM180-180h160v-160H180v160Zm440 0h160v-160H620v160Z\"/>\n",
       "  </svg>\n",
       "    </button>\n",
       "\n",
       "  <style>\n",
       "    .colab-df-container {\n",
       "      display:flex;\n",
       "      gap: 12px;\n",
       "    }\n",
       "\n",
       "    .colab-df-convert {\n",
       "      background-color: #E8F0FE;\n",
       "      border: none;\n",
       "      border-radius: 50%;\n",
       "      cursor: pointer;\n",
       "      display: none;\n",
       "      fill: #1967D2;\n",
       "      height: 32px;\n",
       "      padding: 0 0 0 0;\n",
       "      width: 32px;\n",
       "    }\n",
       "\n",
       "    .colab-df-convert:hover {\n",
       "      background-color: #E2EBFA;\n",
       "      box-shadow: 0px 1px 2px rgba(60, 64, 67, 0.3), 0px 1px 3px 1px rgba(60, 64, 67, 0.15);\n",
       "      fill: #174EA6;\n",
       "    }\n",
       "\n",
       "    .colab-df-buttons div {\n",
       "      margin-bottom: 4px;\n",
       "    }\n",
       "\n",
       "    [theme=dark] .colab-df-convert {\n",
       "      background-color: #3B4455;\n",
       "      fill: #D2E3FC;\n",
       "    }\n",
       "\n",
       "    [theme=dark] .colab-df-convert:hover {\n",
       "      background-color: #434B5C;\n",
       "      box-shadow: 0px 1px 3px 1px rgba(0, 0, 0, 0.15);\n",
       "      filter: drop-shadow(0px 1px 2px rgba(0, 0, 0, 0.3));\n",
       "      fill: #FFFFFF;\n",
       "    }\n",
       "  </style>\n",
       "\n",
       "    <script>\n",
       "      const buttonEl =\n",
       "        document.querySelector('#df-828674d2-0976-4847-a517-3e95570bdd7a button.colab-df-convert');\n",
       "      buttonEl.style.display =\n",
       "        google.colab.kernel.accessAllowed ? 'block' : 'none';\n",
       "\n",
       "      async function convertToInteractive(key) {\n",
       "        const element = document.querySelector('#df-828674d2-0976-4847-a517-3e95570bdd7a');\n",
       "        const dataTable =\n",
       "          await google.colab.kernel.invokeFunction('convertToInteractive',\n",
       "                                                    [key], {});\n",
       "        if (!dataTable) return;\n",
       "\n",
       "        const docLinkHtml = 'Like what you see? Visit the ' +\n",
       "          '<a target=\"_blank\" href=https://colab.research.google.com/notebooks/data_table.ipynb>data table notebook</a>'\n",
       "          + ' to learn more about interactive tables.';\n",
       "        element.innerHTML = '';\n",
       "        dataTable['output_type'] = 'display_data';\n",
       "        await google.colab.output.renderOutput(dataTable, element);\n",
       "        const docLink = document.createElement('div');\n",
       "        docLink.innerHTML = docLinkHtml;\n",
       "        element.appendChild(docLink);\n",
       "      }\n",
       "    </script>\n",
       "  </div>\n",
       "\n",
       "    </div>\n",
       "  </div>\n"
      ],
      "text/plain": [
       "     income  monthly_premium_auto  months_since_last_claim  \\\n",
       "434   48567                   130                       12   \n",
       "\n",
       "     months_since_policy_inception  number_of_open_complaints  \\\n",
       "434                             15                          0   \n",
       "\n",
       "     number_of_policies  total_claim_amount  state  response  coverage  \\\n",
       "434                   1               624.0      4         1         1   \n",
       "\n",
       "     education  employmentstatus  gender  location_code  marital_status  \\\n",
       "434          0                 1       0              1               2   \n",
       "\n",
       "     renew_offer_type  sales_channel  vehicle_class  vehicle_size  \n",
       "434                 1              0              3             1  "
      ]
     },
     "execution_count": 362,
     "metadata": {},
     "output_type": "execute_result"
    }
   ],
   "source": [
    "new_data"
   ]
  },
  {
   "cell_type": "markdown",
   "metadata": {
    "id": "HzFIVevcjL3w"
   },
   "source": [
    "We go ahead with the Random Forest Regressor model without any Hyperparameter Tuning as it gives the best accuracy and better computation efficiency"
   ]
  },
  {
   "cell_type": "code",
   "execution_count": null,
   "metadata": {
    "id": "Jc3y3U9Bjv8N"
   },
   "outputs": [],
   "source": []
  }
 ],
 "metadata": {
  "colab": {
   "provenance": []
  },
  "kernelspec": {
   "display_name": "Python 3 (ipykernel)",
   "language": "python",
   "name": "python3"
  },
  "language_info": {
   "codemirror_mode": {
    "name": "ipython",
    "version": 3
   },
   "file_extension": ".py",
   "mimetype": "text/x-python",
   "name": "python",
   "nbconvert_exporter": "python",
   "pygments_lexer": "ipython3",
   "version": "3.11.6"
  }
 },
 "nbformat": 4,
 "nbformat_minor": 1
}
