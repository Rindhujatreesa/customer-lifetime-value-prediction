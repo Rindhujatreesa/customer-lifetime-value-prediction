{
 "cells": [
  {
   "cell_type": "code",
   "execution_count": 1,
   "id": "ca639a89",
   "metadata": {},
   "outputs": [
    {
     "name": "stdout",
     "output_type": "stream",
     "text": [
      "Requirement already satisfied: langchain==0.0.284 in /opt/homebrew/lib/python3.11/site-packages (from -r requirements.txt (line 1)) (0.0.284)\n",
      "Requirement already satisfied: python-dotenv==1.0.0 in /opt/homebrew/lib/python3.11/site-packages (from -r requirements.txt (line 2)) (1.0.0)\n",
      "Requirement already satisfied: streamlit==1.22.0 in /opt/homebrew/lib/python3.11/site-packages (from -r requirements.txt (line 3)) (1.22.0)\n",
      "Requirement already satisfied: tiktoken==0.4.0 in /opt/homebrew/lib/python3.11/site-packages (from -r requirements.txt (line 4)) (0.4.0)\n",
      "Requirement already satisfied: faiss-cpu==1.7.4 in /opt/homebrew/lib/python3.11/site-packages (from -r requirements.txt (line 5)) (1.7.4)\n",
      "Requirement already satisfied: protobuf~=3.19.0 in /opt/homebrew/lib/python3.11/site-packages (from -r requirements.txt (line 6)) (3.19.6)\n",
      "Requirement already satisfied: langchain-experimental in /opt/homebrew/lib/python3.11/site-packages (from -r requirements.txt (line 7)) (0.0.25)\n",
      "Requirement already satisfied: mysql-connector-python in /opt/homebrew/lib/python3.11/site-packages (from -r requirements.txt (line 8)) (8.3.0)\n",
      "Requirement already satisfied: pymysql in /opt/homebrew/lib/python3.11/site-packages (from -r requirements.txt (line 9)) (1.1.1)\n",
      "Requirement already satisfied: sentence-transformers in /opt/homebrew/lib/python3.11/site-packages (from -r requirements.txt (line 10)) (3.0.1)\n",
      "Requirement already satisfied: chromadb in /opt/homebrew/lib/python3.11/site-packages (from -r requirements.txt (line 11)) (0.5.3)\n",
      "Requirement already satisfied: PyYAML>=5.3 in /opt/homebrew/lib/python3.11/site-packages (from langchain==0.0.284->-r requirements.txt (line 1)) (6.0.1)\n",
      "Requirement already satisfied: SQLAlchemy<3,>=1.4 in /opt/homebrew/lib/python3.11/site-packages (from langchain==0.0.284->-r requirements.txt (line 1)) (2.0.26)\n",
      "Requirement already satisfied: aiohttp<4.0.0,>=3.8.3 in /opt/homebrew/lib/python3.11/site-packages (from langchain==0.0.284->-r requirements.txt (line 1)) (3.9.5)\n",
      "Requirement already satisfied: dataclasses-json<0.6.0,>=0.5.7 in /opt/homebrew/lib/python3.11/site-packages (from langchain==0.0.284->-r requirements.txt (line 1)) (0.5.14)\n",
      "Requirement already satisfied: langsmith<0.1.0,>=0.0.21 in /opt/homebrew/lib/python3.11/site-packages (from langchain==0.0.284->-r requirements.txt (line 1)) (0.0.92)\n",
      "Requirement already satisfied: numexpr<3.0.0,>=2.8.4 in /opt/homebrew/lib/python3.11/site-packages (from langchain==0.0.284->-r requirements.txt (line 1)) (2.10.1)\n",
      "Requirement already satisfied: numpy<2,>=1 in /opt/homebrew/lib/python3.11/site-packages (from langchain==0.0.284->-r requirements.txt (line 1)) (1.26.4)\n",
      "Requirement already satisfied: pydantic<3,>=1 in /opt/homebrew/lib/python3.11/site-packages (from langchain==0.0.284->-r requirements.txt (line 1)) (2.8.1)\n",
      "Requirement already satisfied: requests<3,>=2 in /opt/homebrew/lib/python3.11/site-packages (from langchain==0.0.284->-r requirements.txt (line 1)) (2.31.0)\n",
      "Requirement already satisfied: tenacity<9.0.0,>=8.1.0 in /opt/homebrew/lib/python3.11/site-packages (from langchain==0.0.284->-r requirements.txt (line 1)) (8.2.3)\n",
      "Requirement already satisfied: altair<5,>=3.2.0 in /opt/homebrew/lib/python3.11/site-packages (from streamlit==1.22.0->-r requirements.txt (line 3)) (4.2.2)\n",
      "Requirement already satisfied: blinker>=1.0.0 in /opt/homebrew/lib/python3.11/site-packages (from streamlit==1.22.0->-r requirements.txt (line 3)) (1.7.0)\n",
      "Requirement already satisfied: cachetools>=4.0 in /opt/homebrew/lib/python3.11/site-packages (from streamlit==1.22.0->-r requirements.txt (line 3)) (5.3.2)\n",
      "Requirement already satisfied: click>=7.0 in /opt/homebrew/lib/python3.11/site-packages (from streamlit==1.22.0->-r requirements.txt (line 3)) (8.1.7)\n",
      "Requirement already satisfied: importlib-metadata>=1.4 in /opt/homebrew/lib/python3.11/site-packages (from streamlit==1.22.0->-r requirements.txt (line 3)) (7.1.0)\n",
      "Requirement already satisfied: packaging>=14.1 in /opt/homebrew/lib/python3.11/site-packages (from streamlit==1.22.0->-r requirements.txt (line 3)) (23.2)\n",
      "Requirement already satisfied: pandas<3,>=0.25 in /opt/homebrew/lib/python3.11/site-packages (from streamlit==1.22.0->-r requirements.txt (line 3)) (2.1.3)\n",
      "Requirement already satisfied: pillow>=6.2.0 in /opt/homebrew/lib/python3.11/site-packages (from streamlit==1.22.0->-r requirements.txt (line 3)) (10.1.0)\n",
      "Requirement already satisfied: pyarrow>=4.0 in /opt/homebrew/lib/python3.11/site-packages (from streamlit==1.22.0->-r requirements.txt (line 3)) (15.0.2)\n",
      "Requirement already satisfied: pympler>=0.9 in /opt/homebrew/lib/python3.11/site-packages (from streamlit==1.22.0->-r requirements.txt (line 3)) (1.1)\n",
      "Requirement already satisfied: python-dateutil in /opt/homebrew/lib/python3.11/site-packages (from streamlit==1.22.0->-r requirements.txt (line 3)) (2.8.2)\n",
      "Requirement already satisfied: rich>=10.11.0 in /opt/homebrew/lib/python3.11/site-packages (from streamlit==1.22.0->-r requirements.txt (line 3)) (13.7.1)\n",
      "Requirement already satisfied: toml in /opt/homebrew/lib/python3.11/site-packages (from streamlit==1.22.0->-r requirements.txt (line 3)) (0.10.2)\n",
      "Requirement already satisfied: typing-extensions>=3.10.0.0 in /opt/homebrew/lib/python3.11/site-packages (from streamlit==1.22.0->-r requirements.txt (line 3)) (4.8.0)\n",
      "Requirement already satisfied: tzlocal>=1.1 in /opt/homebrew/lib/python3.11/site-packages (from streamlit==1.22.0->-r requirements.txt (line 3)) (5.2)\n",
      "Requirement already satisfied: validators>=0.2 in /opt/homebrew/lib/python3.11/site-packages (from streamlit==1.22.0->-r requirements.txt (line 3)) (0.29.0)\n",
      "Requirement already satisfied: gitpython!=3.1.19 in /opt/homebrew/lib/python3.11/site-packages (from streamlit==1.22.0->-r requirements.txt (line 3)) (3.1.43)\n",
      "Requirement already satisfied: pydeck>=0.1.dev5 in /opt/homebrew/lib/python3.11/site-packages (from streamlit==1.22.0->-r requirements.txt (line 3)) (0.8.1b0)\n",
      "Requirement already satisfied: tornado>=6.0.3 in /opt/homebrew/lib/python3.11/site-packages (from streamlit==1.22.0->-r requirements.txt (line 3)) (6.3.3)\n",
      "Requirement already satisfied: regex>=2022.1.18 in /opt/homebrew/lib/python3.11/site-packages (from tiktoken==0.4.0->-r requirements.txt (line 4)) (2024.5.15)\n",
      "Requirement already satisfied: transformers<5.0.0,>=4.34.0 in /opt/homebrew/lib/python3.11/site-packages (from sentence-transformers->-r requirements.txt (line 10)) (4.42.3)\n",
      "Requirement already satisfied: tqdm in /opt/homebrew/lib/python3.11/site-packages (from sentence-transformers->-r requirements.txt (line 10)) (4.66.1)\n",
      "Requirement already satisfied: torch>=1.11.0 in /opt/homebrew/lib/python3.11/site-packages (from sentence-transformers->-r requirements.txt (line 10)) (2.1.1)\n",
      "Requirement already satisfied: scikit-learn in /opt/homebrew/lib/python3.11/site-packages (from sentence-transformers->-r requirements.txt (line 10)) (1.3.2)\n",
      "Requirement already satisfied: scipy in /opt/homebrew/lib/python3.11/site-packages (from sentence-transformers->-r requirements.txt (line 10)) (1.11.4)\n",
      "Requirement already satisfied: huggingface-hub>=0.15.1 in /opt/homebrew/lib/python3.11/site-packages (from sentence-transformers->-r requirements.txt (line 10)) (0.23.4)\n",
      "Requirement already satisfied: build>=1.0.3 in /opt/homebrew/lib/python3.11/site-packages (from chromadb->-r requirements.txt (line 11)) (1.2.1)\n",
      "Requirement already satisfied: chroma-hnswlib==0.7.3 in /opt/homebrew/lib/python3.11/site-packages (from chromadb->-r requirements.txt (line 11)) (0.7.3)\n",
      "Requirement already satisfied: fastapi>=0.95.2 in /opt/homebrew/lib/python3.11/site-packages (from chromadb->-r requirements.txt (line 11)) (0.111.0)\n",
      "Requirement already satisfied: uvicorn>=0.18.3 in /opt/homebrew/lib/python3.11/site-packages (from uvicorn[standard]>=0.18.3->chromadb->-r requirements.txt (line 11)) (0.30.1)\n",
      "Requirement already satisfied: posthog>=2.4.0 in /opt/homebrew/lib/python3.11/site-packages (from chromadb->-r requirements.txt (line 11)) (3.5.0)\n",
      "Requirement already satisfied: onnxruntime>=1.14.1 in /opt/homebrew/lib/python3.11/site-packages (from chromadb->-r requirements.txt (line 11)) (1.18.1)\n",
      "Requirement already satisfied: opentelemetry-api>=1.2.0 in /opt/homebrew/lib/python3.11/site-packages (from chromadb->-r requirements.txt (line 11)) (1.25.0)\n",
      "Requirement already satisfied: opentelemetry-exporter-otlp-proto-grpc>=1.2.0 in /opt/homebrew/lib/python3.11/site-packages (from chromadb->-r requirements.txt (line 11)) (1.25.0)\n",
      "Requirement already satisfied: opentelemetry-instrumentation-fastapi>=0.41b0 in /opt/homebrew/lib/python3.11/site-packages (from chromadb->-r requirements.txt (line 11)) (0.46b0)\n",
      "Requirement already satisfied: opentelemetry-sdk>=1.2.0 in /opt/homebrew/lib/python3.11/site-packages (from chromadb->-r requirements.txt (line 11)) (1.25.0)\n",
      "Requirement already satisfied: tokenizers>=0.13.2 in /opt/homebrew/lib/python3.11/site-packages (from chromadb->-r requirements.txt (line 11)) (0.19.1)\n",
      "Requirement already satisfied: pypika>=0.48.9 in /opt/homebrew/lib/python3.11/site-packages (from chromadb->-r requirements.txt (line 11)) (0.48.9)\n",
      "Requirement already satisfied: overrides>=7.3.1 in /opt/homebrew/lib/python3.11/site-packages (from chromadb->-r requirements.txt (line 11)) (7.4.0)\n",
      "Requirement already satisfied: importlib-resources in /opt/homebrew/lib/python3.11/site-packages (from chromadb->-r requirements.txt (line 11)) (6.4.0)\n",
      "Requirement already satisfied: grpcio>=1.58.0 in /opt/homebrew/lib/python3.11/site-packages (from chromadb->-r requirements.txt (line 11)) (1.64.1)\n",
      "Requirement already satisfied: bcrypt>=4.0.1 in /opt/homebrew/lib/python3.11/site-packages (from chromadb->-r requirements.txt (line 11)) (4.1.3)\n",
      "Requirement already satisfied: typer>=0.9.0 in /opt/homebrew/lib/python3.11/site-packages (from chromadb->-r requirements.txt (line 11)) (0.12.3)\n",
      "Requirement already satisfied: kubernetes>=28.1.0 in /opt/homebrew/lib/python3.11/site-packages (from chromadb->-r requirements.txt (line 11)) (30.1.0)\n",
      "Requirement already satisfied: mmh3>=4.0.1 in /opt/homebrew/lib/python3.11/site-packages (from chromadb->-r requirements.txt (line 11)) (4.1.0)\n",
      "Requirement already satisfied: orjson>=3.9.12 in /opt/homebrew/lib/python3.11/site-packages (from chromadb->-r requirements.txt (line 11)) (3.10.6)\n",
      "Requirement already satisfied: httpx>=0.27.0 in /opt/homebrew/lib/python3.11/site-packages (from chromadb->-r requirements.txt (line 11)) (0.27.0)\n",
      "Requirement already satisfied: aiosignal>=1.1.2 in /opt/homebrew/lib/python3.11/site-packages (from aiohttp<4.0.0,>=3.8.3->langchain==0.0.284->-r requirements.txt (line 1)) (1.3.1)\n",
      "Requirement already satisfied: attrs>=17.3.0 in /opt/homebrew/lib/python3.11/site-packages (from aiohttp<4.0.0,>=3.8.3->langchain==0.0.284->-r requirements.txt (line 1)) (23.1.0)\n",
      "Requirement already satisfied: frozenlist>=1.1.1 in /opt/homebrew/lib/python3.11/site-packages (from aiohttp<4.0.0,>=3.8.3->langchain==0.0.284->-r requirements.txt (line 1)) (1.4.1)\n",
      "Requirement already satisfied: multidict<7.0,>=4.5 in /opt/homebrew/lib/python3.11/site-packages (from aiohttp<4.0.0,>=3.8.3->langchain==0.0.284->-r requirements.txt (line 1)) (6.0.5)\n",
      "Requirement already satisfied: yarl<2.0,>=1.0 in /opt/homebrew/lib/python3.11/site-packages (from aiohttp<4.0.0,>=3.8.3->langchain==0.0.284->-r requirements.txt (line 1)) (1.9.4)\n",
      "Requirement already satisfied: entrypoints in /opt/homebrew/lib/python3.11/site-packages (from altair<5,>=3.2.0->streamlit==1.22.0->-r requirements.txt (line 3)) (0.4)\n",
      "Requirement already satisfied: jinja2 in /opt/homebrew/lib/python3.11/site-packages (from altair<5,>=3.2.0->streamlit==1.22.0->-r requirements.txt (line 3)) (3.1.2)\n",
      "Requirement already satisfied: jsonschema>=3.0 in /opt/homebrew/lib/python3.11/site-packages (from altair<5,>=3.2.0->streamlit==1.22.0->-r requirements.txt (line 3)) (4.20.0)\n",
      "Requirement already satisfied: toolz in /opt/homebrew/lib/python3.11/site-packages (from altair<5,>=3.2.0->streamlit==1.22.0->-r requirements.txt (line 3)) (0.12.1)\n",
      "Requirement already satisfied: pyproject_hooks in /opt/homebrew/lib/python3.11/site-packages (from build>=1.0.3->chromadb->-r requirements.txt (line 11)) (1.1.0)\n",
      "Requirement already satisfied: marshmallow<4.0.0,>=3.18.0 in /opt/homebrew/lib/python3.11/site-packages (from dataclasses-json<0.6.0,>=0.5.7->langchain==0.0.284->-r requirements.txt (line 1)) (3.21.3)\n",
      "Requirement already satisfied: typing-inspect<1,>=0.4.0 in /opt/homebrew/lib/python3.11/site-packages (from dataclasses-json<0.6.0,>=0.5.7->langchain==0.0.284->-r requirements.txt (line 1)) (0.9.0)\n",
      "Requirement already satisfied: starlette<0.38.0,>=0.37.2 in /opt/homebrew/lib/python3.11/site-packages (from fastapi>=0.95.2->chromadb->-r requirements.txt (line 11)) (0.37.2)\n",
      "Requirement already satisfied: fastapi-cli>=0.0.2 in /opt/homebrew/lib/python3.11/site-packages (from fastapi>=0.95.2->chromadb->-r requirements.txt (line 11)) (0.0.4)\n",
      "Requirement already satisfied: python-multipart>=0.0.7 in /opt/homebrew/lib/python3.11/site-packages (from fastapi>=0.95.2->chromadb->-r requirements.txt (line 11)) (0.0.9)\n",
      "Requirement already satisfied: ujson!=4.0.2,!=4.1.0,!=4.2.0,!=4.3.0,!=5.0.0,!=5.1.0,>=4.0.1 in /opt/homebrew/lib/python3.11/site-packages (from fastapi>=0.95.2->chromadb->-r requirements.txt (line 11)) (5.10.0)\n",
      "Requirement already satisfied: email_validator>=2.0.0 in /opt/homebrew/lib/python3.11/site-packages (from fastapi>=0.95.2->chromadb->-r requirements.txt (line 11)) (2.2.0)\n",
      "Requirement already satisfied: gitdb<5,>=4.0.1 in /opt/homebrew/lib/python3.11/site-packages (from gitpython!=3.1.19->streamlit==1.22.0->-r requirements.txt (line 3)) (4.0.11)\n",
      "Requirement already satisfied: anyio in /opt/homebrew/lib/python3.11/site-packages (from httpx>=0.27.0->chromadb->-r requirements.txt (line 11)) (4.0.0)\n",
      "Requirement already satisfied: certifi in /opt/homebrew/lib/python3.11/site-packages (from httpx>=0.27.0->chromadb->-r requirements.txt (line 11)) (2023.11.17)\n",
      "Requirement already satisfied: httpcore==1.* in /opt/homebrew/lib/python3.11/site-packages (from httpx>=0.27.0->chromadb->-r requirements.txt (line 11)) (1.0.5)\n",
      "Requirement already satisfied: idna in /opt/homebrew/lib/python3.11/site-packages (from httpx>=0.27.0->chromadb->-r requirements.txt (line 11)) (3.4)\n",
      "Requirement already satisfied: sniffio in /opt/homebrew/lib/python3.11/site-packages (from httpx>=0.27.0->chromadb->-r requirements.txt (line 11)) (1.3.0)\n",
      "Requirement already satisfied: h11<0.15,>=0.13 in /opt/homebrew/lib/python3.11/site-packages (from httpcore==1.*->httpx>=0.27.0->chromadb->-r requirements.txt (line 11)) (0.14.0)\n",
      "Requirement already satisfied: filelock in /opt/homebrew/lib/python3.11/site-packages (from huggingface-hub>=0.15.1->sentence-transformers->-r requirements.txt (line 10)) (3.13.1)\n",
      "Requirement already satisfied: fsspec>=2023.5.0 in /opt/homebrew/lib/python3.11/site-packages (from huggingface-hub>=0.15.1->sentence-transformers->-r requirements.txt (line 10)) (2024.6.1)\n",
      "Requirement already satisfied: zipp>=0.5 in /opt/homebrew/lib/python3.11/site-packages (from importlib-metadata>=1.4->streamlit==1.22.0->-r requirements.txt (line 3)) (3.19.2)\n",
      "Requirement already satisfied: six>=1.9.0 in /opt/homebrew/lib/python3.11/site-packages (from kubernetes>=28.1.0->chromadb->-r requirements.txt (line 11)) (1.16.0)\n",
      "Requirement already satisfied: google-auth>=1.0.1 in /opt/homebrew/lib/python3.11/site-packages (from kubernetes>=28.1.0->chromadb->-r requirements.txt (line 11)) (2.23.4)\n",
      "Requirement already satisfied: websocket-client!=0.40.0,!=0.41.*,!=0.42.*,>=0.32.0 in /opt/homebrew/lib/python3.11/site-packages (from kubernetes>=28.1.0->chromadb->-r requirements.txt (line 11)) (1.6.4)\n",
      "Requirement already satisfied: requests-oauthlib in /opt/homebrew/lib/python3.11/site-packages (from kubernetes>=28.1.0->chromadb->-r requirements.txt (line 11)) (1.3.1)\n",
      "Requirement already satisfied: oauthlib>=3.2.2 in /opt/homebrew/lib/python3.11/site-packages (from kubernetes>=28.1.0->chromadb->-r requirements.txt (line 11)) (3.2.2)\n",
      "Requirement already satisfied: urllib3>=1.24.2 in /opt/homebrew/lib/python3.11/site-packages (from kubernetes>=28.1.0->chromadb->-r requirements.txt (line 11)) (2.0.7)\n",
      "Requirement already satisfied: coloredlogs in /opt/homebrew/lib/python3.11/site-packages (from onnxruntime>=1.14.1->chromadb->-r requirements.txt (line 11)) (15.0.1)\n",
      "Requirement already satisfied: flatbuffers in /opt/homebrew/lib/python3.11/site-packages (from onnxruntime>=1.14.1->chromadb->-r requirements.txt (line 11)) (23.5.26)\n",
      "Requirement already satisfied: sympy in /opt/homebrew/lib/python3.11/site-packages (from onnxruntime>=1.14.1->chromadb->-r requirements.txt (line 11)) (1.12)\n",
      "Requirement already satisfied: deprecated>=1.2.6 in /opt/homebrew/lib/python3.11/site-packages (from opentelemetry-api>=1.2.0->chromadb->-r requirements.txt (line 11)) (1.2.14)\n",
      "Requirement already satisfied: googleapis-common-protos~=1.52 in /opt/homebrew/lib/python3.11/site-packages (from opentelemetry-exporter-otlp-proto-grpc>=1.2.0->chromadb->-r requirements.txt (line 11)) (1.63.1)\n",
      "Requirement already satisfied: opentelemetry-exporter-otlp-proto-common==1.25.0 in /opt/homebrew/lib/python3.11/site-packages (from opentelemetry-exporter-otlp-proto-grpc>=1.2.0->chromadb->-r requirements.txt (line 11)) (1.25.0)\n",
      "Requirement already satisfied: opentelemetry-proto==1.25.0 in /opt/homebrew/lib/python3.11/site-packages (from opentelemetry-exporter-otlp-proto-grpc>=1.2.0->chromadb->-r requirements.txt (line 11)) (1.25.0)\n",
      "Requirement already satisfied: opentelemetry-instrumentation-asgi==0.46b0 in /opt/homebrew/lib/python3.11/site-packages (from opentelemetry-instrumentation-fastapi>=0.41b0->chromadb->-r requirements.txt (line 11)) (0.46b0)\n",
      "Requirement already satisfied: opentelemetry-instrumentation==0.46b0 in /opt/homebrew/lib/python3.11/site-packages (from opentelemetry-instrumentation-fastapi>=0.41b0->chromadb->-r requirements.txt (line 11)) (0.46b0)\n",
      "Requirement already satisfied: opentelemetry-semantic-conventions==0.46b0 in /opt/homebrew/lib/python3.11/site-packages (from opentelemetry-instrumentation-fastapi>=0.41b0->chromadb->-r requirements.txt (line 11)) (0.46b0)\n",
      "Requirement already satisfied: opentelemetry-util-http==0.46b0 in /opt/homebrew/lib/python3.11/site-packages (from opentelemetry-instrumentation-fastapi>=0.41b0->chromadb->-r requirements.txt (line 11)) (0.46b0)\n",
      "Requirement already satisfied: setuptools>=16.0 in /opt/homebrew/lib/python3.11/site-packages (from opentelemetry-instrumentation==0.46b0->opentelemetry-instrumentation-fastapi>=0.41b0->chromadb->-r requirements.txt (line 11)) (69.1.1)\n",
      "Requirement already satisfied: wrapt<2.0.0,>=1.0.0 in /opt/homebrew/lib/python3.11/site-packages (from opentelemetry-instrumentation==0.46b0->opentelemetry-instrumentation-fastapi>=0.41b0->chromadb->-r requirements.txt (line 11)) (1.14.1)\n",
      "Requirement already satisfied: asgiref~=3.0 in /opt/homebrew/lib/python3.11/site-packages (from opentelemetry-instrumentation-asgi==0.46b0->opentelemetry-instrumentation-fastapi>=0.41b0->chromadb->-r requirements.txt (line 11)) (3.8.1)\n",
      "Requirement already satisfied: pytz>=2020.1 in /opt/homebrew/lib/python3.11/site-packages (from pandas<3,>=0.25->streamlit==1.22.0->-r requirements.txt (line 3)) (2023.3.post1)\n",
      "Requirement already satisfied: tzdata>=2022.1 in /opt/homebrew/lib/python3.11/site-packages (from pandas<3,>=0.25->streamlit==1.22.0->-r requirements.txt (line 3)) (2023.3)\n",
      "Requirement already satisfied: monotonic>=1.5 in /opt/homebrew/lib/python3.11/site-packages (from posthog>=2.4.0->chromadb->-r requirements.txt (line 11)) (1.6)\n",
      "Requirement already satisfied: backoff>=1.10.0 in /opt/homebrew/lib/python3.11/site-packages (from posthog>=2.4.0->chromadb->-r requirements.txt (line 11)) (2.2.1)\n",
      "Requirement already satisfied: annotated-types>=0.4.0 in /opt/homebrew/lib/python3.11/site-packages (from pydantic<3,>=1->langchain==0.0.284->-r requirements.txt (line 1)) (0.7.0)\n",
      "Requirement already satisfied: pydantic-core==2.20.1 in /opt/homebrew/lib/python3.11/site-packages (from pydantic<3,>=1->langchain==0.0.284->-r requirements.txt (line 1)) (2.20.1)\n",
      "Requirement already satisfied: charset-normalizer<4,>=2 in /opt/homebrew/lib/python3.11/site-packages (from requests<3,>=2->langchain==0.0.284->-r requirements.txt (line 1)) (3.3.2)\n",
      "Requirement already satisfied: markdown-it-py>=2.2.0 in /opt/homebrew/lib/python3.11/site-packages (from rich>=10.11.0->streamlit==1.22.0->-r requirements.txt (line 3)) (3.0.0)\n",
      "Requirement already satisfied: pygments<3.0.0,>=2.13.0 in /opt/homebrew/lib/python3.11/site-packages (from rich>=10.11.0->streamlit==1.22.0->-r requirements.txt (line 3)) (2.17.1)\n",
      "Requirement already satisfied: networkx in /opt/homebrew/lib/python3.11/site-packages (from torch>=1.11.0->sentence-transformers->-r requirements.txt (line 10)) (3.2.1)\n",
      "Requirement already satisfied: safetensors>=0.4.1 in /opt/homebrew/lib/python3.11/site-packages (from transformers<5.0.0,>=4.34.0->sentence-transformers->-r requirements.txt (line 10)) (0.4.3)\n",
      "Requirement already satisfied: shellingham>=1.3.0 in /opt/homebrew/lib/python3.11/site-packages (from typer>=0.9.0->chromadb->-r requirements.txt (line 11)) (1.5.4)\n",
      "Requirement already satisfied: httptools>=0.5.0 in /opt/homebrew/lib/python3.11/site-packages (from uvicorn[standard]>=0.18.3->chromadb->-r requirements.txt (line 11)) (0.6.1)\n",
      "Requirement already satisfied: uvloop!=0.15.0,!=0.15.1,>=0.14.0 in /opt/homebrew/lib/python3.11/site-packages (from uvicorn[standard]>=0.18.3->chromadb->-r requirements.txt (line 11)) (0.19.0)\n",
      "Requirement already satisfied: watchfiles>=0.13 in /opt/homebrew/lib/python3.11/site-packages (from uvicorn[standard]>=0.18.3->chromadb->-r requirements.txt (line 11)) (0.22.0)\n",
      "Requirement already satisfied: websockets>=10.4 in /opt/homebrew/lib/python3.11/site-packages (from uvicorn[standard]>=0.18.3->chromadb->-r requirements.txt (line 11)) (12.0)\n",
      "Requirement already satisfied: joblib>=1.1.1 in /opt/homebrew/lib/python3.11/site-packages (from scikit-learn->sentence-transformers->-r requirements.txt (line 10)) (1.3.2)\n",
      "Requirement already satisfied: threadpoolctl>=2.0.0 in /opt/homebrew/lib/python3.11/site-packages (from scikit-learn->sentence-transformers->-r requirements.txt (line 10)) (3.2.0)\n",
      "Requirement already satisfied: dnspython>=2.0.0 in /opt/homebrew/lib/python3.11/site-packages (from email_validator>=2.0.0->fastapi>=0.95.2->chromadb->-r requirements.txt (line 11)) (2.6.1)\n",
      "Requirement already satisfied: smmap<6,>=3.0.1 in /opt/homebrew/lib/python3.11/site-packages (from gitdb<5,>=4.0.1->gitpython!=3.1.19->streamlit==1.22.0->-r requirements.txt (line 3)) (5.0.1)\n",
      "Requirement already satisfied: pyasn1-modules>=0.2.1 in /opt/homebrew/lib/python3.11/site-packages (from google-auth>=1.0.1->kubernetes>=28.1.0->chromadb->-r requirements.txt (line 11)) (0.3.0)\n",
      "Requirement already satisfied: rsa<5,>=3.1.4 in /opt/homebrew/lib/python3.11/site-packages (from google-auth>=1.0.1->kubernetes>=28.1.0->chromadb->-r requirements.txt (line 11)) (4.9)\n",
      "Requirement already satisfied: MarkupSafe>=2.0 in /opt/homebrew/lib/python3.11/site-packages (from jinja2->altair<5,>=3.2.0->streamlit==1.22.0->-r requirements.txt (line 3)) (2.1.3)\n",
      "Requirement already satisfied: jsonschema-specifications>=2023.03.6 in /opt/homebrew/lib/python3.11/site-packages (from jsonschema>=3.0->altair<5,>=3.2.0->streamlit==1.22.0->-r requirements.txt (line 3)) (2023.11.1)\n",
      "Requirement already satisfied: referencing>=0.28.4 in /opt/homebrew/lib/python3.11/site-packages (from jsonschema>=3.0->altair<5,>=3.2.0->streamlit==1.22.0->-r requirements.txt (line 3)) (0.31.0)\n",
      "Requirement already satisfied: rpds-py>=0.7.1 in /opt/homebrew/lib/python3.11/site-packages (from jsonschema>=3.0->altair<5,>=3.2.0->streamlit==1.22.0->-r requirements.txt (line 3)) (0.13.0)\n",
      "Requirement already satisfied: mdurl~=0.1 in /opt/homebrew/lib/python3.11/site-packages (from markdown-it-py>=2.2.0->rich>=10.11.0->streamlit==1.22.0->-r requirements.txt (line 3)) (0.1.2)\n",
      "Requirement already satisfied: mypy-extensions>=0.3.0 in /opt/homebrew/lib/python3.11/site-packages (from typing-inspect<1,>=0.4.0->dataclasses-json<0.6.0,>=0.5.7->langchain==0.0.284->-r requirements.txt (line 1)) (1.0.0)\n",
      "Requirement already satisfied: humanfriendly>=9.1 in /opt/homebrew/lib/python3.11/site-packages (from coloredlogs->onnxruntime>=1.14.1->chromadb->-r requirements.txt (line 11)) (10.0)\n",
      "Requirement already satisfied: mpmath>=0.19 in /opt/homebrew/lib/python3.11/site-packages (from sympy->onnxruntime>=1.14.1->chromadb->-r requirements.txt (line 11)) (1.3.0)\n",
      "Requirement already satisfied: pyasn1<0.6.0,>=0.4.6 in /opt/homebrew/lib/python3.11/site-packages (from pyasn1-modules>=0.2.1->google-auth>=1.0.1->kubernetes>=28.1.0->chromadb->-r requirements.txt (line 11)) (0.5.0)\n"
     ]
    }
   ],
   "source": [
    "!pip3 install -r requirements.txt"
   ]
  },
  {
   "cell_type": "code",
   "execution_count": 2,
   "id": "23c93217",
   "metadata": {},
   "outputs": [
    {
     "name": "stdout",
     "output_type": "stream",
     "text": [
      "Requirement already satisfied: google-generativeai in /opt/homebrew/lib/python3.11/site-packages (0.7.1)\n",
      "Requirement already satisfied: google-ai-generativelanguage==0.6.6 in /opt/homebrew/lib/python3.11/site-packages (from google-generativeai) (0.6.6)\n",
      "Requirement already satisfied: google-api-core in /opt/homebrew/lib/python3.11/site-packages (from google-generativeai) (2.19.1)\n",
      "Requirement already satisfied: google-api-python-client in /opt/homebrew/lib/python3.11/site-packages (from google-generativeai) (2.136.0)\n",
      "Requirement already satisfied: google-auth>=2.15.0 in /opt/homebrew/lib/python3.11/site-packages (from google-generativeai) (2.23.4)\n",
      "Requirement already satisfied: protobuf in /opt/homebrew/lib/python3.11/site-packages (from google-generativeai) (3.19.6)\n",
      "Requirement already satisfied: pydantic in /opt/homebrew/lib/python3.11/site-packages (from google-generativeai) (2.8.1)\n",
      "Requirement already satisfied: tqdm in /opt/homebrew/lib/python3.11/site-packages (from google-generativeai) (4.66.1)\n",
      "Requirement already satisfied: typing-extensions in /opt/homebrew/lib/python3.11/site-packages (from google-generativeai) (4.8.0)\n",
      "Requirement already satisfied: proto-plus<2.0.0dev,>=1.22.3 in /opt/homebrew/lib/python3.11/site-packages (from google-ai-generativelanguage==0.6.6->google-generativeai) (1.24.0)\n",
      "Requirement already satisfied: googleapis-common-protos<2.0.dev0,>=1.56.2 in /opt/homebrew/lib/python3.11/site-packages (from google-api-core->google-generativeai) (1.63.1)\n",
      "Requirement already satisfied: requests<3.0.0.dev0,>=2.18.0 in /opt/homebrew/lib/python3.11/site-packages (from google-api-core->google-generativeai) (2.31.0)\n",
      "Requirement already satisfied: cachetools<6.0,>=2.0.0 in /opt/homebrew/lib/python3.11/site-packages (from google-auth>=2.15.0->google-generativeai) (5.3.2)\n",
      "Requirement already satisfied: pyasn1-modules>=0.2.1 in /opt/homebrew/lib/python3.11/site-packages (from google-auth>=2.15.0->google-generativeai) (0.3.0)\n",
      "Requirement already satisfied: rsa<5,>=3.1.4 in /opt/homebrew/lib/python3.11/site-packages (from google-auth>=2.15.0->google-generativeai) (4.9)\n",
      "Requirement already satisfied: httplib2<1.dev0,>=0.19.0 in /opt/homebrew/lib/python3.11/site-packages (from google-api-python-client->google-generativeai) (0.22.0)\n",
      "Requirement already satisfied: google-auth-httplib2<1.0.0,>=0.2.0 in /opt/homebrew/lib/python3.11/site-packages (from google-api-python-client->google-generativeai) (0.2.0)\n",
      "Requirement already satisfied: uritemplate<5,>=3.0.1 in /opt/homebrew/lib/python3.11/site-packages (from google-api-python-client->google-generativeai) (4.1.1)\n",
      "Requirement already satisfied: annotated-types>=0.4.0 in /opt/homebrew/lib/python3.11/site-packages (from pydantic->google-generativeai) (0.7.0)\n",
      "Requirement already satisfied: pydantic-core==2.20.1 in /opt/homebrew/lib/python3.11/site-packages (from pydantic->google-generativeai) (2.20.1)\n",
      "Requirement already satisfied: grpcio<2.0dev,>=1.33.2 in /opt/homebrew/lib/python3.11/site-packages (from google-api-core[grpc]!=2.0.*,!=2.1.*,!=2.10.*,!=2.2.*,!=2.3.*,!=2.4.*,!=2.5.*,!=2.6.*,!=2.7.*,!=2.8.*,!=2.9.*,<3.0.0dev,>=1.34.1->google-ai-generativelanguage==0.6.6->google-generativeai) (1.64.1)\n",
      "Requirement already satisfied: grpcio-status<2.0.dev0,>=1.33.2 in /opt/homebrew/lib/python3.11/site-packages (from google-api-core[grpc]!=2.0.*,!=2.1.*,!=2.10.*,!=2.2.*,!=2.3.*,!=2.4.*,!=2.5.*,!=2.6.*,!=2.7.*,!=2.8.*,!=2.9.*,<3.0.0dev,>=1.34.1->google-ai-generativelanguage==0.6.6->google-generativeai) (1.62.2)\n",
      "Requirement already satisfied: pyparsing!=3.0.0,!=3.0.1,!=3.0.2,!=3.0.3,<4,>=2.4.2 in /opt/homebrew/lib/python3.11/site-packages (from httplib2<1.dev0,>=0.19.0->google-api-python-client->google-generativeai) (3.1.1)\n",
      "Requirement already satisfied: pyasn1<0.6.0,>=0.4.6 in /opt/homebrew/lib/python3.11/site-packages (from pyasn1-modules>=0.2.1->google-auth>=2.15.0->google-generativeai) (0.5.0)\n",
      "Requirement already satisfied: charset-normalizer<4,>=2 in /opt/homebrew/lib/python3.11/site-packages (from requests<3.0.0.dev0,>=2.18.0->google-api-core->google-generativeai) (3.3.2)\n",
      "Requirement already satisfied: idna<4,>=2.5 in /opt/homebrew/lib/python3.11/site-packages (from requests<3.0.0.dev0,>=2.18.0->google-api-core->google-generativeai) (3.4)\n",
      "Requirement already satisfied: urllib3<3,>=1.21.1 in /opt/homebrew/lib/python3.11/site-packages (from requests<3.0.0.dev0,>=2.18.0->google-api-core->google-generativeai) (2.0.7)\n",
      "Requirement already satisfied: certifi>=2017.4.17 in /opt/homebrew/lib/python3.11/site-packages (from requests<3.0.0.dev0,>=2.18.0->google-api-core->google-generativeai) (2023.11.17)\n",
      "Collecting protobuf (from google-generativeai)\n",
      "  Using cached protobuf-4.25.3-cp37-abi3-macosx_10_9_universal2.whl.metadata (541 bytes)\n",
      "Using cached protobuf-4.25.3-cp37-abi3-macosx_10_9_universal2.whl (394 kB)\n",
      "Installing collected packages: protobuf\n",
      "  Attempting uninstall: protobuf\n",
      "    Found existing installation: protobuf 3.19.6\n",
      "    Uninstalling protobuf-3.19.6:\n",
      "      Successfully uninstalled protobuf-3.19.6\n",
      "\u001b[31mERROR: pip's dependency resolver does not currently take into account all the packages that are installed. This behaviour is the source of the following dependency conflicts.\n",
      "tensorboard 2.15.1 requires protobuf<4.24,>=3.19.6, but you have protobuf 4.25.3 which is incompatible.\n",
      "streamlit 1.22.0 requires protobuf<4,>=3.12, but you have protobuf 4.25.3 which is incompatible.\u001b[0m\u001b[31m\n",
      "\u001b[0mSuccessfully installed protobuf-4.25.3\n"
     ]
    }
   ],
   "source": [
    "!pip3 install google-generativeai"
   ]
  },
  {
   "cell_type": "code",
   "execution_count": 3,
   "id": "33dc0a55",
   "metadata": {},
   "outputs": [
    {
     "data": {
      "text/plain": [
       "True"
      ]
     },
     "execution_count": 3,
     "metadata": {},
     "output_type": "execute_result"
    }
   ],
   "source": [
    "import os\n",
    "from dotenv import load_dotenv\n",
    "load_dotenv() "
   ]
  },
  {
   "cell_type": "code",
   "execution_count": 4,
   "id": "ceac1aa1",
   "metadata": {},
   "outputs": [],
   "source": [
    "from langchain.llms import GooglePalm\n",
    "\n",
    "llm = GooglePalm(google_api_key=os.getenv(\"GOOGLE_API_KEY\"), temperature=0.2)"
   ]
  },
  {
   "cell_type": "code",
   "execution_count": 5,
   "id": "26eec26e",
   "metadata": {},
   "outputs": [],
   "source": [
    "conversation = llm(\"Create a conversation between an old man and a toddler\")"
   ]
  },
  {
   "cell_type": "code",
   "execution_count": 6,
   "id": "a7b64070",
   "metadata": {},
   "outputs": [
    {
     "data": {
      "text/plain": [
       "\"**Old Man:** Hello there, little one.\\n\\n**Toddler:** Hi!\\n\\n**Old Man:** What's your name?\\n\\n**Toddler:** My name is [Toddler's name].\\n\\n**Old Man:** It's nice to meet you, [Toddler's name]. What are you doing today?\\n\\n**Toddler:** I'm playing with my toys.\\n\\n**Old Man:** That sounds like fun. I used to love playing with toys when I was your age.\\n\\n**Toddler:** What kind of toys did you like to play with?\\n\\n**Old Man:** I liked to play with blocks, cars, and toy soldiers.\\n\\n**Toddler:** Those sound like fun toys. I like to play with blocks too.\\n\\n**Old Man:** Blocks are great. You can build all sorts of things with them.\\n\\n**Toddler:** I like to build towers.\\n\\n**Old Man:** Towers are fun. I used to build towers all the time when I was your age.\\n\\n**Toddler:** I'm going to build a big tower.\\n\\n**Old Man:** I'm sure you will. You're a very good builder.\\n\\n**Toddler:** Thanks!\\n\\n**Old Man:** You're welcome.\\n\\n**Toddler:** (builds a tower)\\n\\n**Old Man:** Wow! That's a great tower.\\n\\n**Toddler:** Thanks!\\n\\n**Old Man:** You're welcome.\\n\\n**Toddler:** (knocks over the tower)\\n\\n**Old Man:** Oh no! Your tower fell down.\\n\\n**Toddler:** It's okay. I can build it again.\\n\\n**Old Man:** I'm sure you can.\\n\\n**Toddler:** (builds the tower again)\\n\\n**Old Man:** That's great! You're a very talented builder.\\n\\n**Toddler:** Thanks!\\n\\n**Old Man:** You're welcome.\\n\\n**Toddler:** (plays with the tower)\\n\\n**Old Man:** (watches the toddler play)\\n\\n**Toddler:** (has fun)\\n\\n**Old Man:** (smiles)\""
      ]
     },
     "execution_count": 6,
     "metadata": {},
     "output_type": "execute_result"
    }
   ],
   "source": [
    "##Connect with database and ask some basic questions\n",
    "conversation"
   ]
  },
  {
   "cell_type": "code",
   "execution_count": 7,
   "id": "dc11ab78",
   "metadata": {},
   "outputs": [],
   "source": [
    "from langchain.utilities import SQLDatabase\n",
    "from langchain_experimental.sql import SQLDatabaseChain"
   ]
  },
  {
   "cell_type": "code",
   "execution_count": 8,
   "id": "cb554600",
   "metadata": {},
   "outputs": [
    {
     "name": "stdout",
     "output_type": "stream",
     "text": [
      "\n",
      "CREATE TABLE autoinsurance (\n",
      "\t`Customer` VARCHAR(7) NOT NULL, \n",
      "\t`State` VARCHAR(20), \n",
      "\t`Customer_Lifetime_Value` DOUBLE, \n",
      "\t`Response` VARCHAR(3), \n",
      "\t`Coverage` VARCHAR(10), \n",
      "\t`Education` VARCHAR(30), \n",
      "\t`Effective_To_Date` DATE, \n",
      "\t`EmploymentStatus` VARCHAR(15), \n",
      "\t`Gender` VARCHAR(6), \n",
      "\t`Income` MEDIUMTEXT, \n",
      "\t`Location_Code` VARCHAR(15), \n",
      "\t`Marital_Status` VARCHAR(15), \n",
      "\t`Monthly_Premium_Auto` INTEGER, \n",
      "\t`Months_Since_Last_Claim` INTEGER, \n",
      "\t`Months_Since_Policy_Inception` INTEGER, \n",
      "\t`Number_of_Open_Complaints` INTEGER, \n",
      "\t`Number_of_Policies` INTEGER, \n",
      "\t`Policy_Type` VARCHAR(30), \n",
      "\t`Policy` VARCHAR(30), \n",
      "\t`Renew_Offer_Type` VARCHAR(10), \n",
      "\t`Sales_Channel` VARCHAR(15), \n",
      "\t`Total_Claim_Amount` DOUBLE, \n",
      "\t`Vehicle_Class` VARCHAR(25), \n",
      "\t`Vehicle_Size` VARCHAR(10), \n",
      "\tPRIMARY KEY (`Customer`)\n",
      ")ENGINE=InnoDB DEFAULT CHARSET=utf8mb4 COLLATE utf8mb4_0900_ai_ci\n",
      "\n",
      "/*\n",
      "3 rows from autoinsurance table:\n",
      "Customer\tState\tCustomer_Lifetime_Value\tResponse\tCoverage\tEducation\tEffective_To_Date\tEmploymentStatus\tGender\tIncome\tLocation_Code\tMarital_Status\tMonthly_Premium_Auto\tMonths_Since_Last_Claim\tMonths_Since_Policy_Inception\tNumber_of_Open_Complaints\tNumber_of_Policies\tPolicy_Type\tPolicy\tRenew_Offer_Type\tSales_Channel\tTotal_Claim_Amount\tVehicle_Class\tVehicle_Size\n",
      "AA10041\tCalifornia\t7901.7442380000\tNo\tBasic\tHigh School or Below\t2011-02-02\tUnemployed\tM\t0\tSuburban\tSingle\t113\t35\t83\t0\t5\tPersonal Auto\tPersonal L3\tOffer1\tCall Center\t1258.3278040000\tSUV\tMedsize\n",
      "AA11235\tNevada\t2568.8433960000\tNo\tBasic\tBachelor\t2011-01-28\tMedical Leave\tF\t11167\tSuburban\tMarried\t73\t0\t99\t3\t1\tPersonal Auto\tPersonal L3\tOffer2\tBranch\t350.4000000000\tTwo-Door Car\tMedsize\n",
      "AA16582\tWashington\t24127.5040200000\tYes\tBasic\tBachelor\t2011-01-26\tMedical Leave\tM\t14072\tSuburban\tDivorced\t71\t13\t3\t0\t2\tPersonal Auto\tPersonal L2\tOffer1\tAgent\t511.2000000000\tFour-Door Car\tMedsize\n",
      "*/\n"
     ]
    }
   ],
   "source": [
    "db_user = os.getenv(\"db_user\")\n",
    "db_password = os.getenv(\"db_password\")\n",
    "db_host = os.getenv(\"db_host\")\n",
    "db_name = os.getenv(\"db_name\")\n",
    "\n",
    "db = SQLDatabase.from_uri(f\"mysql+pymysql://{db_user}:{db_password}@{db_host}/{db_name}\",sample_rows_in_table_info=3)\n",
    "\n",
    "print(db.table_info)"
   ]
  },
  {
   "cell_type": "code",
   "execution_count": 9,
   "id": "c6eb3072",
   "metadata": {},
   "outputs": [],
   "source": [
    "### my sql based instruction prompt\n",
    "mysql_prompt = \"\"\"You are a MySQL expert. Given an input question, first create a syntactically correct MySQL query to run, then look at the results of the query and return the answer to the input question.\n",
    "Unless the user specifies in the question a specific number of examples to obtain, query for at most {top_k} results using the LIMIT clause as per MySQL. You can order the results to return the most informative data in the database.\n",
    "Never query for all columns from a table. You must query only the columns that are needed to answer the question. Wrap each column name in backticks (`) to denote them as delimited identifiers.\n",
    "Pay attention to use only the column names you can see in the tables below. Be careful to not query for columns that do not exist. Also, pay attention to which column is in which table.\n",
    "Pay attention to use CURDATE() function to get the current date, if the question involves \"today\".\n",
    "\n",
    "Use the following format:\n",
    "\n",
    "Question: Question here\n",
    "SQLQuery: Query to run with no pre-amble\n",
    "SQLResult: Result of the SQLQuery\n",
    "Answer: Final answer here\n",
    "\n",
    "No pre-amble.\"\"\""
   ]
  },
  {
   "cell_type": "code",
   "execution_count": 10,
   "id": "97c6f404",
   "metadata": {},
   "outputs": [
    {
     "name": "stdout",
     "output_type": "stream",
     "text": [
      "\n",
      "\n",
      "\u001b[1m> Entering new SQLDatabaseChain chain...\u001b[0m\n",
      "how many states data is available and name them?\n",
      "SQLQuery:\u001b[32;1m\u001b[1;3mSELECT DISTINCT State FROM autoinsurance\u001b[0m\n",
      "SQLResult: \u001b[33;1m\u001b[1;3m[('California',), ('Nevada',), ('Washington',), ('Arizona',), ('Oregon',)]\u001b[0m\n",
      "Answer:\u001b[32;1m\u001b[1;3m5, California, Nevada, Washington, Arizona, Oregon\u001b[0m\n",
      "\u001b[1m> Finished chain.\u001b[0m\n"
     ]
    }
   ],
   "source": [
    "db_chain = SQLDatabaseChain.from_llm(llm, db, verbose=True)\n",
    "qns1 = db_chain(\"how many states data is available and name them?\")"
   ]
  },
  {
   "cell_type": "code",
   "execution_count": 11,
   "id": "8ddb7852",
   "metadata": {},
   "outputs": [
    {
     "name": "stdout",
     "output_type": "stream",
     "text": [
      "\n",
      "\n",
      "\u001b[1m> Entering new SQLDatabaseChain chain...\u001b[0m\n",
      "can u give the count of different sales channel from the data\n",
      "SQLQuery:\u001b[32;1m\u001b[1;3mSELECT COUNT(DISTINCT Sales_Channel) FROM autoinsurance\u001b[0m\n",
      "SQLResult: \u001b[33;1m\u001b[1;3m[(4,)]\u001b[0m\n",
      "Answer:\u001b[32;1m\u001b[1;3m4\u001b[0m\n",
      "\u001b[1m> Finished chain.\u001b[0m\n"
     ]
    }
   ],
   "source": [
    "qns2 = db_chain.run(\"can u give the count of different sales channel from the data\")"
   ]
  },
  {
   "cell_type": "code",
   "execution_count": 12,
   "id": "5ecf2a19",
   "metadata": {},
   "outputs": [
    {
     "name": "stdout",
     "output_type": "stream",
     "text": [
      "\n",
      "\n",
      "\u001b[1m> Entering new SQLDatabaseChain chain...\u001b[0m\n",
      "whow many different sales channel are present\n",
      "SQLQuery:\u001b[32;1m\u001b[1;3mSELECT COUNT(DISTINCT Sales_Channel) FROM autoinsurance\u001b[0m\n",
      "SQLResult: \u001b[33;1m\u001b[1;3m[(4,)]\u001b[0m\n",
      "Answer:\u001b[32;1m\u001b[1;3m4\u001b[0m\n",
      "\u001b[1m> Finished chain.\u001b[0m\n"
     ]
    }
   ],
   "source": [
    "qns3 = db_chain(\"whow many different sales channel are present\")"
   ]
  },
  {
   "cell_type": "code",
   "execution_count": 13,
   "id": "cd253e3d",
   "metadata": {},
   "outputs": [
    {
     "name": "stdout",
     "output_type": "stream",
     "text": [
      "\n",
      "\n",
      "\u001b[1m> Entering new SQLDatabaseChain chain...\u001b[0m\n",
      "how many male and female are there?\n",
      "SQLQuery:\u001b[32;1m\u001b[1;3mSELECT COUNT(DISTINCT Gender) FROM autoinsurance\u001b[0m\n",
      "SQLResult: \u001b[33;1m\u001b[1;3m[(2,)]\u001b[0m\n",
      "Answer:\u001b[32;1m\u001b[1;3m2\u001b[0m\n",
      "\u001b[1m> Finished chain.\u001b[0m\n"
     ]
    }
   ],
   "source": [
    "qns4 = db_chain(\"how many male and female are there?\")"
   ]
  },
  {
   "cell_type": "code",
   "execution_count": 14,
   "id": "dd72abbd",
   "metadata": {},
   "outputs": [
    {
     "name": "stdout",
     "output_type": "stream",
     "text": [
      "\n",
      "\n",
      "\u001b[1m> Entering new SQLDatabaseChain chain...\u001b[0m\n",
      "what is the average monthly premium\n",
      "SQLQuery:\u001b[32;1m\u001b[1;3mSELECT AVG(Monthly_Premium_Auto) FROM autoinsurance\u001b[0m\n",
      "SQLResult: \u001b[33;1m\u001b[1;3m[(Decimal('93.2193'),)]\u001b[0m\n",
      "Answer:\u001b[32;1m\u001b[1;3m93.2193\u001b[0m\n",
      "\u001b[1m> Finished chain.\u001b[0m\n"
     ]
    }
   ],
   "source": [
    "qns5 = db_chain(\"what is the average monthly premium\")"
   ]
  },
  {
   "cell_type": "code",
   "execution_count": 16,
   "id": "ca7ea2a9",
   "metadata": {},
   "outputs": [
    {
     "name": "stdout",
     "output_type": "stream",
     "text": [
      "\n",
      "\n",
      "\u001b[1m> Entering new SQLDatabaseChain chain...\u001b[0m\n",
      "what is the average monthly premium in the state Washington \n",
      "SQLQuery:\u001b[32;1m\u001b[1;3mSELECT AVG(Monthly_Premium_Auto) FROM autoinsurance WHERE State = 'Washington'\u001b[0m\n",
      "SQLResult: \u001b[33;1m\u001b[1;3m[(Decimal('92.0313'),)]\u001b[0m\n",
      "Answer:\u001b[32;1m\u001b[1;3m92.0313\u001b[0m\n",
      "\u001b[1m> Finished chain.\u001b[0m\n"
     ]
    }
   ],
   "source": [
    "qns5 = db_chain(\"what is the average monthly premium in the state Washington \")"
   ]
  },
  {
   "cell_type": "code",
   "execution_count": 17,
   "id": "1ecabd59",
   "metadata": {},
   "outputs": [
    {
     "name": "stdout",
     "output_type": "stream",
     "text": [
      "\n",
      "\n",
      "\u001b[1m> Entering new SQLDatabaseChain chain...\u001b[0m\n",
      "how many years data is present \n",
      "SQLQuery:\u001b[32;1m\u001b[1;3mSELECT DISTINCT YEAR(Effective_To_Date) FROM autoinsurance\u001b[0m\n",
      "SQLResult: \u001b[33;1m\u001b[1;3m[(2011,)]\u001b[0m\n",
      "Answer:\u001b[32;1m\u001b[1;3m1\u001b[0m\n",
      "\u001b[1m> Finished chain.\u001b[0m\n"
     ]
    }
   ],
   "source": [
    "qns6 = db_chain(\"how many years data is present \")"
   ]
  },
  {
   "cell_type": "code",
   "execution_count": null,
   "id": "fd272e5d",
   "metadata": {},
   "outputs": [],
   "source": []
  }
 ],
 "metadata": {
  "kernelspec": {
   "display_name": "Python 3 (ipykernel)",
   "language": "python",
   "name": "python3"
  },
  "language_info": {
   "codemirror_mode": {
    "name": "ipython",
    "version": 3
   },
   "file_extension": ".py",
   "mimetype": "text/x-python",
   "name": "python",
   "nbconvert_exporter": "python",
   "pygments_lexer": "ipython3",
   "version": "3.11.6"
  }
 },
 "nbformat": 4,
 "nbformat_minor": 5
}
